{
 "cells": [
  {
   "cell_type": "markdown",
   "source": [
    "## Supervised Learning Homework 1"
   ],
   "metadata": {
    "collapsed": false
   }
  },
  {
   "cell_type": "markdown",
   "source": [
    "### Loading the dataset"
   ],
   "metadata": {
    "collapsed": false
   }
  },
  {
   "cell_type": "code",
   "execution_count": 2,
   "outputs": [
    {
     "name": "stdout",
     "output_type": "stream",
     "text": [
      "dict_keys(['description', 'relation', 'attributes', 'data'])\n",
      "dict_keys(['description', 'relation', 'attributes', 'data'])\n"
     ]
    }
   ],
   "source": [
    "import arff\n",
    "import pandas as pd\n",
    "import numpy as np\n",
    "\n",
    "fp = open('data1/train_subset_discretized.arff')\n",
    "fp2 = open('data1/test_discretized.arff')\n",
    "data = arff.loads(fp)\n",
    "print(data.keys())\n",
    "data2 = arff.loads(fp2)\n",
    "print(data2.keys())"
   ],
   "metadata": {
    "collapsed": false,
    "pycharm": {
     "name": "#%%\n"
    }
   }
  },
  {
   "cell_type": "code",
   "execution_count": 3,
   "outputs": [
    {
     "name": "stdout",
     "output_type": "stream",
     "text": [
      "  WhichDoYouWearMostFrequent YourFavoriteLegcareBrand Registration Gender  \\\n",
      "0                       None                     None                None   \n",
      "1                       None                     None                None   \n",
      "2                       None                     None                None   \n",
      "3                       None                     None                None   \n",
      "4                       None                     None                None   \n",
      "\n",
      "  NumberOfChildren DoYouPurchaseForOthers HowDoYouDressForWork  \\\n",
      "0             None                   NULL                 None   \n",
      "1             None                   NULL                 None   \n",
      "2             None                   NULL                 None   \n",
      "3             None                   NULL                 None   \n",
      "4             None                   NULL                 None   \n",
      "\n",
      "  HowManyPairsDoYouPurchase YourFavoriteLegwearBrand WhoMakesPurchasesForYou  \\\n",
      "0                      None                     None                    None   \n",
      "1                      None                     None                    None   \n",
      "2                      None                     None                    None   \n",
      "3                      None                     None                    None   \n",
      "4                      None                     None                    None   \n",
      "\n",
      "  NumberOfAdults  ... Session Last Request Hour Of Day Session Time Elapsed  \\\n",
      "0           None  ...                     '(-inf-6.5]'      '(107.5-263.5]'   \n",
      "1           None  ...                    '(10.5-14.5]'        '(263.5-inf)'   \n",
      "2           None  ...                    '(10.5-14.5]'        '(263.5-inf)'   \n",
      "3           None  ...                    '(10.5-14.5]'      '(107.5-263.5]'   \n",
      "4           None  ...                    '(10.5-14.5]'        '(263.5-inf)'   \n",
      "\n",
      "  Average Time Per Page View Session Browser Family  \\\n",
      "0          '(73.045455-inf)'      Internet Explorer   \n",
      "1    '(32.021739-46.816667]'      Internet Explorer   \n",
      "2    '(32.021739-46.816667]'                    AOL   \n",
      "3    '(19.038462-32.021739]'                    AOL   \n",
      "4          '(73.045455-inf)'      Internet Explorer   \n",
      "\n",
      "  Session Browser Family Top 3 Session First Template Top 5  \\\n",
      "0            Internet Explorer              main/home_jhtml   \n",
      "1            Internet Explorer              main/home_jhtml   \n",
      "2                          AOL              main/home_jhtml   \n",
      "3                          AOL                        Other   \n",
      "4            Internet Explorer              main/home_jhtml   \n",
      "\n",
      "           Session Last Template Top 5 Session First Referrer Top 5  \\\n",
      "0                                Other                        Other   \n",
      "1  products/productDetailLegwear_jhtml                        Other   \n",
      "2                                Other                        Other   \n",
      "3               main/departments_jhtml                        Other   \n",
      "4  products/productDetailLegwear_jhtml                        Other   \n",
      "\n",
      "  Session First Request Hour of Day Bin  Class  \n",
      "0                             (5 ___ 9]  False  \n",
      "1                            (9 ___ 12]   True  \n",
      "2                            (9 ___ 12]  False  \n",
      "3                            (9 ___ 12]   True  \n",
      "4                            (9 ___ 12]  False  \n",
      "\n",
      "[5 rows x 275 columns]\n",
      "  WhichDoYouWearMostFrequent YourFavoriteLegcareBrand Registration Gender  \\\n",
      "0                       None                     None                None   \n",
      "1                       None                     None                None   \n",
      "2                       None                     None                None   \n",
      "3                       None                     None                None   \n",
      "4                       None                     None                None   \n",
      "\n",
      "  NumberOfChildren DoYouPurchaseForOthers HowDoYouDressForWork  \\\n",
      "0             None                   NULL                 None   \n",
      "1             None                   NULL                 None   \n",
      "2             None                   NULL                 None   \n",
      "3             None                   NULL                 None   \n",
      "4             None                   NULL                 None   \n",
      "\n",
      "  HowManyPairsDoYouPurchase YourFavoriteLegwearBrand WhoMakesPurchasesForYou  \\\n",
      "0                      None                     None                    None   \n",
      "1                      None                     None                    None   \n",
      "2                      None                     None                    None   \n",
      "3                      None                     None                    None   \n",
      "4                      None                     None                    None   \n",
      "\n",
      "  NumberOfAdults  ... Session Last Request Hour Of Day Session Time Elapsed  \\\n",
      "0           None  ...                     '(18.5-inf)'         '(0.5-48.5]'   \n",
      "1           None  ...                     '(-inf-6.5]'       '(48.5-107.5]'   \n",
      "2           None  ...                     '(-inf-6.5]'       '(48.5-107.5]'   \n",
      "3           None  ...                     '(-inf-6.5]'         '(-inf-0.5]'   \n",
      "4           None  ...                     '(-inf-6.5]'       '(48.5-107.5]'   \n",
      "\n",
      "  Average Time Per Page View Session Browser Family  \\\n",
      "0    '(32.021739-46.816667]'                    AOL   \n",
      "1         '(-inf-19.038462]'      Internet Explorer   \n",
      "2         '(-inf-19.038462]'      Internet Explorer   \n",
      "3                       None      Internet Explorer   \n",
      "4         '(-inf-19.038462]'      Internet Explorer   \n",
      "\n",
      "  Session Browser Family Top 3 Session First Template Top 5  \\\n",
      "0                          AOL       main/departments_jhtml   \n",
      "1            Internet Explorer              main/home_jhtml   \n",
      "2            Internet Explorer              main/home_jhtml   \n",
      "3            Internet Explorer                        Other   \n",
      "4            Internet Explorer              main/home_jhtml   \n",
      "\n",
      "           Session Last Template Top 5 Session First Referrer Top 5  \\\n",
      "0  products/productDetailLegwear_jhtml                        Other   \n",
      "1                    main/vendor_jhtml       http_//www_gazelle_com   \n",
      "2                      main/home_jhtml       http_//www_gazelle_com   \n",
      "3                                Other                        Other   \n",
      "4                    main/vendor_jhtml       http_//www_gazelle_com   \n",
      "\n",
      "  Session First Request Hour of Day Bin  Class  \n",
      "0                              (22 ___)   True  \n",
      "1                              (22 ___)  False  \n",
      "2                               (___ 5]  False  \n",
      "3                               (___ 5]  False  \n",
      "4                               (___ 5]  False  \n",
      "\n",
      "[5 rows x 275 columns]\n"
     ]
    }
   ],
   "source": [
    "def createpdf(data):\n",
    "    colnames = []\n",
    "    for i in range(len(data['attributes'])):\n",
    "      colnames.append(data['attributes'][i][0])\n",
    "\n",
    "    df = pd.DataFrame.from_dict(data['data'])\n",
    "    df.columns = colnames\n",
    "    print(df.head())\n",
    "    return df\n",
    "train = createpdf(data)\n",
    "test = createpdf(data2)"
   ],
   "metadata": {
    "collapsed": false,
    "pycharm": {
     "name": "#%%\n"
    }
   }
  },
  {
   "cell_type": "code",
   "execution_count": 4,
   "outputs": [
    {
     "name": "stdout",
     "output_type": "stream",
     "text": [
      "(40000, 275)\n",
      "       WhichDoYouWearMostFrequent YourFavoriteLegcareBrand  \\\n",
      "count                         563                      410   \n",
      "unique                          4                       24   \n",
      "top                  casual socks                   Conair   \n",
      "freq                          209                       72   \n",
      "\n",
      "       Registration Gender NumberOfChildren DoYouPurchaseForOthers  \\\n",
      "count                   80               80                  40000   \n",
      "unique                   2                4                      2   \n",
      "top                 Female                0                   NULL   \n",
      "freq                    46               53                  39313   \n",
      "\n",
      "       HowDoYouDressForWork HowManyPairsDoYouPurchase  \\\n",
      "count                   552                       547   \n",
      "unique                    4                         4   \n",
      "top         business casual                15 or more   \n",
      "freq                    226                       226   \n",
      "\n",
      "       YourFavoriteLegwearBrand WhoMakesPurchasesForYou NumberOfAdults  ...  \\\n",
      "count                       547                      86             80  ...   \n",
      "unique                       15                       4              4  ...   \n",
      "top                       Hanes                  spouse              2  ...   \n",
      "freq                        225                      32             36  ...   \n",
      "\n",
      "       Session Last Request Hour Of Day Session Time Elapsed  \\\n",
      "count                             40000                40000   \n",
      "unique                                5                    5   \n",
      "top                        '(-inf-6.5]'         '(-inf-0.5]'   \n",
      "freq                               8872                28065   \n",
      "\n",
      "       Average Time Per Page View Session Browser Family  \\\n",
      "count                       11929                  40000   \n",
      "unique                          5                     24   \n",
      "top            '(-inf-19.038462]'      Internet Explorer   \n",
      "freq                         2417                  24182   \n",
      "\n",
      "       Session Browser Family Top 3 Session First Template Top 5  \\\n",
      "count                         40000                        40000   \n",
      "unique                            4                            6   \n",
      "top               Internet Explorer              main/home_jhtml   \n",
      "freq                          24182                        32830   \n",
      "\n",
      "       Session Last Template Top 5 Session First Referrer Top 5  \\\n",
      "count                        40000                        40000   \n",
      "unique                           6                            6   \n",
      "top                main/home_jhtml                        Other   \n",
      "freq                         23364                        28503   \n",
      "\n",
      "       Session First Request Hour of Day Bin  Class  \n",
      "count                                  40000  40000  \n",
      "unique                                     7      2  \n",
      "top                              (17 ___ 22]  False  \n",
      "freq                                    8345  32193  \n",
      "\n",
      "[4 rows x 275 columns]\n",
      "(25000, 275)\n"
     ]
    },
    {
     "data": {
      "text/plain": "       WhichDoYouWearMostFrequent YourFavoriteLegcareBrand  \\\ncount                         284                      208   \nunique                          4                       24   \ntop                  casual socks                   Conair   \nfreq                           92                       37   \n\n       Registration Gender NumberOfChildren DoYouPurchaseForOthers  \\\ncount                    9                9                  25000   \nunique                   2                4                      2   \ntop                 Female                0                   NULL   \nfreq                     6                5                  24221   \n\n       HowDoYouDressForWork HowManyPairsDoYouPurchase  \\\ncount                   277                       272   \nunique                    4                         4   \ntop         business casual                15 or more   \nfreq                    107                       133   \n\n       YourFavoriteLegwearBrand WhoMakesPurchasesForYou NumberOfAdults  ...  \\\ncount                       274                      52              9  ...   \nunique                       14                       4              2  ...   \ntop                       Hanes                  spouse      3 or more  ...   \nfreq                        107                      25              5  ...   \n\n       Session Last Request Hour Of Day Session Time Elapsed  \\\ncount                             25000                25000   \nunique                                5                    5   \ntop                        '(6.5-10.5]'         '(-inf-0.5]'   \nfreq                               5677                16218   \n\n       Average Time Per Page View Session Browser Family  \\\ncount                        8779                  25000   \nunique                          5                     20   \ntop            '(-inf-19.038462]'      Internet Explorer   \nfreq                         2134                  14454   \n\n       Session Browser Family Top 3 Session First Template Top 5  \\\ncount                         25000                        25000   \nunique                            4                            6   \ntop               Internet Explorer              main/home_jhtml   \nfreq                          14454                        16950   \n\n       Session Last Template Top 5 Session First Referrer Top 5  \\\ncount                        25000                        25000   \nunique                           6                            6   \ntop                main/home_jhtml                        Other   \nfreq                         11423                        19632   \n\n       Session First Request Hour of Day Bin  Class  \ncount                                  25000  25000  \nunique                                     7      2  \ntop                                (5 ___ 9]  False  \nfreq                                    5550  18708  \n\n[4 rows x 275 columns]",
      "text/html": "<div>\n<style scoped>\n    .dataframe tbody tr th:only-of-type {\n        vertical-align: middle;\n    }\n\n    .dataframe tbody tr th {\n        vertical-align: top;\n    }\n\n    .dataframe thead th {\n        text-align: right;\n    }\n</style>\n<table border=\"1\" class=\"dataframe\">\n  <thead>\n    <tr style=\"text-align: right;\">\n      <th></th>\n      <th>WhichDoYouWearMostFrequent</th>\n      <th>YourFavoriteLegcareBrand</th>\n      <th>Registration Gender</th>\n      <th>NumberOfChildren</th>\n      <th>DoYouPurchaseForOthers</th>\n      <th>HowDoYouDressForWork</th>\n      <th>HowManyPairsDoYouPurchase</th>\n      <th>YourFavoriteLegwearBrand</th>\n      <th>WhoMakesPurchasesForYou</th>\n      <th>NumberOfAdults</th>\n      <th>...</th>\n      <th>Session Last Request Hour Of Day</th>\n      <th>Session Time Elapsed</th>\n      <th>Average Time Per Page View</th>\n      <th>Session Browser Family</th>\n      <th>Session Browser Family Top 3</th>\n      <th>Session First Template Top 5</th>\n      <th>Session Last Template Top 5</th>\n      <th>Session First Referrer Top 5</th>\n      <th>Session First Request Hour of Day Bin</th>\n      <th>Class</th>\n    </tr>\n  </thead>\n  <tbody>\n    <tr>\n      <th>count</th>\n      <td>284</td>\n      <td>208</td>\n      <td>9</td>\n      <td>9</td>\n      <td>25000</td>\n      <td>277</td>\n      <td>272</td>\n      <td>274</td>\n      <td>52</td>\n      <td>9</td>\n      <td>...</td>\n      <td>25000</td>\n      <td>25000</td>\n      <td>8779</td>\n      <td>25000</td>\n      <td>25000</td>\n      <td>25000</td>\n      <td>25000</td>\n      <td>25000</td>\n      <td>25000</td>\n      <td>25000</td>\n    </tr>\n    <tr>\n      <th>unique</th>\n      <td>4</td>\n      <td>24</td>\n      <td>2</td>\n      <td>4</td>\n      <td>2</td>\n      <td>4</td>\n      <td>4</td>\n      <td>14</td>\n      <td>4</td>\n      <td>2</td>\n      <td>...</td>\n      <td>5</td>\n      <td>5</td>\n      <td>5</td>\n      <td>20</td>\n      <td>4</td>\n      <td>6</td>\n      <td>6</td>\n      <td>6</td>\n      <td>7</td>\n      <td>2</td>\n    </tr>\n    <tr>\n      <th>top</th>\n      <td>casual socks</td>\n      <td>Conair</td>\n      <td>Female</td>\n      <td>0</td>\n      <td>NULL</td>\n      <td>business casual</td>\n      <td>15 or more</td>\n      <td>Hanes</td>\n      <td>spouse</td>\n      <td>3 or more</td>\n      <td>...</td>\n      <td>'(6.5-10.5]'</td>\n      <td>'(-inf-0.5]'</td>\n      <td>'(-inf-19.038462]'</td>\n      <td>Internet Explorer</td>\n      <td>Internet Explorer</td>\n      <td>main/home_jhtml</td>\n      <td>main/home_jhtml</td>\n      <td>Other</td>\n      <td>(5 ___ 9]</td>\n      <td>False</td>\n    </tr>\n    <tr>\n      <th>freq</th>\n      <td>92</td>\n      <td>37</td>\n      <td>6</td>\n      <td>5</td>\n      <td>24221</td>\n      <td>107</td>\n      <td>133</td>\n      <td>107</td>\n      <td>25</td>\n      <td>5</td>\n      <td>...</td>\n      <td>5677</td>\n      <td>16218</td>\n      <td>2134</td>\n      <td>14454</td>\n      <td>14454</td>\n      <td>16950</td>\n      <td>11423</td>\n      <td>19632</td>\n      <td>5550</td>\n      <td>18708</td>\n    </tr>\n  </tbody>\n</table>\n<p>4 rows × 275 columns</p>\n</div>"
     },
     "execution_count": 4,
     "metadata": {},
     "output_type": "execute_result"
    }
   ],
   "source": [
    "print(train.shape)\n",
    "print(train.describe())\n",
    "\n",
    "print(test.shape)\n",
    "test.describe()"
   ],
   "metadata": {
    "collapsed": false,
    "pycharm": {
     "name": "#%%\n"
    }
   }
  },
  {
   "cell_type": "code",
   "execution_count": 5,
   "outputs": [
    {
     "data": {
      "text/plain": "WhichDoYouWearMostFrequent                 284\nYourFavoriteLegcareBrand                   208\nRegistration Gender                          9\nNumberOfChildren                             9\nDoYouPurchaseForOthers                   25000\n                                         ...  \nSession First Template Top 5             25000\nSession Last Template Top 5              25000\nSession First Referrer Top 5             25000\nSession First Request Hour of Day Bin    25000\nClass                                    25000\nLength: 275, dtype: int64"
     },
     "execution_count": 5,
     "metadata": {},
     "output_type": "execute_result"
    }
   ],
   "source": [
    "train.notnull().sum()\n",
    "test.notnull().sum()"
   ],
   "metadata": {
    "collapsed": false,
    "pycharm": {
     "name": "#%%\n"
    }
   }
  },
  {
   "cell_type": "code",
   "execution_count": 6,
   "outputs": [],
   "source": [
    "train_removed = train.copy()\n",
    "test_removed = test.copy()"
   ],
   "metadata": {
    "collapsed": false,
    "pycharm": {
     "name": "#%%\n"
    }
   }
  },
  {
   "cell_type": "markdown",
   "source": [
    "### Remove columns with NONE/NULL VALUES LESS THAN 100 RESPONSES"
   ],
   "metadata": {
    "collapsed": false
   }
  },
  {
   "cell_type": "code",
   "execution_count": 7,
   "outputs": [
    {
     "name": "stdout",
     "output_type": "stream",
     "text": [
      "DoYouPurchaseForOthers                   40000\n",
      "SendEmail                                40000\n",
      "Country                                  40000\n",
      "US State                                 40000\n",
      "Email                                    40000\n",
      "                                         ...  \n",
      "Session First Template Top 5             40000\n",
      "Session Last Template Top 5              40000\n",
      "Session First Referrer Top 5             40000\n",
      "Session First Request Hour of Day Bin    40000\n",
      "Class                                    40000\n",
      "Length: 200, dtype: int64\n",
      "(40000, 198)\n",
      "Series([], dtype: int64)\n"
     ]
    },
    {
     "data": {
      "text/plain": "(25000, 198)"
     },
     "execution_count": 7,
     "metadata": {},
     "output_type": "execute_result"
    }
   ],
   "source": [
    "less_values = train_removed.notnull().sum()\n",
    "print(less_values[less_values==40000])\n",
    "df_removed = train_removed.filter(regex='Session|Class|UnitsPerInbox|Depth|Num|Request|Last|VendorMinREOrderDollars|Height|Pack|Length|LeadTime|Weight|Width|UnitIncrement|Average Time Per Page View')\n",
    "print(df_removed.shape)\n",
    "\n",
    "less_values2 = test_removed.notnull().sum()\n",
    "print(less_values2[less_values2==40000])\n",
    "df_removed2 = test_removed.filter(regex='Session|Class|UnitsPerInbox|Depth|Num|Request|Last|VendorMinREOrderDollars|Height|Pack|Length|LeadTime|Weight|Width|UnitIncrement|Average Time Per Page View')\n",
    "df_removed2.shape"
   ],
   "metadata": {
    "collapsed": false,
    "pycharm": {
     "name": "#%%\n"
    }
   }
  },
  {
   "cell_type": "code",
   "execution_count": 8,
   "outputs": [
    {
     "name": "stdout",
     "output_type": "stream",
     "text": [
      "  NumberOfChildren NumberOfAdults Number Of Adults Length Of Residence  \\\n",
      "0             None           None             None                None   \n",
      "1             None           None             None                None   \n",
      "2             None           None             None                None   \n",
      "3             None           None             None                None   \n",
      "4             None           None             None                None   \n",
      "\n",
      "  Number Of Vehicles CRA Income Classification Number Of Credit Lines  \\\n",
      "0               None                      None                   None   \n",
      "1               None                      None                   None   \n",
      "2               None                      None                   None   \n",
      "3               None                      None                   None   \n",
      "4               None                      None                   None   \n",
      "\n",
      "  Session Start Login Count  Session Cookie ID      Session ID  ...  \\\n",
      "0                      None  '(-inf-187131.5]'  '(-inf-82045]'  ...   \n",
      "1                      None  '(-inf-187131.5]'  '(-inf-82045]'  ...   \n",
      "2                      None  '(-inf-187131.5]'  '(-inf-82045]'  ...   \n",
      "3                      None  '(-inf-187131.5]'  '(-inf-82045]'  ...   \n",
      "4                      None  '(-inf-187131.5]'  '(-inf-82045]'  ...   \n",
      "\n",
      "  Session Last Request Hour Of Day Session Time Elapsed  \\\n",
      "0                     '(-inf-6.5]'      '(107.5-263.5]'   \n",
      "1                    '(10.5-14.5]'        '(263.5-inf)'   \n",
      "2                    '(10.5-14.5]'        '(263.5-inf)'   \n",
      "3                    '(10.5-14.5]'      '(107.5-263.5]'   \n",
      "4                    '(10.5-14.5]'        '(263.5-inf)'   \n",
      "\n",
      "  Average Time Per Page View Session Browser Family  \\\n",
      "0          '(73.045455-inf)'      Internet Explorer   \n",
      "1    '(32.021739-46.816667]'      Internet Explorer   \n",
      "2    '(32.021739-46.816667]'                    AOL   \n",
      "3    '(19.038462-32.021739]'                    AOL   \n",
      "4          '(73.045455-inf)'      Internet Explorer   \n",
      "\n",
      "  Session Browser Family Top 3 Session First Template Top 5  \\\n",
      "0            Internet Explorer              main/home_jhtml   \n",
      "1            Internet Explorer              main/home_jhtml   \n",
      "2                          AOL              main/home_jhtml   \n",
      "3                          AOL                        Other   \n",
      "4            Internet Explorer              main/home_jhtml   \n",
      "\n",
      "           Session Last Template Top 5 Session First Referrer Top 5  \\\n",
      "0                                Other                        Other   \n",
      "1  products/productDetailLegwear_jhtml                        Other   \n",
      "2                                Other                        Other   \n",
      "3               main/departments_jhtml                        Other   \n",
      "4  products/productDetailLegwear_jhtml                        Other   \n",
      "\n",
      "  Session First Request Hour of Day Bin  Class  \n",
      "0                             (5 ___ 9]  False  \n",
      "1                            (9 ___ 12]   True  \n",
      "2                            (9 ___ 12]  False  \n",
      "3                            (9 ___ 12]   True  \n",
      "4                            (9 ___ 12]  False  \n",
      "\n",
      "[5 rows x 198 columns]\n"
     ]
    },
    {
     "data": {
      "text/plain": "  NumberOfChildren NumberOfAdults Number Of Adults Length Of Residence  \\\n0             None           None             None                None   \n1             None           None             None                None   \n2             None           None             None                None   \n3             None           None             None                None   \n4             None           None             None                None   \n\n  Number Of Vehicles CRA Income Classification Number Of Credit Lines  \\\n0               None                      None                   None   \n1               None                      None                   None   \n2               None                      None                   None   \n3               None                      None                   None   \n4               None                      None                   None   \n\n  Session Start Login Count Session Cookie ID      Session ID  ...  \\\n0                      None    '(883316-inf)'  '(322370-inf)'  ...   \n1                      None    '(883316-inf)'  '(322370-inf)'  ...   \n2                      None    '(883316-inf)'  '(322370-inf)'  ...   \n3                      None    '(883316-inf)'  '(322370-inf)'  ...   \n4                      None    '(883316-inf)'  '(322370-inf)'  ...   \n\n  Session Last Request Hour Of Day Session Time Elapsed  \\\n0                     '(18.5-inf)'         '(0.5-48.5]'   \n1                     '(-inf-6.5]'       '(48.5-107.5]'   \n2                     '(-inf-6.5]'       '(48.5-107.5]'   \n3                     '(-inf-6.5]'         '(-inf-0.5]'   \n4                     '(-inf-6.5]'       '(48.5-107.5]'   \n\n  Average Time Per Page View Session Browser Family  \\\n0    '(32.021739-46.816667]'                    AOL   \n1         '(-inf-19.038462]'      Internet Explorer   \n2         '(-inf-19.038462]'      Internet Explorer   \n3                       None      Internet Explorer   \n4         '(-inf-19.038462]'      Internet Explorer   \n\n  Session Browser Family Top 3 Session First Template Top 5  \\\n0                          AOL       main/departments_jhtml   \n1            Internet Explorer              main/home_jhtml   \n2            Internet Explorer              main/home_jhtml   \n3            Internet Explorer                        Other   \n4            Internet Explorer              main/home_jhtml   \n\n           Session Last Template Top 5 Session First Referrer Top 5  \\\n0  products/productDetailLegwear_jhtml                        Other   \n1                    main/vendor_jhtml       http_//www_gazelle_com   \n2                      main/home_jhtml       http_//www_gazelle_com   \n3                                Other                        Other   \n4                    main/vendor_jhtml       http_//www_gazelle_com   \n\n  Session First Request Hour of Day Bin  Class  \n0                              (22 ___)   True  \n1                              (22 ___)  False  \n2                               (___ 5]  False  \n3                               (___ 5]  False  \n4                               (___ 5]  False  \n\n[5 rows x 198 columns]",
      "text/html": "<div>\n<style scoped>\n    .dataframe tbody tr th:only-of-type {\n        vertical-align: middle;\n    }\n\n    .dataframe tbody tr th {\n        vertical-align: top;\n    }\n\n    .dataframe thead th {\n        text-align: right;\n    }\n</style>\n<table border=\"1\" class=\"dataframe\">\n  <thead>\n    <tr style=\"text-align: right;\">\n      <th></th>\n      <th>NumberOfChildren</th>\n      <th>NumberOfAdults</th>\n      <th>Number Of Adults</th>\n      <th>Length Of Residence</th>\n      <th>Number Of Vehicles</th>\n      <th>CRA Income Classification</th>\n      <th>Number Of Credit Lines</th>\n      <th>Session Start Login Count</th>\n      <th>Session Cookie ID</th>\n      <th>Session ID</th>\n      <th>...</th>\n      <th>Session Last Request Hour Of Day</th>\n      <th>Session Time Elapsed</th>\n      <th>Average Time Per Page View</th>\n      <th>Session Browser Family</th>\n      <th>Session Browser Family Top 3</th>\n      <th>Session First Template Top 5</th>\n      <th>Session Last Template Top 5</th>\n      <th>Session First Referrer Top 5</th>\n      <th>Session First Request Hour of Day Bin</th>\n      <th>Class</th>\n    </tr>\n  </thead>\n  <tbody>\n    <tr>\n      <th>0</th>\n      <td>None</td>\n      <td>None</td>\n      <td>None</td>\n      <td>None</td>\n      <td>None</td>\n      <td>None</td>\n      <td>None</td>\n      <td>None</td>\n      <td>'(883316-inf)'</td>\n      <td>'(322370-inf)'</td>\n      <td>...</td>\n      <td>'(18.5-inf)'</td>\n      <td>'(0.5-48.5]'</td>\n      <td>'(32.021739-46.816667]'</td>\n      <td>AOL</td>\n      <td>AOL</td>\n      <td>main/departments_jhtml</td>\n      <td>products/productDetailLegwear_jhtml</td>\n      <td>Other</td>\n      <td>(22 ___)</td>\n      <td>True</td>\n    </tr>\n    <tr>\n      <th>1</th>\n      <td>None</td>\n      <td>None</td>\n      <td>None</td>\n      <td>None</td>\n      <td>None</td>\n      <td>None</td>\n      <td>None</td>\n      <td>None</td>\n      <td>'(883316-inf)'</td>\n      <td>'(322370-inf)'</td>\n      <td>...</td>\n      <td>'(-inf-6.5]'</td>\n      <td>'(48.5-107.5]'</td>\n      <td>'(-inf-19.038462]'</td>\n      <td>Internet Explorer</td>\n      <td>Internet Explorer</td>\n      <td>main/home_jhtml</td>\n      <td>main/vendor_jhtml</td>\n      <td>http_//www_gazelle_com</td>\n      <td>(22 ___)</td>\n      <td>False</td>\n    </tr>\n    <tr>\n      <th>2</th>\n      <td>None</td>\n      <td>None</td>\n      <td>None</td>\n      <td>None</td>\n      <td>None</td>\n      <td>None</td>\n      <td>None</td>\n      <td>None</td>\n      <td>'(883316-inf)'</td>\n      <td>'(322370-inf)'</td>\n      <td>...</td>\n      <td>'(-inf-6.5]'</td>\n      <td>'(48.5-107.5]'</td>\n      <td>'(-inf-19.038462]'</td>\n      <td>Internet Explorer</td>\n      <td>Internet Explorer</td>\n      <td>main/home_jhtml</td>\n      <td>main/home_jhtml</td>\n      <td>http_//www_gazelle_com</td>\n      <td>(___ 5]</td>\n      <td>False</td>\n    </tr>\n    <tr>\n      <th>3</th>\n      <td>None</td>\n      <td>None</td>\n      <td>None</td>\n      <td>None</td>\n      <td>None</td>\n      <td>None</td>\n      <td>None</td>\n      <td>None</td>\n      <td>'(883316-inf)'</td>\n      <td>'(322370-inf)'</td>\n      <td>...</td>\n      <td>'(-inf-6.5]'</td>\n      <td>'(-inf-0.5]'</td>\n      <td>None</td>\n      <td>Internet Explorer</td>\n      <td>Internet Explorer</td>\n      <td>Other</td>\n      <td>Other</td>\n      <td>Other</td>\n      <td>(___ 5]</td>\n      <td>False</td>\n    </tr>\n    <tr>\n      <th>4</th>\n      <td>None</td>\n      <td>None</td>\n      <td>None</td>\n      <td>None</td>\n      <td>None</td>\n      <td>None</td>\n      <td>None</td>\n      <td>None</td>\n      <td>'(883316-inf)'</td>\n      <td>'(322370-inf)'</td>\n      <td>...</td>\n      <td>'(-inf-6.5]'</td>\n      <td>'(48.5-107.5]'</td>\n      <td>'(-inf-19.038462]'</td>\n      <td>Internet Explorer</td>\n      <td>Internet Explorer</td>\n      <td>main/home_jhtml</td>\n      <td>main/vendor_jhtml</td>\n      <td>http_//www_gazelle_com</td>\n      <td>(___ 5]</td>\n      <td>False</td>\n    </tr>\n  </tbody>\n</table>\n<p>5 rows × 198 columns</p>\n</div>"
     },
     "execution_count": 8,
     "metadata": {},
     "output_type": "execute_result"
    }
   ],
   "source": [
    "print(df_removed.head())\n",
    "df_removed2.head()"
   ],
   "metadata": {
    "collapsed": false,
    "pycharm": {
     "name": "#%%\n"
    }
   }
  },
  {
   "cell_type": "markdown",
   "source": [
    "#### Round 1 of elimination of not useful columns"
   ],
   "metadata": {
    "collapsed": false
   }
  },
  {
   "cell_type": "code",
   "execution_count": 9,
   "outputs": [
    {
     "name": "stdout",
     "output_type": "stream",
     "text": [
      "(40000, 183)\n",
      "  CRA Income Classification Session Start Login Count Session Visit Count  \\\n",
      "0                      None                      None        '(-inf-1.5]'   \n",
      "1                      None                      None         '(1.5-2.5]'   \n",
      "2                      None                      None        '(-inf-1.5]'   \n",
      "3                      None                      None         '(1.5-2.5]'   \n",
      "4                      None                      None        '(4.5-26.5]'   \n",
      "\n",
      "  Session First Processing Time Session First Request Day of Week  \\\n",
      "0                 '(179.5-inf)'                            Sunday   \n",
      "1                 '(179.5-inf)'                            Sunday   \n",
      "2                 '(179.5-inf)'                            Sunday   \n",
      "3                 '(179.5-inf)'                            Sunday   \n",
      "4                 '(179.5-inf)'                            Sunday   \n",
      "\n",
      "  Session First Request Hour of Day Session Request Count  \\\n",
      "0                      '(-inf-6.5]'           '(2.5-3.5]'   \n",
      "1                     '(10.5-14.5]'           '(6.5-inf)'   \n",
      "2                     '(10.5-14.5]'           '(6.5-inf)'   \n",
      "3                     '(10.5-14.5]'           '(6.5-inf)'   \n",
      "4                     '(10.5-14.5]'           '(6.5-inf)'   \n",
      "\n",
      "  Num Hanes Product Views Num Oroblu Product Views  \\\n",
      "0            '(-inf-0.5]'             '(-inf-0.5]'   \n",
      "1             '(2.5-3.5]'              '(0.5-1.5]'   \n",
      "2             '(0.5-1.5]'              '(0.5-1.5]'   \n",
      "3            '(-inf-0.5]'             '(-inf-0.5]'   \n",
      "4             '(0.5-1.5]'             '(-inf-0.5]'   \n",
      "\n",
      "  Num AmericanEssentials Product Views  ... Product Level 1 Path Last  \\\n",
      "0                         '(-inf-0.5]'  ...                      NULL   \n",
      "1                          '(1.5-2.5]'  ...         /Products/Legwear   \n",
      "2                         '(-inf-0.5]'  ...                      NULL   \n",
      "3                         '(-inf-0.5]'  ...                      NULL   \n",
      "4                         '(-inf-0.5]'  ...         /Products/Legwear   \n",
      "\n",
      "      Product Level 2 Path Last       Assortment Level 2 Path Last  \\\n",
      "0                          NULL  /Assortments/Main/UniqueBoutiques   \n",
      "1    /Products/Legwear/Givenchy                               NULL   \n",
      "2                          NULL           /Assortments/Main/Brands   \n",
      "3                          NULL      /Assortments/Main/Departments   \n",
      "4  /Products/Legwear/EvanPicone           /Assortments/Main/Brands   \n",
      "\n",
      "               Assortment Level 3 Path Last Session Last Request Hour Of Day  \\\n",
      "0                                      NULL                     '(-inf-6.5]'   \n",
      "1                                      NULL                    '(10.5-14.5]'   \n",
      "2          /Assortments/Main/Brands/Legwear                    '(10.5-14.5]'   \n",
      "3  /Assortments/Main/Departments/A1_Hosiery                    '(10.5-14.5]'   \n",
      "4          /Assortments/Main/Brands/Legwear                    '(10.5-14.5]'   \n",
      "\n",
      "  Session Time Elapsed Average Time Per Page View  \\\n",
      "0      '(107.5-263.5]'          '(73.045455-inf)'   \n",
      "1        '(263.5-inf)'    '(32.021739-46.816667]'   \n",
      "2        '(263.5-inf)'    '(32.021739-46.816667]'   \n",
      "3      '(107.5-263.5]'    '(19.038462-32.021739]'   \n",
      "4        '(263.5-inf)'          '(73.045455-inf)'   \n",
      "\n",
      "  Session First Template Top 5 Session First Request Hour of Day Bin  Class  \n",
      "0              main/home_jhtml                             (5 ___ 9]  False  \n",
      "1              main/home_jhtml                            (9 ___ 12]   True  \n",
      "2              main/home_jhtml                            (9 ___ 12]  False  \n",
      "3                        Other                            (9 ___ 12]   True  \n",
      "4              main/home_jhtml                            (9 ___ 12]  False  \n",
      "\n",
      "[5 rows x 183 columns]\n",
      "(25000, 183)\n"
     ]
    },
    {
     "data": {
      "text/plain": "  CRA Income Classification Session Start Login Count Session Visit Count  \\\n0                      None                      None        '(-inf-1.5]'   \n1                      None                      None        '(-inf-1.5]'   \n2                      None                      None        '(-inf-1.5]'   \n3                      None                      None        '(-inf-1.5]'   \n4                      None                      None        '(-inf-1.5]'   \n\n  Session First Processing Time Session First Request Day of Week  \\\n0                 '(179.5-inf)'                            Friday   \n1                '(70.5-179.5]'                            Friday   \n2                '(70.5-179.5]'                          Saturday   \n3                 '(179.5-inf)'                          Saturday   \n4                 '(62.5-70.5]'                          Saturday   \n\n  Session First Request Hour of Day Session Request Count  \\\n0                      '(18.5-inf)'           '(1.5-2.5]'   \n1                      '(18.5-inf)'           '(6.5-inf)'   \n2                      '(-inf-6.5]'           '(6.5-inf)'   \n3                      '(-inf-6.5]'          '(-inf-1.5]'   \n4                      '(-inf-6.5]'           '(6.5-inf)'   \n\n  Num Hanes Product Views Num Oroblu Product Views  \\\n0             '(0.5-1.5]'             '(-inf-0.5]'   \n1            '(-inf-0.5]'             '(-inf-0.5]'   \n2            '(-inf-0.5]'             '(-inf-0.5]'   \n3            '(-inf-0.5]'             '(-inf-0.5]'   \n4            '(-inf-0.5]'             '(-inf-0.5]'   \n\n  Num AmericanEssentials Product Views  ... Product Level 1 Path Last  \\\n0                         '(-inf-0.5]'  ...         /Products/Legwear   \n1                         '(-inf-0.5]'  ...                      NULL   \n2                         '(-inf-0.5]'  ...                      NULL   \n3                         '(-inf-0.5]'  ...                      NULL   \n4                         '(-inf-0.5]'  ...                      NULL   \n\n  Product Level 2 Path Last       Assortment Level 2 Path Last  \\\n0   /Products/Legwear/Hanes      /Assortments/Main/Departments   \n1                      NULL           /Assortments/Main/Brands   \n2                      NULL           /Assortments/Main/Brands   \n3                      NULL  /Assortments/Main/UniqueBoutiques   \n4                      NULL           /Assortments/Main/Brands   \n\n                 Assortment Level 3 Path Last  \\\n0    /Assortments/Main/Departments/A1_Hosiery   \n1            /Assortments/Main/Brands/Legwear   \n2            /Assortments/Main/Brands/Legwear   \n3  /Assortments/Main/UniqueBoutiques/06_dance   \n4            /Assortments/Main/Brands/Legwear   \n\n  Session Last Request Hour Of Day Session Time Elapsed  \\\n0                     '(18.5-inf)'         '(0.5-48.5]'   \n1                     '(-inf-6.5]'       '(48.5-107.5]'   \n2                     '(-inf-6.5]'       '(48.5-107.5]'   \n3                     '(-inf-6.5]'         '(-inf-0.5]'   \n4                     '(-inf-6.5]'       '(48.5-107.5]'   \n\n  Average Time Per Page View Session First Template Top 5  \\\n0    '(32.021739-46.816667]'       main/departments_jhtml   \n1         '(-inf-19.038462]'              main/home_jhtml   \n2         '(-inf-19.038462]'              main/home_jhtml   \n3                       None                        Other   \n4         '(-inf-19.038462]'              main/home_jhtml   \n\n  Session First Request Hour of Day Bin  Class  \n0                              (22 ___)   True  \n1                              (22 ___)  False  \n2                               (___ 5]  False  \n3                               (___ 5]  False  \n4                               (___ 5]  False  \n\n[5 rows x 183 columns]",
      "text/html": "<div>\n<style scoped>\n    .dataframe tbody tr th:only-of-type {\n        vertical-align: middle;\n    }\n\n    .dataframe tbody tr th {\n        vertical-align: top;\n    }\n\n    .dataframe thead th {\n        text-align: right;\n    }\n</style>\n<table border=\"1\" class=\"dataframe\">\n  <thead>\n    <tr style=\"text-align: right;\">\n      <th></th>\n      <th>CRA Income Classification</th>\n      <th>Session Start Login Count</th>\n      <th>Session Visit Count</th>\n      <th>Session First Processing Time</th>\n      <th>Session First Request Day of Week</th>\n      <th>Session First Request Hour of Day</th>\n      <th>Session Request Count</th>\n      <th>Num Hanes Product Views</th>\n      <th>Num Oroblu Product Views</th>\n      <th>Num AmericanEssentials Product Views</th>\n      <th>...</th>\n      <th>Product Level 1 Path Last</th>\n      <th>Product Level 2 Path Last</th>\n      <th>Assortment Level 2 Path Last</th>\n      <th>Assortment Level 3 Path Last</th>\n      <th>Session Last Request Hour Of Day</th>\n      <th>Session Time Elapsed</th>\n      <th>Average Time Per Page View</th>\n      <th>Session First Template Top 5</th>\n      <th>Session First Request Hour of Day Bin</th>\n      <th>Class</th>\n    </tr>\n  </thead>\n  <tbody>\n    <tr>\n      <th>0</th>\n      <td>None</td>\n      <td>None</td>\n      <td>'(-inf-1.5]'</td>\n      <td>'(179.5-inf)'</td>\n      <td>Friday</td>\n      <td>'(18.5-inf)'</td>\n      <td>'(1.5-2.5]'</td>\n      <td>'(0.5-1.5]'</td>\n      <td>'(-inf-0.5]'</td>\n      <td>'(-inf-0.5]'</td>\n      <td>...</td>\n      <td>/Products/Legwear</td>\n      <td>/Products/Legwear/Hanes</td>\n      <td>/Assortments/Main/Departments</td>\n      <td>/Assortments/Main/Departments/A1_Hosiery</td>\n      <td>'(18.5-inf)'</td>\n      <td>'(0.5-48.5]'</td>\n      <td>'(32.021739-46.816667]'</td>\n      <td>main/departments_jhtml</td>\n      <td>(22 ___)</td>\n      <td>True</td>\n    </tr>\n    <tr>\n      <th>1</th>\n      <td>None</td>\n      <td>None</td>\n      <td>'(-inf-1.5]'</td>\n      <td>'(70.5-179.5]'</td>\n      <td>Friday</td>\n      <td>'(18.5-inf)'</td>\n      <td>'(6.5-inf)'</td>\n      <td>'(-inf-0.5]'</td>\n      <td>'(-inf-0.5]'</td>\n      <td>'(-inf-0.5]'</td>\n      <td>...</td>\n      <td>NULL</td>\n      <td>NULL</td>\n      <td>/Assortments/Main/Brands</td>\n      <td>/Assortments/Main/Brands/Legwear</td>\n      <td>'(-inf-6.5]'</td>\n      <td>'(48.5-107.5]'</td>\n      <td>'(-inf-19.038462]'</td>\n      <td>main/home_jhtml</td>\n      <td>(22 ___)</td>\n      <td>False</td>\n    </tr>\n    <tr>\n      <th>2</th>\n      <td>None</td>\n      <td>None</td>\n      <td>'(-inf-1.5]'</td>\n      <td>'(70.5-179.5]'</td>\n      <td>Saturday</td>\n      <td>'(-inf-6.5]'</td>\n      <td>'(6.5-inf)'</td>\n      <td>'(-inf-0.5]'</td>\n      <td>'(-inf-0.5]'</td>\n      <td>'(-inf-0.5]'</td>\n      <td>...</td>\n      <td>NULL</td>\n      <td>NULL</td>\n      <td>/Assortments/Main/Brands</td>\n      <td>/Assortments/Main/Brands/Legwear</td>\n      <td>'(-inf-6.5]'</td>\n      <td>'(48.5-107.5]'</td>\n      <td>'(-inf-19.038462]'</td>\n      <td>main/home_jhtml</td>\n      <td>(___ 5]</td>\n      <td>False</td>\n    </tr>\n    <tr>\n      <th>3</th>\n      <td>None</td>\n      <td>None</td>\n      <td>'(-inf-1.5]'</td>\n      <td>'(179.5-inf)'</td>\n      <td>Saturday</td>\n      <td>'(-inf-6.5]'</td>\n      <td>'(-inf-1.5]'</td>\n      <td>'(-inf-0.5]'</td>\n      <td>'(-inf-0.5]'</td>\n      <td>'(-inf-0.5]'</td>\n      <td>...</td>\n      <td>NULL</td>\n      <td>NULL</td>\n      <td>/Assortments/Main/UniqueBoutiques</td>\n      <td>/Assortments/Main/UniqueBoutiques/06_dance</td>\n      <td>'(-inf-6.5]'</td>\n      <td>'(-inf-0.5]'</td>\n      <td>None</td>\n      <td>Other</td>\n      <td>(___ 5]</td>\n      <td>False</td>\n    </tr>\n    <tr>\n      <th>4</th>\n      <td>None</td>\n      <td>None</td>\n      <td>'(-inf-1.5]'</td>\n      <td>'(62.5-70.5]'</td>\n      <td>Saturday</td>\n      <td>'(-inf-6.5]'</td>\n      <td>'(6.5-inf)'</td>\n      <td>'(-inf-0.5]'</td>\n      <td>'(-inf-0.5]'</td>\n      <td>'(-inf-0.5]'</td>\n      <td>...</td>\n      <td>NULL</td>\n      <td>NULL</td>\n      <td>/Assortments/Main/Brands</td>\n      <td>/Assortments/Main/Brands/Legwear</td>\n      <td>'(-inf-6.5]'</td>\n      <td>'(48.5-107.5]'</td>\n      <td>'(-inf-19.038462]'</td>\n      <td>main/home_jhtml</td>\n      <td>(___ 5]</td>\n      <td>False</td>\n    </tr>\n  </tbody>\n</table>\n<p>5 rows × 183 columns</p>\n</div>"
     },
     "execution_count": 9,
     "metadata": {},
     "output_type": "execute_result"
    }
   ],
   "source": [
    "df_removed =  df_removed.drop(columns=['NumberOfChildren', 'NumberOfAdults', 'Number Of Adults',\n",
    "                                       'Length Of Residence', 'Number Of Vehicles', 'Number Of Credit Lines',\n",
    "                                       'Session Cookie ID', 'Session ID', 'Session Customer ID', 'Session First Content ID',\n",
    "                                       'Content Level 2 Path Last', 'Session Browser Family', 'Session Browser Family Top 3', 'Session Last Template Top 5',\n",
    "                                       'Session Last Template Top 5', 'Session First Referrer Top 5'], axis=1)\n",
    "\n",
    "print(df_removed.shape)\n",
    "print(df_removed.head())\n",
    "\n",
    "df_removed2 =  df_removed2.drop(columns=['NumberOfChildren', 'NumberOfAdults', 'Number Of Adults',\n",
    "                                       'Length Of Residence', 'Number Of Vehicles', 'Number Of Credit Lines',\n",
    "                                       'Session Cookie ID', 'Session ID', 'Session Customer ID', 'Session First Content ID',\n",
    "                                       'Content Level 2 Path Last', 'Session Browser Family', 'Session Browser Family Top 3', 'Session Last Template Top 5',\n",
    "                                       'Session Last Template Top 5', 'Session First Referrer Top 5'], axis=1)\n",
    "\n",
    "print(df_removed2.shape)\n",
    "df_removed2.head()"
   ],
   "metadata": {
    "collapsed": false,
    "pycharm": {
     "name": "#%%\n"
    }
   }
  },
  {
   "cell_type": "markdown",
   "source": [
    "#### Round 2"
   ],
   "metadata": {
    "collapsed": false
   }
  },
  {
   "cell_type": "code",
   "execution_count": 10,
   "outputs": [
    {
     "name": "stdout",
     "output_type": "stream",
     "text": [
      "(40000, 177)\n",
      "  CRA Income Classification Session Start Login Count Session Visit Count  \\\n",
      "0                      None                      None        '(-inf-1.5]'   \n",
      "1                      None                      None         '(1.5-2.5]'   \n",
      "2                      None                      None        '(-inf-1.5]'   \n",
      "3                      None                      None         '(1.5-2.5]'   \n",
      "4                      None                      None        '(4.5-26.5]'   \n",
      "\n",
      "  Session First Processing Time Session First Request Day of Week  \\\n",
      "0                 '(179.5-inf)'                            Sunday   \n",
      "1                 '(179.5-inf)'                            Sunday   \n",
      "2                 '(179.5-inf)'                            Sunday   \n",
      "3                 '(179.5-inf)'                            Sunday   \n",
      "4                 '(179.5-inf)'                            Sunday   \n",
      "\n",
      "  Session First Request Hour of Day Session Request Count  \\\n",
      "0                      '(-inf-6.5]'           '(2.5-3.5]'   \n",
      "1                     '(10.5-14.5]'           '(6.5-inf)'   \n",
      "2                     '(10.5-14.5]'           '(6.5-inf)'   \n",
      "3                     '(10.5-14.5]'           '(6.5-inf)'   \n",
      "4                     '(10.5-14.5]'           '(6.5-inf)'   \n",
      "\n",
      "  Num Hanes Product Views Num Oroblu Product Views  \\\n",
      "0            '(-inf-0.5]'             '(-inf-0.5]'   \n",
      "1             '(2.5-3.5]'              '(0.5-1.5]'   \n",
      "2             '(0.5-1.5]'              '(0.5-1.5]'   \n",
      "3            '(-inf-0.5]'             '(-inf-0.5]'   \n",
      "4             '(0.5-1.5]'             '(-inf-0.5]'   \n",
      "\n",
      "  Num AmericanEssentials Product Views  ... Material Last WaistControl Last  \\\n",
      "0                         '(-inf-0.5]'  ...          NULL              NULL   \n",
      "1                          '(1.5-2.5]'  ...          NULL              NULL   \n",
      "2                         '(-inf-0.5]'  ...          NULL              NULL   \n",
      "3                         '(-inf-0.5]'  ...          NULL              NULL   \n",
      "4                         '(-inf-0.5]'  ...         Nylon              NULL   \n",
      "\n",
      "    Collection Last Audience Last Category1 Last  \\\n",
      "0              NULL          NULL           NULL   \n",
      "1    Passion Privee         Women           NULL   \n",
      "2              NULL          NULL           NULL   \n",
      "3              NULL          NULL           NULL   \n",
      "4  The New Classics         Women           NULL   \n",
      "\n",
      "  Session Last Request Hour Of Day Session Time Elapsed  \\\n",
      "0                     '(-inf-6.5]'      '(107.5-263.5]'   \n",
      "1                    '(10.5-14.5]'        '(263.5-inf)'   \n",
      "2                    '(10.5-14.5]'        '(263.5-inf)'   \n",
      "3                    '(10.5-14.5]'      '(107.5-263.5]'   \n",
      "4                    '(10.5-14.5]'        '(263.5-inf)'   \n",
      "\n",
      "  Average Time Per Page View Session First Request Hour of Day Bin  Class  \n",
      "0          '(73.045455-inf)'                             (5 ___ 9]  False  \n",
      "1    '(32.021739-46.816667]'                            (9 ___ 12]   True  \n",
      "2    '(32.021739-46.816667]'                            (9 ___ 12]  False  \n",
      "3    '(19.038462-32.021739]'                            (9 ___ 12]   True  \n",
      "4          '(73.045455-inf)'                            (9 ___ 12]  False  \n",
      "\n",
      "[5 rows x 177 columns]\n",
      "(25000, 177)\n"
     ]
    },
    {
     "data": {
      "text/plain": "  CRA Income Classification Session Start Login Count Session Visit Count  \\\n0                      None                      None        '(-inf-1.5]'   \n1                      None                      None        '(-inf-1.5]'   \n2                      None                      None        '(-inf-1.5]'   \n3                      None                      None        '(-inf-1.5]'   \n4                      None                      None        '(-inf-1.5]'   \n\n  Session First Processing Time Session First Request Day of Week  \\\n0                 '(179.5-inf)'                            Friday   \n1                '(70.5-179.5]'                            Friday   \n2                '(70.5-179.5]'                          Saturday   \n3                 '(179.5-inf)'                          Saturday   \n4                 '(62.5-70.5]'                          Saturday   \n\n  Session First Request Hour of Day Session Request Count  \\\n0                      '(18.5-inf)'           '(1.5-2.5]'   \n1                      '(18.5-inf)'           '(6.5-inf)'   \n2                      '(-inf-6.5]'           '(6.5-inf)'   \n3                      '(-inf-6.5]'          '(-inf-1.5]'   \n4                      '(-inf-6.5]'           '(6.5-inf)'   \n\n  Num Hanes Product Views Num Oroblu Product Views  \\\n0             '(0.5-1.5]'             '(-inf-0.5]'   \n1            '(-inf-0.5]'             '(-inf-0.5]'   \n2            '(-inf-0.5]'             '(-inf-0.5]'   \n3            '(-inf-0.5]'             '(-inf-0.5]'   \n4            '(-inf-0.5]'             '(-inf-0.5]'   \n\n  Num AmericanEssentials Product Views  ... Material Last WaistControl Last  \\\n0                         '(-inf-0.5]'  ...          NULL                CT   \n1                         '(-inf-0.5]'  ...          NULL              NULL   \n2                         '(-inf-0.5]'  ...          NULL              NULL   \n3                         '(-inf-0.5]'  ...          NULL              NULL   \n4                         '(-inf-0.5]'  ...          NULL              NULL   \n\n          Collection Last Audience Last Category1 Last  \\\n0  Beyond Bare Collection         Women           NULL   \n1                    NULL          NULL           NULL   \n2                    NULL          NULL           NULL   \n3                    NULL          NULL           NULL   \n4                    NULL          NULL           NULL   \n\n  Session Last Request Hour Of Day Session Time Elapsed  \\\n0                     '(18.5-inf)'         '(0.5-48.5]'   \n1                     '(-inf-6.5]'       '(48.5-107.5]'   \n2                     '(-inf-6.5]'       '(48.5-107.5]'   \n3                     '(-inf-6.5]'         '(-inf-0.5]'   \n4                     '(-inf-6.5]'       '(48.5-107.5]'   \n\n  Average Time Per Page View Session First Request Hour of Day Bin  Class  \n0    '(32.021739-46.816667]'                              (22 ___)   True  \n1         '(-inf-19.038462]'                              (22 ___)  False  \n2         '(-inf-19.038462]'                               (___ 5]  False  \n3                       None                               (___ 5]  False  \n4         '(-inf-19.038462]'                               (___ 5]  False  \n\n[5 rows x 177 columns]",
      "text/html": "<div>\n<style scoped>\n    .dataframe tbody tr th:only-of-type {\n        vertical-align: middle;\n    }\n\n    .dataframe tbody tr th {\n        vertical-align: top;\n    }\n\n    .dataframe thead th {\n        text-align: right;\n    }\n</style>\n<table border=\"1\" class=\"dataframe\">\n  <thead>\n    <tr style=\"text-align: right;\">\n      <th></th>\n      <th>CRA Income Classification</th>\n      <th>Session Start Login Count</th>\n      <th>Session Visit Count</th>\n      <th>Session First Processing Time</th>\n      <th>Session First Request Day of Week</th>\n      <th>Session First Request Hour of Day</th>\n      <th>Session Request Count</th>\n      <th>Num Hanes Product Views</th>\n      <th>Num Oroblu Product Views</th>\n      <th>Num AmericanEssentials Product Views</th>\n      <th>...</th>\n      <th>Material Last</th>\n      <th>WaistControl Last</th>\n      <th>Collection Last</th>\n      <th>Audience Last</th>\n      <th>Category1 Last</th>\n      <th>Session Last Request Hour Of Day</th>\n      <th>Session Time Elapsed</th>\n      <th>Average Time Per Page View</th>\n      <th>Session First Request Hour of Day Bin</th>\n      <th>Class</th>\n    </tr>\n  </thead>\n  <tbody>\n    <tr>\n      <th>0</th>\n      <td>None</td>\n      <td>None</td>\n      <td>'(-inf-1.5]'</td>\n      <td>'(179.5-inf)'</td>\n      <td>Friday</td>\n      <td>'(18.5-inf)'</td>\n      <td>'(1.5-2.5]'</td>\n      <td>'(0.5-1.5]'</td>\n      <td>'(-inf-0.5]'</td>\n      <td>'(-inf-0.5]'</td>\n      <td>...</td>\n      <td>NULL</td>\n      <td>CT</td>\n      <td>Beyond Bare Collection</td>\n      <td>Women</td>\n      <td>NULL</td>\n      <td>'(18.5-inf)'</td>\n      <td>'(0.5-48.5]'</td>\n      <td>'(32.021739-46.816667]'</td>\n      <td>(22 ___)</td>\n      <td>True</td>\n    </tr>\n    <tr>\n      <th>1</th>\n      <td>None</td>\n      <td>None</td>\n      <td>'(-inf-1.5]'</td>\n      <td>'(70.5-179.5]'</td>\n      <td>Friday</td>\n      <td>'(18.5-inf)'</td>\n      <td>'(6.5-inf)'</td>\n      <td>'(-inf-0.5]'</td>\n      <td>'(-inf-0.5]'</td>\n      <td>'(-inf-0.5]'</td>\n      <td>...</td>\n      <td>NULL</td>\n      <td>NULL</td>\n      <td>NULL</td>\n      <td>NULL</td>\n      <td>NULL</td>\n      <td>'(-inf-6.5]'</td>\n      <td>'(48.5-107.5]'</td>\n      <td>'(-inf-19.038462]'</td>\n      <td>(22 ___)</td>\n      <td>False</td>\n    </tr>\n    <tr>\n      <th>2</th>\n      <td>None</td>\n      <td>None</td>\n      <td>'(-inf-1.5]'</td>\n      <td>'(70.5-179.5]'</td>\n      <td>Saturday</td>\n      <td>'(-inf-6.5]'</td>\n      <td>'(6.5-inf)'</td>\n      <td>'(-inf-0.5]'</td>\n      <td>'(-inf-0.5]'</td>\n      <td>'(-inf-0.5]'</td>\n      <td>...</td>\n      <td>NULL</td>\n      <td>NULL</td>\n      <td>NULL</td>\n      <td>NULL</td>\n      <td>NULL</td>\n      <td>'(-inf-6.5]'</td>\n      <td>'(48.5-107.5]'</td>\n      <td>'(-inf-19.038462]'</td>\n      <td>(___ 5]</td>\n      <td>False</td>\n    </tr>\n    <tr>\n      <th>3</th>\n      <td>None</td>\n      <td>None</td>\n      <td>'(-inf-1.5]'</td>\n      <td>'(179.5-inf)'</td>\n      <td>Saturday</td>\n      <td>'(-inf-6.5]'</td>\n      <td>'(-inf-1.5]'</td>\n      <td>'(-inf-0.5]'</td>\n      <td>'(-inf-0.5]'</td>\n      <td>'(-inf-0.5]'</td>\n      <td>...</td>\n      <td>NULL</td>\n      <td>NULL</td>\n      <td>NULL</td>\n      <td>NULL</td>\n      <td>NULL</td>\n      <td>'(-inf-6.5]'</td>\n      <td>'(-inf-0.5]'</td>\n      <td>None</td>\n      <td>(___ 5]</td>\n      <td>False</td>\n    </tr>\n    <tr>\n      <th>4</th>\n      <td>None</td>\n      <td>None</td>\n      <td>'(-inf-1.5]'</td>\n      <td>'(62.5-70.5]'</td>\n      <td>Saturday</td>\n      <td>'(-inf-6.5]'</td>\n      <td>'(6.5-inf)'</td>\n      <td>'(-inf-0.5]'</td>\n      <td>'(-inf-0.5]'</td>\n      <td>'(-inf-0.5]'</td>\n      <td>...</td>\n      <td>NULL</td>\n      <td>NULL</td>\n      <td>NULL</td>\n      <td>NULL</td>\n      <td>NULL</td>\n      <td>'(-inf-6.5]'</td>\n      <td>'(48.5-107.5]'</td>\n      <td>'(-inf-19.038462]'</td>\n      <td>(___ 5]</td>\n      <td>False</td>\n    </tr>\n  </tbody>\n</table>\n<p>5 rows × 177 columns</p>\n</div>"
     },
     "execution_count": 10,
     "metadata": {},
     "output_type": "execute_result"
    }
   ],
   "source": [
    "df_removed =  df_removed.drop(columns=['Product Level 1 Path Last', 'Product Level 2 Path Last', 'Assortment Level 2 Path Last',\n",
    "                                       'Assortment Level 3 Path Last', 'Pattern Last', 'Session First Template Top 5', ], axis=1)\n",
    "\n",
    "print(df_removed.shape)\n",
    "print(df_removed.head())\n",
    "\n",
    "df_removed2 =  df_removed2.drop(columns=['Product Level 1 Path Last', 'Product Level 2 Path Last', 'Assortment Level 2 Path Last',\n",
    "                                       'Assortment Level 3 Path Last', 'Pattern Last', 'Session First Template Top 5', ], axis=1)\n",
    "\n",
    "print(df_removed2.shape)\n",
    "df_removed2.head()"
   ],
   "metadata": {
    "collapsed": false,
    "pycharm": {
     "name": "#%%\n"
    }
   }
  },
  {
   "cell_type": "markdown",
   "source": [
    "#### Round 3"
   ],
   "metadata": {
    "collapsed": false
   }
  },
  {
   "cell_type": "code",
   "execution_count": 11,
   "outputs": [
    {
     "name": "stdout",
     "output_type": "stream",
     "text": [
      "(40000, 177)\n"
     ]
    },
    {
     "data": {
      "text/plain": "(25000, 177)"
     },
     "execution_count": 11,
     "metadata": {},
     "output_type": "execute_result"
    }
   ],
   "source": [
    "df_removed_values = df_removed.notnull().sum()\n",
    "df_removed = df_removed[(df_removed_values==40000).index].copy()\n",
    "print(df_removed.shape)\n",
    "\n",
    "df_removed2_values = df_removed2.notnull().sum()\n",
    "df_removed2 = df_removed2[(df_removed2_values==40000).index].copy()\n",
    "df_removed2.shape"
   ],
   "metadata": {
    "collapsed": false,
    "pycharm": {
     "name": "#%%\n"
    }
   }
  },
  {
   "cell_type": "markdown",
   "source": [
    "#### Now remove None rows"
   ],
   "metadata": {
    "collapsed": false
   }
  },
  {
   "cell_type": "code",
   "execution_count": 12,
   "outputs": [
    {
     "name": "stdout",
     "output_type": "stream",
     "text": [
      "(40000, 177)\n",
      "      CRA Income Classification Session Start Login Count Session Visit Count  \\\n",
      "0                           NaN                       NaN        '(-inf-1.5]'   \n",
      "1                           NaN                       NaN         '(1.5-2.5]'   \n",
      "2                           NaN                       NaN        '(-inf-1.5]'   \n",
      "3                           NaN                       NaN         '(1.5-2.5]'   \n",
      "4                           NaN                       NaN        '(4.5-26.5]'   \n",
      "...                         ...                       ...                 ...   \n",
      "39995                       NaN              '(-inf-1.5]'        '(-inf-1.5]'   \n",
      "39996                       NaN              '(-inf-1.5]'        '(-inf-1.5]'   \n",
      "39997               '(2.5-3.5]'              '(-inf-1.5]'        '(26.5-inf)'   \n",
      "39998                       NaN              '(-inf-1.5]'         '(1.5-2.5]'   \n",
      "39999                       NaN              '(-inf-1.5]'        '(-inf-1.5]'   \n",
      "\n",
      "      Session First Processing Time Session First Request Day of Week  \\\n",
      "0                     '(179.5-inf)'                            Sunday   \n",
      "1                     '(179.5-inf)'                            Sunday   \n",
      "2                     '(179.5-inf)'                            Sunday   \n",
      "3                     '(179.5-inf)'                            Sunday   \n",
      "4                     '(179.5-inf)'                            Sunday   \n",
      "...                             ...                               ...   \n",
      "39995                 '(179.5-inf)'                            Friday   \n",
      "39996                 '(-inf-54.5]'                            Friday   \n",
      "39997                 '(-inf-54.5]'                            Friday   \n",
      "39998                '(70.5-179.5]'                            Friday   \n",
      "39999                 '(-inf-54.5]'                            Friday   \n",
      "\n",
      "      Session First Request Hour of Day Session Request Count  \\\n",
      "0                          '(-inf-6.5]'           '(2.5-3.5]'   \n",
      "1                         '(10.5-14.5]'           '(6.5-inf)'   \n",
      "2                         '(10.5-14.5]'           '(6.5-inf)'   \n",
      "3                         '(10.5-14.5]'           '(6.5-inf)'   \n",
      "4                         '(10.5-14.5]'           '(6.5-inf)'   \n",
      "...                                 ...                   ...   \n",
      "39995                     '(10.5-14.5]'           '(6.5-inf)'   \n",
      "39996                     '(10.5-14.5]'           '(6.5-inf)'   \n",
      "39997                     '(14.5-18.5]'           '(6.5-inf)'   \n",
      "39998                     '(14.5-18.5]'           '(6.5-inf)'   \n",
      "39999                      '(18.5-inf)'           '(3.5-6.5]'   \n",
      "\n",
      "      Num Hanes Product Views Num Oroblu Product Views  \\\n",
      "0                '(-inf-0.5]'             '(-inf-0.5]'   \n",
      "1                 '(2.5-3.5]'              '(0.5-1.5]'   \n",
      "2                 '(0.5-1.5]'              '(0.5-1.5]'   \n",
      "3                '(-inf-0.5]'             '(-inf-0.5]'   \n",
      "4                 '(0.5-1.5]'             '(-inf-0.5]'   \n",
      "...                       ...                      ...   \n",
      "39995            '(-inf-0.5]'             '(-inf-0.5]'   \n",
      "39996            '(-inf-0.5]'             '(-inf-0.5]'   \n",
      "39997            '(-inf-0.5]'             '(-inf-0.5]'   \n",
      "39998            '(-inf-0.5]'             '(-inf-0.5]'   \n",
      "39999            '(-inf-0.5]'             '(-inf-0.5]'   \n",
      "\n",
      "      Num AmericanEssentials Product Views  ... Material Last  \\\n",
      "0                             '(-inf-0.5]'  ...          NULL   \n",
      "1                              '(1.5-2.5]'  ...          NULL   \n",
      "2                             '(-inf-0.5]'  ...          NULL   \n",
      "3                             '(-inf-0.5]'  ...          NULL   \n",
      "4                             '(-inf-0.5]'  ...         Nylon   \n",
      "...                                    ...  ...           ...   \n",
      "39995                         '(-inf-0.5]'  ...          NULL   \n",
      "39996                         '(-inf-0.5]'  ...          NULL   \n",
      "39997                         '(-inf-0.5]'  ...          NULL   \n",
      "39998                         '(-inf-0.5]'  ...          NULL   \n",
      "39999                         '(-inf-0.5]'  ...          NULL   \n",
      "\n",
      "      WaistControl Last   Collection Last Audience Last Category1 Last  \\\n",
      "0                  NULL              NULL          NULL           NULL   \n",
      "1                  NULL    Passion Privee         Women           NULL   \n",
      "2                  NULL              NULL          NULL           NULL   \n",
      "3                  NULL              NULL          NULL           NULL   \n",
      "4                  NULL  The New Classics         Women           NULL   \n",
      "...                 ...               ...           ...            ...   \n",
      "39995              NULL              NULL          NULL           NULL   \n",
      "39996              NULL              NULL          NULL           NULL   \n",
      "39997              NULL              NULL          NULL           NULL   \n",
      "39998              NULL              NULL          NULL           NULL   \n",
      "39999              NULL              NULL          NULL           NULL   \n",
      "\n",
      "      Session Last Request Hour Of Day Session Time Elapsed  \\\n",
      "0                         '(-inf-6.5]'      '(107.5-263.5]'   \n",
      "1                        '(10.5-14.5]'        '(263.5-inf)'   \n",
      "2                        '(10.5-14.5]'        '(263.5-inf)'   \n",
      "3                        '(10.5-14.5]'      '(107.5-263.5]'   \n",
      "4                        '(10.5-14.5]'        '(263.5-inf)'   \n",
      "...                                ...                  ...   \n",
      "39995                    '(10.5-14.5]'      '(107.5-263.5]'   \n",
      "39996                    '(10.5-14.5]'        '(263.5-inf)'   \n",
      "39997                    '(14.5-18.5]'        '(263.5-inf)'   \n",
      "39998                    '(14.5-18.5]'        '(263.5-inf)'   \n",
      "39999                     '(18.5-inf)'      '(107.5-263.5]'   \n",
      "\n",
      "      Average Time Per Page View Session First Request Hour of Day Bin  Class  \n",
      "0              '(73.045455-inf)'                             (5 ___ 9]  False  \n",
      "1        '(32.021739-46.816667]'                            (9 ___ 12]   True  \n",
      "2        '(32.021739-46.816667]'                            (9 ___ 12]  False  \n",
      "3        '(19.038462-32.021739]'                            (9 ___ 12]   True  \n",
      "4              '(73.045455-inf)'                            (9 ___ 12]  False  \n",
      "...                          ...                                   ...    ...  \n",
      "39995    '(19.038462-32.021739]'                            (9 ___ 12]   True  \n",
      "39996    '(46.816667-73.045455]'                            (9 ___ 12]  False  \n",
      "39997         '(-inf-19.038462]'                           (14 ___ 17]  False  \n",
      "39998          '(73.045455-inf)'                           (14 ___ 17]  False  \n",
      "39999    '(46.816667-73.045455]'                           (17 ___ 22]   True  \n",
      "\n",
      "[40000 rows x 177 columns]\n",
      "(25000, 177)\n",
      "      CRA Income Classification Session Start Login Count Session Visit Count  \\\n",
      "0                           NaN                       NaN        '(-inf-1.5]'   \n",
      "1                           NaN                       NaN        '(-inf-1.5]'   \n",
      "2                           NaN                       NaN        '(-inf-1.5]'   \n",
      "3                           NaN                       NaN        '(-inf-1.5]'   \n",
      "4                           NaN                       NaN        '(-inf-1.5]'   \n",
      "...                         ...                       ...                 ...   \n",
      "24995                       NaN              '(-inf-1.5]'         '(1.5-2.5]'   \n",
      "24996               '(3.5-inf)'              '(-inf-1.5]'         '(1.5-2.5]'   \n",
      "24997                       NaN              '(-inf-1.5]'        '(-inf-1.5]'   \n",
      "24998                       NaN              '(-inf-1.5]'        '(-inf-1.5]'   \n",
      "24999                       NaN              '(-inf-1.5]'        '(-inf-1.5]'   \n",
      "\n",
      "      Session First Processing Time Session First Request Day of Week  \\\n",
      "0                     '(179.5-inf)'                            Friday   \n",
      "1                    '(70.5-179.5]'                            Friday   \n",
      "2                    '(70.5-179.5]'                          Saturday   \n",
      "3                     '(179.5-inf)'                          Saturday   \n",
      "4                     '(62.5-70.5]'                          Saturday   \n",
      "...                             ...                               ...   \n",
      "24995                 '(-inf-54.5]'                            Sunday   \n",
      "24996                 '(54.5-62.5]'                            Sunday   \n",
      "24997                '(70.5-179.5]'                            Sunday   \n",
      "24998                '(70.5-179.5]'                            Sunday   \n",
      "24999                 '(62.5-70.5]'                            Sunday   \n",
      "\n",
      "      Session First Request Hour of Day Session Request Count  \\\n",
      "0                          '(18.5-inf)'           '(1.5-2.5]'   \n",
      "1                          '(18.5-inf)'           '(6.5-inf)'   \n",
      "2                          '(-inf-6.5]'           '(6.5-inf)'   \n",
      "3                          '(-inf-6.5]'          '(-inf-1.5]'   \n",
      "4                          '(-inf-6.5]'           '(6.5-inf)'   \n",
      "...                                 ...                   ...   \n",
      "24995                     '(14.5-18.5]'           '(6.5-inf)'   \n",
      "24996                     '(14.5-18.5]'           '(3.5-6.5]'   \n",
      "24997                     '(14.5-18.5]'           '(6.5-inf)'   \n",
      "24998                     '(14.5-18.5]'           '(6.5-inf)'   \n",
      "24999                      '(18.5-inf)'           '(6.5-inf)'   \n",
      "\n",
      "      Num Hanes Product Views Num Oroblu Product Views  \\\n",
      "0                 '(0.5-1.5]'             '(-inf-0.5]'   \n",
      "1                '(-inf-0.5]'             '(-inf-0.5]'   \n",
      "2                '(-inf-0.5]'             '(-inf-0.5]'   \n",
      "3                '(-inf-0.5]'             '(-inf-0.5]'   \n",
      "4                '(-inf-0.5]'             '(-inf-0.5]'   \n",
      "...                       ...                      ...   \n",
      "24995            '(-inf-0.5]'             '(-inf-0.5]'   \n",
      "24996            '(-inf-0.5]'             '(-inf-0.5]'   \n",
      "24997            '(-inf-0.5]'             '(-inf-0.5]'   \n",
      "24998             '(3.5-inf)'             '(-inf-0.5]'   \n",
      "24999            '(-inf-0.5]'             '(-inf-0.5]'   \n",
      "\n",
      "      Num AmericanEssentials Product Views  ... Material Last  \\\n",
      "0                             '(-inf-0.5]'  ...          NULL   \n",
      "1                             '(-inf-0.5]'  ...          NULL   \n",
      "2                             '(-inf-0.5]'  ...          NULL   \n",
      "3                             '(-inf-0.5]'  ...          NULL   \n",
      "4                             '(-inf-0.5]'  ...          NULL   \n",
      "...                                    ...  ...           ...   \n",
      "24995                         '(-inf-0.5]'  ...          NULL   \n",
      "24996                         '(-inf-0.5]'  ...        Cotton   \n",
      "24997                         '(-inf-0.5]'  ...          NULL   \n",
      "24998                         '(-inf-0.5]'  ...          NULL   \n",
      "24999                         '(-inf-0.5]'  ...          NULL   \n",
      "\n",
      "      WaistControl Last         Collection Last Audience Last Category1 Last  \\\n",
      "0                    CT  Beyond Bare Collection         Women           NULL   \n",
      "1                  NULL                    NULL          NULL           NULL   \n",
      "2                  NULL                    NULL          NULL           NULL   \n",
      "3                  NULL                    NULL          NULL           NULL   \n",
      "4                  NULL                    NULL          NULL           NULL   \n",
      "...                 ...                     ...           ...            ...   \n",
      "24995              NULL                    NULL          NULL           NULL   \n",
      "24996              NULL             Hello Kitty      Children           NULL   \n",
      "24997              NULL                    NULL          NULL           NULL   \n",
      "24998              NULL                    NULL          NULL           NULL   \n",
      "24999              NULL                    NULL          NULL           NULL   \n",
      "\n",
      "      Session Last Request Hour Of Day Session Time Elapsed  \\\n",
      "0                         '(18.5-inf)'         '(0.5-48.5]'   \n",
      "1                         '(-inf-6.5]'       '(48.5-107.5]'   \n",
      "2                         '(-inf-6.5]'       '(48.5-107.5]'   \n",
      "3                         '(-inf-6.5]'         '(-inf-0.5]'   \n",
      "4                         '(-inf-6.5]'       '(48.5-107.5]'   \n",
      "...                                ...                  ...   \n",
      "24995                    '(14.5-18.5]'        '(263.5-inf)'   \n",
      "24996                    '(14.5-18.5]'       '(48.5-107.5]'   \n",
      "24997                    '(14.5-18.5]'      '(107.5-263.5]'   \n",
      "24998                     '(18.5-inf)'        '(263.5-inf)'   \n",
      "24999                     '(18.5-inf)'        '(263.5-inf)'   \n",
      "\n",
      "      Average Time Per Page View Session First Request Hour of Day Bin  Class  \n",
      "0        '(32.021739-46.816667]'                              (22 ___)   True  \n",
      "1             '(-inf-19.038462]'                              (22 ___)  False  \n",
      "2             '(-inf-19.038462]'                               (___ 5]  False  \n",
      "3                            NaN                               (___ 5]  False  \n",
      "4             '(-inf-19.038462]'                               (___ 5]  False  \n",
      "...                          ...                                   ...    ...  \n",
      "24995    '(19.038462-32.021739]'                           (14 ___ 17]  False  \n",
      "24996         '(-inf-19.038462]'                           (17 ___ 22]   True  \n",
      "24997    '(19.038462-32.021739]'                           (17 ___ 22]   True  \n",
      "24998    '(46.816667-73.045455]'                           (17 ___ 22]  False  \n",
      "24999    '(46.816667-73.045455]'                           (17 ___ 22]  False  \n",
      "\n",
      "[25000 rows x 177 columns]\n"
     ]
    }
   ],
   "source": [
    "df_removed = df_removed[df_removed.isnull()==False]\n",
    "print(df_removed.shape)\n",
    "print(df_removed)\n",
    "\n",
    "df_removed2 = df_removed2[df_removed2.isnull()==False]\n",
    "print(df_removed2.shape)\n",
    "print(df_removed2)"
   ],
   "metadata": {
    "collapsed": false,
    "pycharm": {
     "name": "#%%\n"
    }
   }
  },
  {
   "cell_type": "markdown",
   "source": [
    "#### Remove NaN and NULL rows"
   ],
   "metadata": {
    "collapsed": false
   }
  },
  {
   "cell_type": "code",
   "execution_count": 13,
   "outputs": [
    {
     "name": "stdout",
     "output_type": "stream",
     "text": [
      "CRA Income Classification                39812\n",
      "Session Start Login Count                39219\n",
      "Session Visit Count                          0\n",
      "Session First Processing Time                0\n",
      "Session First Request Day of Week            0\n",
      "                                         ...  \n",
      "Session Last Request Hour Of Day             0\n",
      "Session Time Elapsed                         0\n",
      "Average Time Per Page View               28071\n",
      "Session First Request Hour of Day Bin        0\n",
      "Class                                        0\n",
      "Length: 177, dtype: int64\n",
      "(40000, 145)\n",
      "CRA Income Classification                24789\n",
      "Session Start Login Count                24211\n",
      "Session Visit Count                          0\n",
      "Session First Processing Time                0\n",
      "Session First Request Day of Week            0\n",
      "                                         ...  \n",
      "Session Last Request Hour Of Day             0\n",
      "Session Time Elapsed                         0\n",
      "Average Time Per Page View               16221\n",
      "Session First Request Hour of Day Bin        0\n",
      "Class                                        0\n",
      "Length: 177, dtype: int64\n"
     ]
    },
    {
     "data": {
      "text/plain": "(25000, 142)"
     },
     "execution_count": 13,
     "metadata": {},
     "output_type": "execute_result"
    }
   ],
   "source": [
    "print(df_removed.isnull().sum())\n",
    "df_removed = df_removed.loc[:, (df_removed.isnull().sum() == 0)]\n",
    "print(df_removed.shape)\n",
    "\n",
    "print(df_removed2.isnull().sum())\n",
    "df_removed2 = df_removed2.loc[:, (df_removed2.isnull().sum() == 0)]\n",
    "df_removed2.shape"
   ],
   "metadata": {
    "collapsed": false,
    "pycharm": {
     "name": "#%%\n"
    }
   }
  },
  {
   "cell_type": "markdown",
   "source": [
    "### Round 4"
   ],
   "metadata": {
    "collapsed": false
   }
  },
  {
   "cell_type": "code",
   "execution_count": 14,
   "outputs": [
    {
     "data": {
      "text/plain": "(40000, 129)"
     },
     "execution_count": 14,
     "metadata": {},
     "output_type": "execute_result"
    }
   ],
   "source": [
    "df_removed = df_removed.drop(columns=['BrandName Last', 'PrimaryPackage Last', 'Cat1Sub2 Last', 'StockType Last', 'ProductForm Last', 'Look Last',\n",
    "                                      'BasicOrFashion Last', 'HasDressingRoom Last', 'Texture Last', 'ToeFeature Last', 'Category2 Last',\n",
    "                                      'Material Last', 'WaistControl Last', 'Collection Last', 'Audience Last', 'Category1 Last'], axis=1)\n",
    "df_removed.shape"
   ],
   "metadata": {
    "collapsed": false,
    "pycharm": {
     "name": "#%%\n"
    }
   }
  },
  {
   "cell_type": "code",
   "execution_count": 15,
   "outputs": [
    {
     "data": {
      "text/plain": "(25000, 129)"
     },
     "execution_count": 15,
     "metadata": {},
     "output_type": "execute_result"
    }
   ],
   "source": [
    "df_removed2 = df_removed2.drop(columns=['BrandName Last', 'PrimaryPackage Last', 'Cat1Sub2 Last', 'StockType Last', 'ProductForm Last', 'Look Last',\n",
    "                                      'BasicOrFashion Last', 'HasDressingRoom Last', 'Texture Last', 'ToeFeature Last', 'Category2 Last',\n",
    "                                      'WaistControl Last', 'Audience Last'], axis=1)\n",
    "df_removed2.shape"
   ],
   "metadata": {
    "collapsed": false,
    "pycharm": {
     "name": "#%%\n"
    }
   }
  },
  {
   "cell_type": "markdown",
   "source": [
    "#### Round 5"
   ],
   "metadata": {
    "collapsed": false
   }
  },
  {
   "cell_type": "markdown",
   "source": [],
   "metadata": {
    "collapsed": false
   }
  },
  {
   "cell_type": "code",
   "execution_count": 16,
   "outputs": [
    {
     "data": {
      "text/plain": "      Session Visit Count Session First Processing Time  \\\n0            '(-inf-1.5]'                 '(179.5-inf)'   \n1            '(-inf-1.5]'                '(70.5-179.5]'   \n2            '(-inf-1.5]'                '(70.5-179.5]'   \n3            '(-inf-1.5]'                 '(179.5-inf)'   \n4            '(-inf-1.5]'                 '(62.5-70.5]'   \n...                   ...                           ...   \n24995         '(1.5-2.5]'                 '(-inf-54.5]'   \n24996         '(1.5-2.5]'                 '(54.5-62.5]'   \n24997        '(-inf-1.5]'                '(70.5-179.5]'   \n24998        '(-inf-1.5]'                '(70.5-179.5]'   \n24999        '(-inf-1.5]'                 '(62.5-70.5]'   \n\n      Session First Request Day of Week Session First Request Hour of Day  \\\n0                                Friday                      '(18.5-inf)'   \n1                                Friday                      '(18.5-inf)'   \n2                              Saturday                      '(-inf-6.5]'   \n3                              Saturday                      '(-inf-6.5]'   \n4                              Saturday                      '(-inf-6.5]'   \n...                                 ...                               ...   \n24995                            Sunday                     '(14.5-18.5]'   \n24996                            Sunday                     '(14.5-18.5]'   \n24997                            Sunday                     '(14.5-18.5]'   \n24998                            Sunday                     '(14.5-18.5]'   \n24999                            Sunday                      '(18.5-inf)'   \n\n      Session Request Count Num Hanes Product Views Num Oroblu Product Views  \\\n0               '(1.5-2.5]'             '(0.5-1.5]'             '(-inf-0.5]'   \n1               '(6.5-inf)'            '(-inf-0.5]'             '(-inf-0.5]'   \n2               '(6.5-inf)'            '(-inf-0.5]'             '(-inf-0.5]'   \n3              '(-inf-1.5]'            '(-inf-0.5]'             '(-inf-0.5]'   \n4               '(6.5-inf)'            '(-inf-0.5]'             '(-inf-0.5]'   \n...                     ...                     ...                      ...   \n24995           '(6.5-inf)'            '(-inf-0.5]'             '(-inf-0.5]'   \n24996           '(3.5-6.5]'            '(-inf-0.5]'             '(-inf-0.5]'   \n24997           '(6.5-inf)'            '(-inf-0.5]'             '(-inf-0.5]'   \n24998           '(6.5-inf)'             '(3.5-inf)'             '(-inf-0.5]'   \n24999           '(6.5-inf)'            '(-inf-0.5]'             '(-inf-0.5]'   \n\n      Num AmericanEssentials Product Views Num Danskin Product Views  \\\n0                             '(-inf-0.5]'              '(-inf-0.5]'   \n1                             '(-inf-0.5]'              '(-inf-0.5]'   \n2                             '(-inf-0.5]'              '(-inf-0.5]'   \n3                             '(-inf-0.5]'              '(-inf-0.5]'   \n4                             '(-inf-0.5]'              '(-inf-0.5]'   \n...                                    ...                       ...   \n24995                         '(-inf-0.5]'              '(-inf-0.5]'   \n24996                         '(-inf-0.5]'              '(-inf-0.5]'   \n24997                         '(-inf-0.5]'              '(-inf-0.5]'   \n24998                         '(-inf-0.5]'              '(-inf-0.5]'   \n24999                         '(-inf-0.5]'              '(-inf-0.5]'   \n\n      Num DonnaKaran Product Views  ... Num CT Waist Control Views  \\\n0                     '(-inf-0.5]'  ...                '(0.5-1.5]'   \n1                     '(-inf-0.5]'  ...               '(-inf-0.5]'   \n2                     '(-inf-0.5]'  ...               '(-inf-0.5]'   \n3                     '(-inf-0.5]'  ...               '(-inf-0.5]'   \n4                     '(-inf-0.5]'  ...               '(-inf-0.5]'   \n...                            ...  ...                        ...   \n24995                  '(0.5-1.5]'  ...               '(-inf-0.5]'   \n24996                 '(-inf-0.5]'  ...               '(-inf-0.5]'   \n24997                 '(-inf-0.5]'  ...               '(-inf-0.5]'   \n24998                 '(-inf-0.5]'  ...               '(-inf-0.5]'   \n24999                 '(-inf-0.5]'  ...               '(-inf-0.5]'   \n\n      Num STW Waist Control Views Num Women Product Views  \\\n0                    '(-inf-0.5]'             '(0.5-1.5]'   \n1                    '(-inf-0.5]'            '(-inf-0.5]'   \n2                    '(-inf-0.5]'            '(-inf-0.5]'   \n3                    '(-inf-0.5]'            '(-inf-0.5]'   \n4                    '(-inf-0.5]'            '(-inf-0.5]'   \n...                           ...                     ...   \n24995                 '(1.5-2.5]'             '(1.5-2.5]'   \n24996                '(-inf-0.5]'            '(-inf-0.5]'   \n24997                '(-inf-0.5]'            '(-inf-0.5]'   \n24998                '(-inf-0.5]'             '(4.5-inf)'   \n24999                '(-inf-0.5]'             '(4.5-inf)'   \n\n      Num Men Product Views Num Children Product Views  \\\n0              '(-inf-0.5]'               '(-inf-0.5]'   \n1              '(-inf-0.5]'               '(-inf-0.5]'   \n2              '(-inf-0.5]'               '(-inf-0.5]'   \n3              '(-inf-0.5]'               '(-inf-0.5]'   \n4              '(-inf-0.5]'               '(-inf-0.5]'   \n...                     ...                        ...   \n24995          '(-inf-0.5]'               '(-inf-0.5]'   \n24996          '(-inf-0.5]'                '(0.5-1.5]'   \n24997          '(-inf-0.5]'               '(-inf-0.5]'   \n24998          '(-inf-0.5]'               '(-inf-0.5]'   \n24999          '(-inf-0.5]'               '(-inf-0.5]'   \n\n      Session Last Request Day Of Week Session Last Request Hour Of Day  \\\n0                               Friday                     '(18.5-inf)'   \n1                             Saturday                     '(-inf-6.5]'   \n2                             Saturday                     '(-inf-6.5]'   \n3                             Saturday                     '(-inf-6.5]'   \n4                             Saturday                     '(-inf-6.5]'   \n...                                ...                              ...   \n24995                           Sunday                    '(14.5-18.5]'   \n24996                           Sunday                    '(14.5-18.5]'   \n24997                           Sunday                    '(14.5-18.5]'   \n24998                           Sunday                     '(18.5-inf)'   \n24999                           Sunday                     '(18.5-inf)'   \n\n      Session Time Elapsed Session First Request Hour of Day Bin  Class  \n0             '(0.5-48.5]'                              (22 ___)   True  \n1           '(48.5-107.5]'                              (22 ___)  False  \n2           '(48.5-107.5]'                               (___ 5]  False  \n3             '(-inf-0.5]'                               (___ 5]  False  \n4           '(48.5-107.5]'                               (___ 5]  False  \n...                    ...                                   ...    ...  \n24995        '(263.5-inf)'                           (14 ___ 17]  False  \n24996       '(48.5-107.5]'                           (17 ___ 22]   True  \n24997      '(107.5-263.5]'                           (17 ___ 22]   True  \n24998        '(263.5-inf)'                           (17 ___ 22]  False  \n24999        '(263.5-inf)'                           (17 ___ 22]  False  \n\n[25000 rows x 129 columns]",
      "text/html": "<div>\n<style scoped>\n    .dataframe tbody tr th:only-of-type {\n        vertical-align: middle;\n    }\n\n    .dataframe tbody tr th {\n        vertical-align: top;\n    }\n\n    .dataframe thead th {\n        text-align: right;\n    }\n</style>\n<table border=\"1\" class=\"dataframe\">\n  <thead>\n    <tr style=\"text-align: right;\">\n      <th></th>\n      <th>Session Visit Count</th>\n      <th>Session First Processing Time</th>\n      <th>Session First Request Day of Week</th>\n      <th>Session First Request Hour of Day</th>\n      <th>Session Request Count</th>\n      <th>Num Hanes Product Views</th>\n      <th>Num Oroblu Product Views</th>\n      <th>Num AmericanEssentials Product Views</th>\n      <th>Num Danskin Product Views</th>\n      <th>Num DonnaKaran Product Views</th>\n      <th>...</th>\n      <th>Num CT Waist Control Views</th>\n      <th>Num STW Waist Control Views</th>\n      <th>Num Women Product Views</th>\n      <th>Num Men Product Views</th>\n      <th>Num Children Product Views</th>\n      <th>Session Last Request Day Of Week</th>\n      <th>Session Last Request Hour Of Day</th>\n      <th>Session Time Elapsed</th>\n      <th>Session First Request Hour of Day Bin</th>\n      <th>Class</th>\n    </tr>\n  </thead>\n  <tbody>\n    <tr>\n      <th>0</th>\n      <td>'(-inf-1.5]'</td>\n      <td>'(179.5-inf)'</td>\n      <td>Friday</td>\n      <td>'(18.5-inf)'</td>\n      <td>'(1.5-2.5]'</td>\n      <td>'(0.5-1.5]'</td>\n      <td>'(-inf-0.5]'</td>\n      <td>'(-inf-0.5]'</td>\n      <td>'(-inf-0.5]'</td>\n      <td>'(-inf-0.5]'</td>\n      <td>...</td>\n      <td>'(0.5-1.5]'</td>\n      <td>'(-inf-0.5]'</td>\n      <td>'(0.5-1.5]'</td>\n      <td>'(-inf-0.5]'</td>\n      <td>'(-inf-0.5]'</td>\n      <td>Friday</td>\n      <td>'(18.5-inf)'</td>\n      <td>'(0.5-48.5]'</td>\n      <td>(22 ___)</td>\n      <td>True</td>\n    </tr>\n    <tr>\n      <th>1</th>\n      <td>'(-inf-1.5]'</td>\n      <td>'(70.5-179.5]'</td>\n      <td>Friday</td>\n      <td>'(18.5-inf)'</td>\n      <td>'(6.5-inf)'</td>\n      <td>'(-inf-0.5]'</td>\n      <td>'(-inf-0.5]'</td>\n      <td>'(-inf-0.5]'</td>\n      <td>'(-inf-0.5]'</td>\n      <td>'(-inf-0.5]'</td>\n      <td>...</td>\n      <td>'(-inf-0.5]'</td>\n      <td>'(-inf-0.5]'</td>\n      <td>'(-inf-0.5]'</td>\n      <td>'(-inf-0.5]'</td>\n      <td>'(-inf-0.5]'</td>\n      <td>Saturday</td>\n      <td>'(-inf-6.5]'</td>\n      <td>'(48.5-107.5]'</td>\n      <td>(22 ___)</td>\n      <td>False</td>\n    </tr>\n    <tr>\n      <th>2</th>\n      <td>'(-inf-1.5]'</td>\n      <td>'(70.5-179.5]'</td>\n      <td>Saturday</td>\n      <td>'(-inf-6.5]'</td>\n      <td>'(6.5-inf)'</td>\n      <td>'(-inf-0.5]'</td>\n      <td>'(-inf-0.5]'</td>\n      <td>'(-inf-0.5]'</td>\n      <td>'(-inf-0.5]'</td>\n      <td>'(-inf-0.5]'</td>\n      <td>...</td>\n      <td>'(-inf-0.5]'</td>\n      <td>'(-inf-0.5]'</td>\n      <td>'(-inf-0.5]'</td>\n      <td>'(-inf-0.5]'</td>\n      <td>'(-inf-0.5]'</td>\n      <td>Saturday</td>\n      <td>'(-inf-6.5]'</td>\n      <td>'(48.5-107.5]'</td>\n      <td>(___ 5]</td>\n      <td>False</td>\n    </tr>\n    <tr>\n      <th>3</th>\n      <td>'(-inf-1.5]'</td>\n      <td>'(179.5-inf)'</td>\n      <td>Saturday</td>\n      <td>'(-inf-6.5]'</td>\n      <td>'(-inf-1.5]'</td>\n      <td>'(-inf-0.5]'</td>\n      <td>'(-inf-0.5]'</td>\n      <td>'(-inf-0.5]'</td>\n      <td>'(-inf-0.5]'</td>\n      <td>'(-inf-0.5]'</td>\n      <td>...</td>\n      <td>'(-inf-0.5]'</td>\n      <td>'(-inf-0.5]'</td>\n      <td>'(-inf-0.5]'</td>\n      <td>'(-inf-0.5]'</td>\n      <td>'(-inf-0.5]'</td>\n      <td>Saturday</td>\n      <td>'(-inf-6.5]'</td>\n      <td>'(-inf-0.5]'</td>\n      <td>(___ 5]</td>\n      <td>False</td>\n    </tr>\n    <tr>\n      <th>4</th>\n      <td>'(-inf-1.5]'</td>\n      <td>'(62.5-70.5]'</td>\n      <td>Saturday</td>\n      <td>'(-inf-6.5]'</td>\n      <td>'(6.5-inf)'</td>\n      <td>'(-inf-0.5]'</td>\n      <td>'(-inf-0.5]'</td>\n      <td>'(-inf-0.5]'</td>\n      <td>'(-inf-0.5]'</td>\n      <td>'(-inf-0.5]'</td>\n      <td>...</td>\n      <td>'(-inf-0.5]'</td>\n      <td>'(-inf-0.5]'</td>\n      <td>'(-inf-0.5]'</td>\n      <td>'(-inf-0.5]'</td>\n      <td>'(-inf-0.5]'</td>\n      <td>Saturday</td>\n      <td>'(-inf-6.5]'</td>\n      <td>'(48.5-107.5]'</td>\n      <td>(___ 5]</td>\n      <td>False</td>\n    </tr>\n    <tr>\n      <th>...</th>\n      <td>...</td>\n      <td>...</td>\n      <td>...</td>\n      <td>...</td>\n      <td>...</td>\n      <td>...</td>\n      <td>...</td>\n      <td>...</td>\n      <td>...</td>\n      <td>...</td>\n      <td>...</td>\n      <td>...</td>\n      <td>...</td>\n      <td>...</td>\n      <td>...</td>\n      <td>...</td>\n      <td>...</td>\n      <td>...</td>\n      <td>...</td>\n      <td>...</td>\n      <td>...</td>\n    </tr>\n    <tr>\n      <th>24995</th>\n      <td>'(1.5-2.5]'</td>\n      <td>'(-inf-54.5]'</td>\n      <td>Sunday</td>\n      <td>'(14.5-18.5]'</td>\n      <td>'(6.5-inf)'</td>\n      <td>'(-inf-0.5]'</td>\n      <td>'(-inf-0.5]'</td>\n      <td>'(-inf-0.5]'</td>\n      <td>'(-inf-0.5]'</td>\n      <td>'(0.5-1.5]'</td>\n      <td>...</td>\n      <td>'(-inf-0.5]'</td>\n      <td>'(1.5-2.5]'</td>\n      <td>'(1.5-2.5]'</td>\n      <td>'(-inf-0.5]'</td>\n      <td>'(-inf-0.5]'</td>\n      <td>Sunday</td>\n      <td>'(14.5-18.5]'</td>\n      <td>'(263.5-inf)'</td>\n      <td>(14 ___ 17]</td>\n      <td>False</td>\n    </tr>\n    <tr>\n      <th>24996</th>\n      <td>'(1.5-2.5]'</td>\n      <td>'(54.5-62.5]'</td>\n      <td>Sunday</td>\n      <td>'(14.5-18.5]'</td>\n      <td>'(3.5-6.5]'</td>\n      <td>'(-inf-0.5]'</td>\n      <td>'(-inf-0.5]'</td>\n      <td>'(-inf-0.5]'</td>\n      <td>'(-inf-0.5]'</td>\n      <td>'(-inf-0.5]'</td>\n      <td>...</td>\n      <td>'(-inf-0.5]'</td>\n      <td>'(-inf-0.5]'</td>\n      <td>'(-inf-0.5]'</td>\n      <td>'(-inf-0.5]'</td>\n      <td>'(0.5-1.5]'</td>\n      <td>Sunday</td>\n      <td>'(14.5-18.5]'</td>\n      <td>'(48.5-107.5]'</td>\n      <td>(17 ___ 22]</td>\n      <td>True</td>\n    </tr>\n    <tr>\n      <th>24997</th>\n      <td>'(-inf-1.5]'</td>\n      <td>'(70.5-179.5]'</td>\n      <td>Sunday</td>\n      <td>'(14.5-18.5]'</td>\n      <td>'(6.5-inf)'</td>\n      <td>'(-inf-0.5]'</td>\n      <td>'(-inf-0.5]'</td>\n      <td>'(-inf-0.5]'</td>\n      <td>'(-inf-0.5]'</td>\n      <td>'(-inf-0.5]'</td>\n      <td>...</td>\n      <td>'(-inf-0.5]'</td>\n      <td>'(-inf-0.5]'</td>\n      <td>'(-inf-0.5]'</td>\n      <td>'(-inf-0.5]'</td>\n      <td>'(-inf-0.5]'</td>\n      <td>Sunday</td>\n      <td>'(14.5-18.5]'</td>\n      <td>'(107.5-263.5]'</td>\n      <td>(17 ___ 22]</td>\n      <td>True</td>\n    </tr>\n    <tr>\n      <th>24998</th>\n      <td>'(-inf-1.5]'</td>\n      <td>'(70.5-179.5]'</td>\n      <td>Sunday</td>\n      <td>'(14.5-18.5]'</td>\n      <td>'(6.5-inf)'</td>\n      <td>'(3.5-inf)'</td>\n      <td>'(-inf-0.5]'</td>\n      <td>'(-inf-0.5]'</td>\n      <td>'(-inf-0.5]'</td>\n      <td>'(-inf-0.5]'</td>\n      <td>...</td>\n      <td>'(-inf-0.5]'</td>\n      <td>'(-inf-0.5]'</td>\n      <td>'(4.5-inf)'</td>\n      <td>'(-inf-0.5]'</td>\n      <td>'(-inf-0.5]'</td>\n      <td>Sunday</td>\n      <td>'(18.5-inf)'</td>\n      <td>'(263.5-inf)'</td>\n      <td>(17 ___ 22]</td>\n      <td>False</td>\n    </tr>\n    <tr>\n      <th>24999</th>\n      <td>'(-inf-1.5]'</td>\n      <td>'(62.5-70.5]'</td>\n      <td>Sunday</td>\n      <td>'(18.5-inf)'</td>\n      <td>'(6.5-inf)'</td>\n      <td>'(-inf-0.5]'</td>\n      <td>'(-inf-0.5]'</td>\n      <td>'(-inf-0.5]'</td>\n      <td>'(-inf-0.5]'</td>\n      <td>'(-inf-0.5]'</td>\n      <td>...</td>\n      <td>'(-inf-0.5]'</td>\n      <td>'(-inf-0.5]'</td>\n      <td>'(4.5-inf)'</td>\n      <td>'(-inf-0.5]'</td>\n      <td>'(-inf-0.5]'</td>\n      <td>Sunday</td>\n      <td>'(18.5-inf)'</td>\n      <td>'(263.5-inf)'</td>\n      <td>(17 ___ 22]</td>\n      <td>False</td>\n    </tr>\n  </tbody>\n</table>\n<p>25000 rows × 129 columns</p>\n</div>"
     },
     "execution_count": 16,
     "metadata": {},
     "output_type": "execute_result"
    }
   ],
   "source": [
    "df_removed2"
   ],
   "metadata": {
    "collapsed": false,
    "pycharm": {
     "name": "#%%\n"
    }
   }
  },
  {
   "cell_type": "code",
   "execution_count": 42,
   "outputs": [
    {
     "data": {
      "text/plain": "   Session Visit Count Session First Processing Time  \\\n0           (-inf-1.5]                   (179.5-inf)   \n1            (1.5-2.5]                   (179.5-inf)   \n2           (-inf-1.5]                   (179.5-inf)   \n3            (1.5-2.5]                   (179.5-inf)   \n4           (4.5-26.5]                   (179.5-inf)   \n5           (4.5-26.5]                   (179.5-inf)   \n6            (1.5-2.5]                   (179.5-inf)   \n7           (-inf-1.5]                   (179.5-inf)   \n8            (2.5-4.5]                   (179.5-inf)   \n9            (2.5-4.5]                   (179.5-inf)   \n10           (1.5-2.5]                   (179.5-inf)   \n11          (-inf-1.5]                   (179.5-inf)   \n12           (2.5-4.5]                   (179.5-inf)   \n13          (-inf-1.5]                   (179.5-inf)   \n14          (-inf-1.5]                   (179.5-inf)   \n15           (1.5-2.5]                   (179.5-inf)   \n16          (-inf-1.5]                   (179.5-inf)   \n17          (4.5-26.5]                   (179.5-inf)   \n18          (-inf-1.5]                   (179.5-inf)   \n19          (-inf-1.5]                   (179.5-inf)   \n20           (1.5-2.5]                   (179.5-inf)   \n21           (1.5-2.5]                   (179.5-inf)   \n22          (4.5-26.5]                   (179.5-inf)   \n23           (2.5-4.5]                   (179.5-inf)   \n24           (2.5-4.5]                   (179.5-inf)   \n25           (2.5-4.5]                   (179.5-inf)   \n26          (4.5-26.5]                   (179.5-inf)   \n27           (2.5-4.5]                   (179.5-inf)   \n28          (4.5-26.5]                   (179.5-inf)   \n29          (4.5-26.5]                   (179.5-inf)   \n\n   Session First Request Day of Week Session First Request Hour of Day  \\\n0                             Sunday                        (-inf-6.5]   \n1                             Sunday                       (10.5-14.5]   \n2                             Sunday                       (10.5-14.5]   \n3                             Sunday                       (10.5-14.5]   \n4                             Sunday                       (10.5-14.5]   \n5                             Sunday                       (10.5-14.5]   \n6                             Sunday                       (10.5-14.5]   \n7                             Sunday                       (14.5-18.5]   \n8                             Monday                        (-inf-6.5]   \n9                             Monday                        (-inf-6.5]   \n10                            Monday                        (6.5-10.5]   \n11                            Monday                        (6.5-10.5]   \n12                            Monday                        (6.5-10.5]   \n13                            Monday                        (6.5-10.5]   \n14                            Monday                        (6.5-10.5]   \n15                            Monday                        (6.5-10.5]   \n16                            Monday                        (6.5-10.5]   \n17                            Monday                        (6.5-10.5]   \n18                            Monday                        (6.5-10.5]   \n19                            Monday                        (6.5-10.5]   \n20                            Monday                        (6.5-10.5]   \n21                            Monday                       (10.5-14.5]   \n22                            Monday                       (10.5-14.5]   \n23                            Monday                       (10.5-14.5]   \n24                            Monday                       (10.5-14.5]   \n25                            Monday                       (10.5-14.5]   \n26                            Monday                       (10.5-14.5]   \n27                            Monday                       (10.5-14.5]   \n28                            Monday                       (14.5-18.5]   \n29                            Monday                       (14.5-18.5]   \n\n   Session Request Count Num Hanes Product Views Num Oroblu Product Views  \\\n0              (2.5-3.5]              (-inf-0.5]               (-inf-0.5]   \n1              (6.5-inf)               (2.5-3.5]                (0.5-1.5]   \n2              (6.5-inf)               (0.5-1.5]                (0.5-1.5]   \n3              (6.5-inf)              (-inf-0.5]               (-inf-0.5]   \n4              (6.5-inf)               (0.5-1.5]               (-inf-0.5]   \n5             (-inf-1.5]              (-inf-0.5]               (-inf-0.5]   \n6             (-inf-1.5]              (-inf-0.5]               (-inf-0.5]   \n7              (6.5-inf)              (-inf-0.5]               (-inf-0.5]   \n8             (-inf-1.5]              (-inf-0.5]               (-inf-0.5]   \n9              (2.5-3.5]              (-inf-0.5]               (-inf-0.5]   \n10            (-inf-1.5]              (-inf-0.5]               (-inf-0.5]   \n11             (6.5-inf)              (-inf-0.5]               (-inf-0.5]   \n12             (6.5-inf)               (1.5-2.5]               (-inf-0.5]   \n13            (-inf-1.5]              (-inf-0.5]               (-inf-0.5]   \n14             (3.5-6.5]              (-inf-0.5]               (-inf-0.5]   \n15             (3.5-6.5]              (-inf-0.5]               (-inf-0.5]   \n16             (2.5-3.5]              (-inf-0.5]               (-inf-0.5]   \n17             (2.5-3.5]              (-inf-0.5]               (-inf-0.5]   \n18            (-inf-1.5]              (-inf-0.5]               (-inf-0.5]   \n19             (1.5-2.5]              (-inf-0.5]               (-inf-0.5]   \n20            (-inf-1.5]              (-inf-0.5]               (-inf-0.5]   \n21             (1.5-2.5]              (-inf-0.5]               (-inf-0.5]   \n22             (1.5-2.5]              (-inf-0.5]               (-inf-0.5]   \n23             (1.5-2.5]              (-inf-0.5]               (-inf-0.5]   \n24             (3.5-6.5]              (-inf-0.5]               (-inf-0.5]   \n25            (-inf-1.5]              (-inf-0.5]               (-inf-0.5]   \n26            (-inf-1.5]              (-inf-0.5]               (-inf-0.5]   \n27            (-inf-1.5]              (-inf-0.5]               (-inf-0.5]   \n28             (1.5-2.5]              (-inf-0.5]               (-inf-0.5]   \n29            (-inf-1.5]              (-inf-0.5]               (-inf-0.5]   \n\n   Num AmericanEssentials Product Views Num Danskin Product Views  \\\n0                            (-inf-0.5]                (-inf-0.5]   \n1                             (1.5-2.5]                (-inf-0.5]   \n2                            (-inf-0.5]                (-inf-0.5]   \n3                            (-inf-0.5]                (-inf-0.5]   \n4                            (-inf-0.5]                (-inf-0.5]   \n5                            (-inf-0.5]                (-inf-0.5]   \n6                            (-inf-0.5]                (-inf-0.5]   \n7                             (1.5-2.5]                (-inf-0.5]   \n8                            (-inf-0.5]                (-inf-0.5]   \n9                            (-inf-0.5]                (-inf-0.5]   \n10                           (-inf-0.5]                (-inf-0.5]   \n11                           (-inf-0.5]                (-inf-0.5]   \n12                           (-inf-0.5]                (-inf-0.5]   \n13                           (-inf-0.5]                (-inf-0.5]   \n14                           (-inf-0.5]                (-inf-0.5]   \n15                           (-inf-0.5]                (-inf-0.5]   \n16                           (-inf-0.5]                (-inf-0.5]   \n17                           (-inf-0.5]                (-inf-0.5]   \n18                           (-inf-0.5]                (-inf-0.5]   \n19                           (-inf-0.5]                (-inf-0.5]   \n20                           (-inf-0.5]                (-inf-0.5]   \n21                           (-inf-0.5]                (-inf-0.5]   \n22                           (-inf-0.5]                (-inf-0.5]   \n23                           (-inf-0.5]                (-inf-0.5]   \n24                           (-inf-0.5]                (-inf-0.5]   \n25                           (-inf-0.5]                (-inf-0.5]   \n26                           (-inf-0.5]                (-inf-0.5]   \n27                           (-inf-0.5]                (-inf-0.5]   \n28                           (-inf-0.5]                (-inf-0.5]   \n29                           (-inf-0.5]                (-inf-0.5]   \n\n   Num DonnaKaran Product Views  ... Num CT Waist Control Views  \\\n0                    (-inf-0.5]  ...                 (-inf-0.5]   \n1                    (-inf-0.5]  ...                  (2.5-4.5]   \n2                    (-inf-0.5]  ...                  (4.5-inf)   \n3                    (-inf-0.5]  ...                 (-inf-0.5]   \n4                    (-inf-0.5]  ...                  (4.5-inf)   \n5                    (-inf-0.5]  ...                 (-inf-0.5]   \n6                    (-inf-0.5]  ...                 (-inf-0.5]   \n7                    (-inf-0.5]  ...                 (-inf-0.5]   \n8                    (-inf-0.5]  ...                 (-inf-0.5]   \n9                    (-inf-0.5]  ...                 (-inf-0.5]   \n10                   (-inf-0.5]  ...                 (-inf-0.5]   \n11                   (-inf-0.5]  ...                 (-inf-0.5]   \n12                   (-inf-0.5]  ...                  (1.5-2.5]   \n13                   (-inf-0.5]  ...                 (-inf-0.5]   \n14                   (-inf-0.5]  ...                 (-inf-0.5]   \n15                   (-inf-0.5]  ...                 (-inf-0.5]   \n16                   (-inf-0.5]  ...                 (-inf-0.5]   \n17                   (-inf-0.5]  ...                 (-inf-0.5]   \n18                   (-inf-0.5]  ...                 (-inf-0.5]   \n19                   (-inf-0.5]  ...                 (-inf-0.5]   \n20                   (-inf-0.5]  ...                 (-inf-0.5]   \n21                   (-inf-0.5]  ...                 (-inf-0.5]   \n22                   (-inf-0.5]  ...                 (-inf-0.5]   \n23                   (-inf-0.5]  ...                 (-inf-0.5]   \n24                   (-inf-0.5]  ...                 (-inf-0.5]   \n25                   (-inf-0.5]  ...                 (-inf-0.5]   \n26                   (-inf-0.5]  ...                 (-inf-0.5]   \n27                   (-inf-0.5]  ...                 (-inf-0.5]   \n28                   (-inf-0.5]  ...                 (-inf-0.5]   \n29                   (-inf-0.5]  ...                 (-inf-0.5]   \n\n   Num STW Waist Control Views Num Women Product Views Num Men Product Views  \\\n0                   (-inf-0.5]              (-inf-0.5]            (-inf-0.5]   \n1                   (-inf-0.5]               (4.5-inf)             (1.5-2.5]   \n2                   (-inf-0.5]               (4.5-inf)            (-inf-0.5]   \n3                   (-inf-0.5]              (-inf-0.5]            (-inf-0.5]   \n4                   (-inf-0.5]               (4.5-inf)            (-inf-0.5]   \n5                   (-inf-0.5]              (-inf-0.5]            (-inf-0.5]   \n6                   (-inf-0.5]              (-inf-0.5]            (-inf-0.5]   \n7                   (-inf-0.5]              (-inf-0.5]             (1.5-2.5]   \n8                   (-inf-0.5]              (-inf-0.5]            (-inf-0.5]   \n9                   (-inf-0.5]              (-inf-0.5]            (-inf-0.5]   \n10                  (-inf-0.5]              (-inf-0.5]            (-inf-0.5]   \n11                  (-inf-0.5]              (-inf-0.5]            (-inf-0.5]   \n12                  (-inf-0.5]               (1.5-2.5]            (-inf-0.5]   \n13                  (-inf-0.5]              (-inf-0.5]            (-inf-0.5]   \n14                  (-inf-0.5]              (-inf-0.5]            (-inf-0.5]   \n15                  (-inf-0.5]              (-inf-0.5]            (-inf-0.5]   \n16                  (-inf-0.5]              (-inf-0.5]            (-inf-0.5]   \n17                  (-inf-0.5]              (-inf-0.5]            (-inf-0.5]   \n18                  (-inf-0.5]              (-inf-0.5]            (-inf-0.5]   \n19                  (-inf-0.5]              (-inf-0.5]            (-inf-0.5]   \n20                  (-inf-0.5]              (-inf-0.5]            (-inf-0.5]   \n21                  (-inf-0.5]              (-inf-0.5]            (-inf-0.5]   \n22                  (-inf-0.5]              (-inf-0.5]            (-inf-0.5]   \n23                  (-inf-0.5]              (-inf-0.5]            (-inf-0.5]   \n24                  (-inf-0.5]              (-inf-0.5]            (-inf-0.5]   \n25                  (-inf-0.5]              (-inf-0.5]            (-inf-0.5]   \n26                  (-inf-0.5]              (-inf-0.5]            (-inf-0.5]   \n27                  (-inf-0.5]              (-inf-0.5]            (-inf-0.5]   \n28                  (-inf-0.5]              (-inf-0.5]            (-inf-0.5]   \n29                  (-inf-0.5]              (-inf-0.5]            (-inf-0.5]   \n\n   Num Children Product Views Session Last Request Day Of Week  \\\n0                  (-inf-0.5]                           Sunday   \n1                  (-inf-0.5]                           Sunday   \n2                  (-inf-0.5]                           Sunday   \n3                  (-inf-0.5]                           Sunday   \n4                  (-inf-0.5]                           Sunday   \n5                  (-inf-0.5]                           Sunday   \n6                  (-inf-0.5]                           Sunday   \n7                  (-inf-0.5]                           Sunday   \n8                  (-inf-0.5]                           Monday   \n9                  (-inf-0.5]                           Monday   \n10                 (-inf-0.5]                           Monday   \n11                 (-inf-0.5]                           Monday   \n12                 (-inf-0.5]                           Monday   \n13                 (-inf-0.5]                           Monday   \n14                 (-inf-0.5]                           Monday   \n15                 (-inf-0.5]                           Monday   \n16                 (-inf-0.5]                           Monday   \n17                 (-inf-0.5]                           Monday   \n18                 (-inf-0.5]                           Monday   \n19                 (-inf-0.5]                           Monday   \n20                 (-inf-0.5]                           Monday   \n21                 (-inf-0.5]                           Monday   \n22                 (-inf-0.5]                           Monday   \n23                 (-inf-0.5]                           Monday   \n24                 (-inf-0.5]                           Monday   \n25                 (-inf-0.5]                           Monday   \n26                 (-inf-0.5]                           Monday   \n27                 (-inf-0.5]                           Monday   \n28                 (-inf-0.5]                           Monday   \n29                 (-inf-0.5]                           Monday   \n\n   Session Last Request Hour Of Day Session Time Elapsed  \\\n0                        (-inf-6.5]        (107.5-263.5]   \n1                       (10.5-14.5]          (263.5-inf)   \n2                       (10.5-14.5]          (263.5-inf)   \n3                       (10.5-14.5]        (107.5-263.5]   \n4                       (10.5-14.5]          (263.5-inf)   \n5                       (10.5-14.5]           (-inf-0.5]   \n6                       (10.5-14.5]           (-inf-0.5]   \n7                       (14.5-18.5]          (263.5-inf)   \n8                        (-inf-6.5]           (-inf-0.5]   \n9                        (-inf-6.5]           (0.5-48.5]   \n10                       (6.5-10.5]           (-inf-0.5]   \n11                       (6.5-10.5]        (107.5-263.5]   \n12                       (6.5-10.5]        (107.5-263.5]   \n13                       (6.5-10.5]           (-inf-0.5]   \n14                       (6.5-10.5]         (48.5-107.5]   \n15                       (6.5-10.5]        (107.5-263.5]   \n16                       (6.5-10.5]           (0.5-48.5]   \n17                       (6.5-10.5]        (107.5-263.5]   \n18                       (6.5-10.5]           (-inf-0.5]   \n19                       (6.5-10.5]           (0.5-48.5]   \n20                       (6.5-10.5]           (-inf-0.5]   \n21                      (10.5-14.5]         (48.5-107.5]   \n22                      (10.5-14.5]         (48.5-107.5]   \n23                      (10.5-14.5]        (107.5-263.5]   \n24                      (10.5-14.5]        (107.5-263.5]   \n25                      (10.5-14.5]           (-inf-0.5]   \n26                      (10.5-14.5]           (-inf-0.5]   \n27                      (10.5-14.5]           (-inf-0.5]   \n28                      (14.5-18.5]           (0.5-48.5]   \n29                      (14.5-18.5]           (-inf-0.5]   \n\n   Session First Request Hour of Day Bin Decision  \n0                              (5 ___ 9]    False  \n1                             (9 ___ 12]     True  \n2                             (9 ___ 12]    False  \n3                             (9 ___ 12]     True  \n4                             (9 ___ 12]    False  \n5                            (12 ___ 14]    False  \n6                            (12 ___ 14]    False  \n7                            (14 ___ 17]     True  \n8                              (5 ___ 9]    False  \n9                              (5 ___ 9]     True  \n10                             (5 ___ 9]    False  \n11                             (5 ___ 9]     True  \n12                             (5 ___ 9]    False  \n13                             (5 ___ 9]    False  \n14                             (5 ___ 9]    False  \n15                             (5 ___ 9]    False  \n16                             (5 ___ 9]     True  \n17                             (5 ___ 9]     True  \n18                            (9 ___ 12]    False  \n19                            (9 ___ 12]     True  \n20                            (9 ___ 12]     True  \n21                            (9 ___ 12]    False  \n22                            (9 ___ 12]    False  \n23                            (9 ___ 12]    False  \n24                            (9 ___ 12]    False  \n25                            (9 ___ 12]     True  \n26                            (9 ___ 12]    False  \n27                           (12 ___ 14]     True  \n28                           (14 ___ 17]     True  \n29                           (14 ___ 17]    False  \n\n[30 rows x 129 columns]",
      "text/html": "<div>\n<style scoped>\n    .dataframe tbody tr th:only-of-type {\n        vertical-align: middle;\n    }\n\n    .dataframe tbody tr th {\n        vertical-align: top;\n    }\n\n    .dataframe thead th {\n        text-align: right;\n    }\n</style>\n<table border=\"1\" class=\"dataframe\">\n  <thead>\n    <tr style=\"text-align: right;\">\n      <th></th>\n      <th>Session Visit Count</th>\n      <th>Session First Processing Time</th>\n      <th>Session First Request Day of Week</th>\n      <th>Session First Request Hour of Day</th>\n      <th>Session Request Count</th>\n      <th>Num Hanes Product Views</th>\n      <th>Num Oroblu Product Views</th>\n      <th>Num AmericanEssentials Product Views</th>\n      <th>Num Danskin Product Views</th>\n      <th>Num DonnaKaran Product Views</th>\n      <th>...</th>\n      <th>Num CT Waist Control Views</th>\n      <th>Num STW Waist Control Views</th>\n      <th>Num Women Product Views</th>\n      <th>Num Men Product Views</th>\n      <th>Num Children Product Views</th>\n      <th>Session Last Request Day Of Week</th>\n      <th>Session Last Request Hour Of Day</th>\n      <th>Session Time Elapsed</th>\n      <th>Session First Request Hour of Day Bin</th>\n      <th>Decision</th>\n    </tr>\n  </thead>\n  <tbody>\n    <tr>\n      <th>0</th>\n      <td>(-inf-1.5]</td>\n      <td>(179.5-inf)</td>\n      <td>Sunday</td>\n      <td>(-inf-6.5]</td>\n      <td>(2.5-3.5]</td>\n      <td>(-inf-0.5]</td>\n      <td>(-inf-0.5]</td>\n      <td>(-inf-0.5]</td>\n      <td>(-inf-0.5]</td>\n      <td>(-inf-0.5]</td>\n      <td>...</td>\n      <td>(-inf-0.5]</td>\n      <td>(-inf-0.5]</td>\n      <td>(-inf-0.5]</td>\n      <td>(-inf-0.5]</td>\n      <td>(-inf-0.5]</td>\n      <td>Sunday</td>\n      <td>(-inf-6.5]</td>\n      <td>(107.5-263.5]</td>\n      <td>(5 ___ 9]</td>\n      <td>False</td>\n    </tr>\n    <tr>\n      <th>1</th>\n      <td>(1.5-2.5]</td>\n      <td>(179.5-inf)</td>\n      <td>Sunday</td>\n      <td>(10.5-14.5]</td>\n      <td>(6.5-inf)</td>\n      <td>(2.5-3.5]</td>\n      <td>(0.5-1.5]</td>\n      <td>(1.5-2.5]</td>\n      <td>(-inf-0.5]</td>\n      <td>(-inf-0.5]</td>\n      <td>...</td>\n      <td>(2.5-4.5]</td>\n      <td>(-inf-0.5]</td>\n      <td>(4.5-inf)</td>\n      <td>(1.5-2.5]</td>\n      <td>(-inf-0.5]</td>\n      <td>Sunday</td>\n      <td>(10.5-14.5]</td>\n      <td>(263.5-inf)</td>\n      <td>(9 ___ 12]</td>\n      <td>True</td>\n    </tr>\n    <tr>\n      <th>2</th>\n      <td>(-inf-1.5]</td>\n      <td>(179.5-inf)</td>\n      <td>Sunday</td>\n      <td>(10.5-14.5]</td>\n      <td>(6.5-inf)</td>\n      <td>(0.5-1.5]</td>\n      <td>(0.5-1.5]</td>\n      <td>(-inf-0.5]</td>\n      <td>(-inf-0.5]</td>\n      <td>(-inf-0.5]</td>\n      <td>...</td>\n      <td>(4.5-inf)</td>\n      <td>(-inf-0.5]</td>\n      <td>(4.5-inf)</td>\n      <td>(-inf-0.5]</td>\n      <td>(-inf-0.5]</td>\n      <td>Sunday</td>\n      <td>(10.5-14.5]</td>\n      <td>(263.5-inf)</td>\n      <td>(9 ___ 12]</td>\n      <td>False</td>\n    </tr>\n    <tr>\n      <th>3</th>\n      <td>(1.5-2.5]</td>\n      <td>(179.5-inf)</td>\n      <td>Sunday</td>\n      <td>(10.5-14.5]</td>\n      <td>(6.5-inf)</td>\n      <td>(-inf-0.5]</td>\n      <td>(-inf-0.5]</td>\n      <td>(-inf-0.5]</td>\n      <td>(-inf-0.5]</td>\n      <td>(-inf-0.5]</td>\n      <td>...</td>\n      <td>(-inf-0.5]</td>\n      <td>(-inf-0.5]</td>\n      <td>(-inf-0.5]</td>\n      <td>(-inf-0.5]</td>\n      <td>(-inf-0.5]</td>\n      <td>Sunday</td>\n      <td>(10.5-14.5]</td>\n      <td>(107.5-263.5]</td>\n      <td>(9 ___ 12]</td>\n      <td>True</td>\n    </tr>\n    <tr>\n      <th>4</th>\n      <td>(4.5-26.5]</td>\n      <td>(179.5-inf)</td>\n      <td>Sunday</td>\n      <td>(10.5-14.5]</td>\n      <td>(6.5-inf)</td>\n      <td>(0.5-1.5]</td>\n      <td>(-inf-0.5]</td>\n      <td>(-inf-0.5]</td>\n      <td>(-inf-0.5]</td>\n      <td>(-inf-0.5]</td>\n      <td>...</td>\n      <td>(4.5-inf)</td>\n      <td>(-inf-0.5]</td>\n      <td>(4.5-inf)</td>\n      <td>(-inf-0.5]</td>\n      <td>(-inf-0.5]</td>\n      <td>Sunday</td>\n      <td>(10.5-14.5]</td>\n      <td>(263.5-inf)</td>\n      <td>(9 ___ 12]</td>\n      <td>False</td>\n    </tr>\n    <tr>\n      <th>5</th>\n      <td>(4.5-26.5]</td>\n      <td>(179.5-inf)</td>\n      <td>Sunday</td>\n      <td>(10.5-14.5]</td>\n      <td>(-inf-1.5]</td>\n      <td>(-inf-0.5]</td>\n      <td>(-inf-0.5]</td>\n      <td>(-inf-0.5]</td>\n      <td>(-inf-0.5]</td>\n      <td>(-inf-0.5]</td>\n      <td>...</td>\n      <td>(-inf-0.5]</td>\n      <td>(-inf-0.5]</td>\n      <td>(-inf-0.5]</td>\n      <td>(-inf-0.5]</td>\n      <td>(-inf-0.5]</td>\n      <td>Sunday</td>\n      <td>(10.5-14.5]</td>\n      <td>(-inf-0.5]</td>\n      <td>(12 ___ 14]</td>\n      <td>False</td>\n    </tr>\n    <tr>\n      <th>6</th>\n      <td>(1.5-2.5]</td>\n      <td>(179.5-inf)</td>\n      <td>Sunday</td>\n      <td>(10.5-14.5]</td>\n      <td>(-inf-1.5]</td>\n      <td>(-inf-0.5]</td>\n      <td>(-inf-0.5]</td>\n      <td>(-inf-0.5]</td>\n      <td>(-inf-0.5]</td>\n      <td>(-inf-0.5]</td>\n      <td>...</td>\n      <td>(-inf-0.5]</td>\n      <td>(-inf-0.5]</td>\n      <td>(-inf-0.5]</td>\n      <td>(-inf-0.5]</td>\n      <td>(-inf-0.5]</td>\n      <td>Sunday</td>\n      <td>(10.5-14.5]</td>\n      <td>(-inf-0.5]</td>\n      <td>(12 ___ 14]</td>\n      <td>False</td>\n    </tr>\n    <tr>\n      <th>7</th>\n      <td>(-inf-1.5]</td>\n      <td>(179.5-inf)</td>\n      <td>Sunday</td>\n      <td>(14.5-18.5]</td>\n      <td>(6.5-inf)</td>\n      <td>(-inf-0.5]</td>\n      <td>(-inf-0.5]</td>\n      <td>(1.5-2.5]</td>\n      <td>(-inf-0.5]</td>\n      <td>(-inf-0.5]</td>\n      <td>...</td>\n      <td>(-inf-0.5]</td>\n      <td>(-inf-0.5]</td>\n      <td>(-inf-0.5]</td>\n      <td>(1.5-2.5]</td>\n      <td>(-inf-0.5]</td>\n      <td>Sunday</td>\n      <td>(14.5-18.5]</td>\n      <td>(263.5-inf)</td>\n      <td>(14 ___ 17]</td>\n      <td>True</td>\n    </tr>\n    <tr>\n      <th>8</th>\n      <td>(2.5-4.5]</td>\n      <td>(179.5-inf)</td>\n      <td>Monday</td>\n      <td>(-inf-6.5]</td>\n      <td>(-inf-1.5]</td>\n      <td>(-inf-0.5]</td>\n      <td>(-inf-0.5]</td>\n      <td>(-inf-0.5]</td>\n      <td>(-inf-0.5]</td>\n      <td>(-inf-0.5]</td>\n      <td>...</td>\n      <td>(-inf-0.5]</td>\n      <td>(-inf-0.5]</td>\n      <td>(-inf-0.5]</td>\n      <td>(-inf-0.5]</td>\n      <td>(-inf-0.5]</td>\n      <td>Monday</td>\n      <td>(-inf-6.5]</td>\n      <td>(-inf-0.5]</td>\n      <td>(5 ___ 9]</td>\n      <td>False</td>\n    </tr>\n    <tr>\n      <th>9</th>\n      <td>(2.5-4.5]</td>\n      <td>(179.5-inf)</td>\n      <td>Monday</td>\n      <td>(-inf-6.5]</td>\n      <td>(2.5-3.5]</td>\n      <td>(-inf-0.5]</td>\n      <td>(-inf-0.5]</td>\n      <td>(-inf-0.5]</td>\n      <td>(-inf-0.5]</td>\n      <td>(-inf-0.5]</td>\n      <td>...</td>\n      <td>(-inf-0.5]</td>\n      <td>(-inf-0.5]</td>\n      <td>(-inf-0.5]</td>\n      <td>(-inf-0.5]</td>\n      <td>(-inf-0.5]</td>\n      <td>Monday</td>\n      <td>(-inf-6.5]</td>\n      <td>(0.5-48.5]</td>\n      <td>(5 ___ 9]</td>\n      <td>True</td>\n    </tr>\n    <tr>\n      <th>10</th>\n      <td>(1.5-2.5]</td>\n      <td>(179.5-inf)</td>\n      <td>Monday</td>\n      <td>(6.5-10.5]</td>\n      <td>(-inf-1.5]</td>\n      <td>(-inf-0.5]</td>\n      <td>(-inf-0.5]</td>\n      <td>(-inf-0.5]</td>\n      <td>(-inf-0.5]</td>\n      <td>(-inf-0.5]</td>\n      <td>...</td>\n      <td>(-inf-0.5]</td>\n      <td>(-inf-0.5]</td>\n      <td>(-inf-0.5]</td>\n      <td>(-inf-0.5]</td>\n      <td>(-inf-0.5]</td>\n      <td>Monday</td>\n      <td>(6.5-10.5]</td>\n      <td>(-inf-0.5]</td>\n      <td>(5 ___ 9]</td>\n      <td>False</td>\n    </tr>\n    <tr>\n      <th>11</th>\n      <td>(-inf-1.5]</td>\n      <td>(179.5-inf)</td>\n      <td>Monday</td>\n      <td>(6.5-10.5]</td>\n      <td>(6.5-inf)</td>\n      <td>(-inf-0.5]</td>\n      <td>(-inf-0.5]</td>\n      <td>(-inf-0.5]</td>\n      <td>(-inf-0.5]</td>\n      <td>(-inf-0.5]</td>\n      <td>...</td>\n      <td>(-inf-0.5]</td>\n      <td>(-inf-0.5]</td>\n      <td>(-inf-0.5]</td>\n      <td>(-inf-0.5]</td>\n      <td>(-inf-0.5]</td>\n      <td>Monday</td>\n      <td>(6.5-10.5]</td>\n      <td>(107.5-263.5]</td>\n      <td>(5 ___ 9]</td>\n      <td>True</td>\n    </tr>\n    <tr>\n      <th>12</th>\n      <td>(2.5-4.5]</td>\n      <td>(179.5-inf)</td>\n      <td>Monday</td>\n      <td>(6.5-10.5]</td>\n      <td>(6.5-inf)</td>\n      <td>(1.5-2.5]</td>\n      <td>(-inf-0.5]</td>\n      <td>(-inf-0.5]</td>\n      <td>(-inf-0.5]</td>\n      <td>(-inf-0.5]</td>\n      <td>...</td>\n      <td>(1.5-2.5]</td>\n      <td>(-inf-0.5]</td>\n      <td>(1.5-2.5]</td>\n      <td>(-inf-0.5]</td>\n      <td>(-inf-0.5]</td>\n      <td>Monday</td>\n      <td>(6.5-10.5]</td>\n      <td>(107.5-263.5]</td>\n      <td>(5 ___ 9]</td>\n      <td>False</td>\n    </tr>\n    <tr>\n      <th>13</th>\n      <td>(-inf-1.5]</td>\n      <td>(179.5-inf)</td>\n      <td>Monday</td>\n      <td>(6.5-10.5]</td>\n      <td>(-inf-1.5]</td>\n      <td>(-inf-0.5]</td>\n      <td>(-inf-0.5]</td>\n      <td>(-inf-0.5]</td>\n      <td>(-inf-0.5]</td>\n      <td>(-inf-0.5]</td>\n      <td>...</td>\n      <td>(-inf-0.5]</td>\n      <td>(-inf-0.5]</td>\n      <td>(-inf-0.5]</td>\n      <td>(-inf-0.5]</td>\n      <td>(-inf-0.5]</td>\n      <td>Monday</td>\n      <td>(6.5-10.5]</td>\n      <td>(-inf-0.5]</td>\n      <td>(5 ___ 9]</td>\n      <td>False</td>\n    </tr>\n    <tr>\n      <th>14</th>\n      <td>(-inf-1.5]</td>\n      <td>(179.5-inf)</td>\n      <td>Monday</td>\n      <td>(6.5-10.5]</td>\n      <td>(3.5-6.5]</td>\n      <td>(-inf-0.5]</td>\n      <td>(-inf-0.5]</td>\n      <td>(-inf-0.5]</td>\n      <td>(-inf-0.5]</td>\n      <td>(-inf-0.5]</td>\n      <td>...</td>\n      <td>(-inf-0.5]</td>\n      <td>(-inf-0.5]</td>\n      <td>(-inf-0.5]</td>\n      <td>(-inf-0.5]</td>\n      <td>(-inf-0.5]</td>\n      <td>Monday</td>\n      <td>(6.5-10.5]</td>\n      <td>(48.5-107.5]</td>\n      <td>(5 ___ 9]</td>\n      <td>False</td>\n    </tr>\n    <tr>\n      <th>15</th>\n      <td>(1.5-2.5]</td>\n      <td>(179.5-inf)</td>\n      <td>Monday</td>\n      <td>(6.5-10.5]</td>\n      <td>(3.5-6.5]</td>\n      <td>(-inf-0.5]</td>\n      <td>(-inf-0.5]</td>\n      <td>(-inf-0.5]</td>\n      <td>(-inf-0.5]</td>\n      <td>(-inf-0.5]</td>\n      <td>...</td>\n      <td>(-inf-0.5]</td>\n      <td>(-inf-0.5]</td>\n      <td>(-inf-0.5]</td>\n      <td>(-inf-0.5]</td>\n      <td>(-inf-0.5]</td>\n      <td>Monday</td>\n      <td>(6.5-10.5]</td>\n      <td>(107.5-263.5]</td>\n      <td>(5 ___ 9]</td>\n      <td>False</td>\n    </tr>\n    <tr>\n      <th>16</th>\n      <td>(-inf-1.5]</td>\n      <td>(179.5-inf)</td>\n      <td>Monday</td>\n      <td>(6.5-10.5]</td>\n      <td>(2.5-3.5]</td>\n      <td>(-inf-0.5]</td>\n      <td>(-inf-0.5]</td>\n      <td>(-inf-0.5]</td>\n      <td>(-inf-0.5]</td>\n      <td>(-inf-0.5]</td>\n      <td>...</td>\n      <td>(-inf-0.5]</td>\n      <td>(-inf-0.5]</td>\n      <td>(-inf-0.5]</td>\n      <td>(-inf-0.5]</td>\n      <td>(-inf-0.5]</td>\n      <td>Monday</td>\n      <td>(6.5-10.5]</td>\n      <td>(0.5-48.5]</td>\n      <td>(5 ___ 9]</td>\n      <td>True</td>\n    </tr>\n    <tr>\n      <th>17</th>\n      <td>(4.5-26.5]</td>\n      <td>(179.5-inf)</td>\n      <td>Monday</td>\n      <td>(6.5-10.5]</td>\n      <td>(2.5-3.5]</td>\n      <td>(-inf-0.5]</td>\n      <td>(-inf-0.5]</td>\n      <td>(-inf-0.5]</td>\n      <td>(-inf-0.5]</td>\n      <td>(-inf-0.5]</td>\n      <td>...</td>\n      <td>(-inf-0.5]</td>\n      <td>(-inf-0.5]</td>\n      <td>(-inf-0.5]</td>\n      <td>(-inf-0.5]</td>\n      <td>(-inf-0.5]</td>\n      <td>Monday</td>\n      <td>(6.5-10.5]</td>\n      <td>(107.5-263.5]</td>\n      <td>(5 ___ 9]</td>\n      <td>True</td>\n    </tr>\n    <tr>\n      <th>18</th>\n      <td>(-inf-1.5]</td>\n      <td>(179.5-inf)</td>\n      <td>Monday</td>\n      <td>(6.5-10.5]</td>\n      <td>(-inf-1.5]</td>\n      <td>(-inf-0.5]</td>\n      <td>(-inf-0.5]</td>\n      <td>(-inf-0.5]</td>\n      <td>(-inf-0.5]</td>\n      <td>(-inf-0.5]</td>\n      <td>...</td>\n      <td>(-inf-0.5]</td>\n      <td>(-inf-0.5]</td>\n      <td>(-inf-0.5]</td>\n      <td>(-inf-0.5]</td>\n      <td>(-inf-0.5]</td>\n      <td>Monday</td>\n      <td>(6.5-10.5]</td>\n      <td>(-inf-0.5]</td>\n      <td>(9 ___ 12]</td>\n      <td>False</td>\n    </tr>\n    <tr>\n      <th>19</th>\n      <td>(-inf-1.5]</td>\n      <td>(179.5-inf)</td>\n      <td>Monday</td>\n      <td>(6.5-10.5]</td>\n      <td>(1.5-2.5]</td>\n      <td>(-inf-0.5]</td>\n      <td>(-inf-0.5]</td>\n      <td>(-inf-0.5]</td>\n      <td>(-inf-0.5]</td>\n      <td>(-inf-0.5]</td>\n      <td>...</td>\n      <td>(-inf-0.5]</td>\n      <td>(-inf-0.5]</td>\n      <td>(-inf-0.5]</td>\n      <td>(-inf-0.5]</td>\n      <td>(-inf-0.5]</td>\n      <td>Monday</td>\n      <td>(6.5-10.5]</td>\n      <td>(0.5-48.5]</td>\n      <td>(9 ___ 12]</td>\n      <td>True</td>\n    </tr>\n    <tr>\n      <th>20</th>\n      <td>(1.5-2.5]</td>\n      <td>(179.5-inf)</td>\n      <td>Monday</td>\n      <td>(6.5-10.5]</td>\n      <td>(-inf-1.5]</td>\n      <td>(-inf-0.5]</td>\n      <td>(-inf-0.5]</td>\n      <td>(-inf-0.5]</td>\n      <td>(-inf-0.5]</td>\n      <td>(-inf-0.5]</td>\n      <td>...</td>\n      <td>(-inf-0.5]</td>\n      <td>(-inf-0.5]</td>\n      <td>(-inf-0.5]</td>\n      <td>(-inf-0.5]</td>\n      <td>(-inf-0.5]</td>\n      <td>Monday</td>\n      <td>(6.5-10.5]</td>\n      <td>(-inf-0.5]</td>\n      <td>(9 ___ 12]</td>\n      <td>True</td>\n    </tr>\n    <tr>\n      <th>21</th>\n      <td>(1.5-2.5]</td>\n      <td>(179.5-inf)</td>\n      <td>Monday</td>\n      <td>(10.5-14.5]</td>\n      <td>(1.5-2.5]</td>\n      <td>(-inf-0.5]</td>\n      <td>(-inf-0.5]</td>\n      <td>(-inf-0.5]</td>\n      <td>(-inf-0.5]</td>\n      <td>(-inf-0.5]</td>\n      <td>...</td>\n      <td>(-inf-0.5]</td>\n      <td>(-inf-0.5]</td>\n      <td>(-inf-0.5]</td>\n      <td>(-inf-0.5]</td>\n      <td>(-inf-0.5]</td>\n      <td>Monday</td>\n      <td>(10.5-14.5]</td>\n      <td>(48.5-107.5]</td>\n      <td>(9 ___ 12]</td>\n      <td>False</td>\n    </tr>\n    <tr>\n      <th>22</th>\n      <td>(4.5-26.5]</td>\n      <td>(179.5-inf)</td>\n      <td>Monday</td>\n      <td>(10.5-14.5]</td>\n      <td>(1.5-2.5]</td>\n      <td>(-inf-0.5]</td>\n      <td>(-inf-0.5]</td>\n      <td>(-inf-0.5]</td>\n      <td>(-inf-0.5]</td>\n      <td>(-inf-0.5]</td>\n      <td>...</td>\n      <td>(-inf-0.5]</td>\n      <td>(-inf-0.5]</td>\n      <td>(-inf-0.5]</td>\n      <td>(-inf-0.5]</td>\n      <td>(-inf-0.5]</td>\n      <td>Monday</td>\n      <td>(10.5-14.5]</td>\n      <td>(48.5-107.5]</td>\n      <td>(9 ___ 12]</td>\n      <td>False</td>\n    </tr>\n    <tr>\n      <th>23</th>\n      <td>(2.5-4.5]</td>\n      <td>(179.5-inf)</td>\n      <td>Monday</td>\n      <td>(10.5-14.5]</td>\n      <td>(1.5-2.5]</td>\n      <td>(-inf-0.5]</td>\n      <td>(-inf-0.5]</td>\n      <td>(-inf-0.5]</td>\n      <td>(-inf-0.5]</td>\n      <td>(-inf-0.5]</td>\n      <td>...</td>\n      <td>(-inf-0.5]</td>\n      <td>(-inf-0.5]</td>\n      <td>(-inf-0.5]</td>\n      <td>(-inf-0.5]</td>\n      <td>(-inf-0.5]</td>\n      <td>Monday</td>\n      <td>(10.5-14.5]</td>\n      <td>(107.5-263.5]</td>\n      <td>(9 ___ 12]</td>\n      <td>False</td>\n    </tr>\n    <tr>\n      <th>24</th>\n      <td>(2.5-4.5]</td>\n      <td>(179.5-inf)</td>\n      <td>Monday</td>\n      <td>(10.5-14.5]</td>\n      <td>(3.5-6.5]</td>\n      <td>(-inf-0.5]</td>\n      <td>(-inf-0.5]</td>\n      <td>(-inf-0.5]</td>\n      <td>(-inf-0.5]</td>\n      <td>(-inf-0.5]</td>\n      <td>...</td>\n      <td>(-inf-0.5]</td>\n      <td>(-inf-0.5]</td>\n      <td>(-inf-0.5]</td>\n      <td>(-inf-0.5]</td>\n      <td>(-inf-0.5]</td>\n      <td>Monday</td>\n      <td>(10.5-14.5]</td>\n      <td>(107.5-263.5]</td>\n      <td>(9 ___ 12]</td>\n      <td>False</td>\n    </tr>\n    <tr>\n      <th>25</th>\n      <td>(2.5-4.5]</td>\n      <td>(179.5-inf)</td>\n      <td>Monday</td>\n      <td>(10.5-14.5]</td>\n      <td>(-inf-1.5]</td>\n      <td>(-inf-0.5]</td>\n      <td>(-inf-0.5]</td>\n      <td>(-inf-0.5]</td>\n      <td>(-inf-0.5]</td>\n      <td>(-inf-0.5]</td>\n      <td>...</td>\n      <td>(-inf-0.5]</td>\n      <td>(-inf-0.5]</td>\n      <td>(-inf-0.5]</td>\n      <td>(-inf-0.5]</td>\n      <td>(-inf-0.5]</td>\n      <td>Monday</td>\n      <td>(10.5-14.5]</td>\n      <td>(-inf-0.5]</td>\n      <td>(9 ___ 12]</td>\n      <td>True</td>\n    </tr>\n    <tr>\n      <th>26</th>\n      <td>(4.5-26.5]</td>\n      <td>(179.5-inf)</td>\n      <td>Monday</td>\n      <td>(10.5-14.5]</td>\n      <td>(-inf-1.5]</td>\n      <td>(-inf-0.5]</td>\n      <td>(-inf-0.5]</td>\n      <td>(-inf-0.5]</td>\n      <td>(-inf-0.5]</td>\n      <td>(-inf-0.5]</td>\n      <td>...</td>\n      <td>(-inf-0.5]</td>\n      <td>(-inf-0.5]</td>\n      <td>(-inf-0.5]</td>\n      <td>(-inf-0.5]</td>\n      <td>(-inf-0.5]</td>\n      <td>Monday</td>\n      <td>(10.5-14.5]</td>\n      <td>(-inf-0.5]</td>\n      <td>(9 ___ 12]</td>\n      <td>False</td>\n    </tr>\n    <tr>\n      <th>27</th>\n      <td>(2.5-4.5]</td>\n      <td>(179.5-inf)</td>\n      <td>Monday</td>\n      <td>(10.5-14.5]</td>\n      <td>(-inf-1.5]</td>\n      <td>(-inf-0.5]</td>\n      <td>(-inf-0.5]</td>\n      <td>(-inf-0.5]</td>\n      <td>(-inf-0.5]</td>\n      <td>(-inf-0.5]</td>\n      <td>...</td>\n      <td>(-inf-0.5]</td>\n      <td>(-inf-0.5]</td>\n      <td>(-inf-0.5]</td>\n      <td>(-inf-0.5]</td>\n      <td>(-inf-0.5]</td>\n      <td>Monday</td>\n      <td>(10.5-14.5]</td>\n      <td>(-inf-0.5]</td>\n      <td>(12 ___ 14]</td>\n      <td>True</td>\n    </tr>\n    <tr>\n      <th>28</th>\n      <td>(4.5-26.5]</td>\n      <td>(179.5-inf)</td>\n      <td>Monday</td>\n      <td>(14.5-18.5]</td>\n      <td>(1.5-2.5]</td>\n      <td>(-inf-0.5]</td>\n      <td>(-inf-0.5]</td>\n      <td>(-inf-0.5]</td>\n      <td>(-inf-0.5]</td>\n      <td>(-inf-0.5]</td>\n      <td>...</td>\n      <td>(-inf-0.5]</td>\n      <td>(-inf-0.5]</td>\n      <td>(-inf-0.5]</td>\n      <td>(-inf-0.5]</td>\n      <td>(-inf-0.5]</td>\n      <td>Monday</td>\n      <td>(14.5-18.5]</td>\n      <td>(0.5-48.5]</td>\n      <td>(14 ___ 17]</td>\n      <td>True</td>\n    </tr>\n    <tr>\n      <th>29</th>\n      <td>(4.5-26.5]</td>\n      <td>(179.5-inf)</td>\n      <td>Monday</td>\n      <td>(14.5-18.5]</td>\n      <td>(-inf-1.5]</td>\n      <td>(-inf-0.5]</td>\n      <td>(-inf-0.5]</td>\n      <td>(-inf-0.5]</td>\n      <td>(-inf-0.5]</td>\n      <td>(-inf-0.5]</td>\n      <td>...</td>\n      <td>(-inf-0.5]</td>\n      <td>(-inf-0.5]</td>\n      <td>(-inf-0.5]</td>\n      <td>(-inf-0.5]</td>\n      <td>(-inf-0.5]</td>\n      <td>Monday</td>\n      <td>(14.5-18.5]</td>\n      <td>(-inf-0.5]</td>\n      <td>(14 ___ 17]</td>\n      <td>False</td>\n    </tr>\n  </tbody>\n</table>\n<p>30 rows × 129 columns</p>\n</div>"
     },
     "execution_count": 42,
     "metadata": {},
     "output_type": "execute_result"
    }
   ],
   "source": [
    "pre_train = df_removed.head(30).copy()\n",
    "pre_train = pre_train.applymap(lambda x: x.replace(\"'\", \"\"))\n",
    "pre_train = pre_train.rename(columns={\"Class\": \"Decision\"})\n",
    "pre_train"
   ],
   "metadata": {
    "collapsed": false,
    "pycharm": {
     "name": "#%%\n"
    }
   }
  },
  {
   "cell_type": "code",
   "execution_count": 43,
   "outputs": [
    {
     "data": {
      "text/plain": "   Session Visit Count Session First Processing Time  \\\n0           (-inf-1.5]                   (179.5-inf)   \n1           (-inf-1.5]                  (70.5-179.5]   \n2           (-inf-1.5]                  (70.5-179.5]   \n3           (-inf-1.5]                   (179.5-inf)   \n4           (-inf-1.5]                   (62.5-70.5]   \n5           (-inf-1.5]                   (179.5-inf)   \n6           (-inf-1.5]                  (70.5-179.5]   \n7           (-inf-1.5]                   (62.5-70.5]   \n8           (-inf-1.5]                   (54.5-62.5]   \n9           (-inf-1.5]                   (62.5-70.5]   \n10          (-inf-1.5]                   (179.5-inf)   \n11          (-inf-1.5]                   (-inf-54.5]   \n12          (-inf-1.5]                   (62.5-70.5]   \n13          (-inf-1.5]                  (70.5-179.5]   \n14          (-inf-1.5]                  (70.5-179.5]   \n15          (-inf-1.5]                   (-inf-54.5]   \n16          (-inf-1.5]                   (62.5-70.5]   \n17          (-inf-1.5]                   (-inf-54.5]   \n18          (-inf-1.5]                   (-inf-54.5]   \n19          (-inf-1.5]                  (70.5-179.5]   \n20          (-inf-1.5]                   (-inf-54.5]   \n21          (-inf-1.5]                   (-inf-54.5]   \n22           (1.5-2.5]                  (70.5-179.5]   \n23          (-inf-1.5]                   (54.5-62.5]   \n24          (-inf-1.5]                   (54.5-62.5]   \n25          (-inf-1.5]                  (70.5-179.5]   \n26          (-inf-1.5]                  (70.5-179.5]   \n27          (-inf-1.5]                   (54.5-62.5]   \n28          (-inf-1.5]                   (54.5-62.5]   \n29          (-inf-1.5]                   (-inf-54.5]   \n\n   Session First Request Day of Week Session First Request Hour of Day  \\\n0                             Friday                        (18.5-inf)   \n1                             Friday                        (18.5-inf)   \n2                           Saturday                        (-inf-6.5]   \n3                           Saturday                        (-inf-6.5]   \n4                           Saturday                        (-inf-6.5]   \n5                           Saturday                        (-inf-6.5]   \n6                           Saturday                        (-inf-6.5]   \n7                           Saturday                        (-inf-6.5]   \n8                           Saturday                        (-inf-6.5]   \n9                           Saturday                        (-inf-6.5]   \n10                          Saturday                        (-inf-6.5]   \n11                          Saturday                        (-inf-6.5]   \n12                          Saturday                        (-inf-6.5]   \n13                          Saturday                        (-inf-6.5]   \n14                          Saturday                        (-inf-6.5]   \n15                          Saturday                        (-inf-6.5]   \n16                          Saturday                        (-inf-6.5]   \n17                          Saturday                        (-inf-6.5]   \n18                          Saturday                        (-inf-6.5]   \n19                          Saturday                        (-inf-6.5]   \n20                          Saturday                        (-inf-6.5]   \n21                          Saturday                        (-inf-6.5]   \n22                          Saturday                        (-inf-6.5]   \n23                          Saturday                        (-inf-6.5]   \n24                          Saturday                        (-inf-6.5]   \n25                          Saturday                        (-inf-6.5]   \n26                          Saturday                        (-inf-6.5]   \n27                          Saturday                        (-inf-6.5]   \n28                          Saturday                        (-inf-6.5]   \n29                          Saturday                        (-inf-6.5]   \n\n   Session Request Count Num Hanes Product Views Num Oroblu Product Views  \\\n0              (1.5-2.5]               (0.5-1.5]               (-inf-0.5]   \n1              (6.5-inf)              (-inf-0.5]               (-inf-0.5]   \n2              (6.5-inf)              (-inf-0.5]               (-inf-0.5]   \n3             (-inf-1.5]              (-inf-0.5]               (-inf-0.5]   \n4              (6.5-inf)              (-inf-0.5]               (-inf-0.5]   \n5             (-inf-1.5]              (-inf-0.5]               (-inf-0.5]   \n6              (6.5-inf)              (-inf-0.5]               (-inf-0.5]   \n7             (-inf-1.5]              (-inf-0.5]               (-inf-0.5]   \n8              (2.5-3.5]              (-inf-0.5]               (-inf-0.5]   \n9             (-inf-1.5]              (-inf-0.5]               (-inf-0.5]   \n10             (6.5-inf)               (0.5-1.5]               (-inf-0.5]   \n11             (2.5-3.5]              (-inf-0.5]               (-inf-0.5]   \n12            (-inf-1.5]              (-inf-0.5]               (-inf-0.5]   \n13            (-inf-1.5]              (-inf-0.5]               (-inf-0.5]   \n14            (-inf-1.5]              (-inf-0.5]               (-inf-0.5]   \n15            (-inf-1.5]              (-inf-0.5]               (-inf-0.5]   \n16            (-inf-1.5]              (-inf-0.5]               (-inf-0.5]   \n17            (-inf-1.5]              (-inf-0.5]               (-inf-0.5]   \n18            (-inf-1.5]              (-inf-0.5]               (-inf-0.5]   \n19            (-inf-1.5]              (-inf-0.5]               (-inf-0.5]   \n20             (1.5-2.5]              (-inf-0.5]               (-inf-0.5]   \n21            (-inf-1.5]              (-inf-0.5]               (-inf-0.5]   \n22            (-inf-1.5]              (-inf-0.5]               (-inf-0.5]   \n23            (-inf-1.5]              (-inf-0.5]               (-inf-0.5]   \n24            (-inf-1.5]              (-inf-0.5]               (-inf-0.5]   \n25            (-inf-1.5]              (-inf-0.5]               (-inf-0.5]   \n26            (-inf-1.5]              (-inf-0.5]               (-inf-0.5]   \n27            (-inf-1.5]              (-inf-0.5]               (-inf-0.5]   \n28            (-inf-1.5]              (-inf-0.5]               (-inf-0.5]   \n29            (-inf-1.5]              (-inf-0.5]               (-inf-0.5]   \n\n   Num AmericanEssentials Product Views Num Danskin Product Views  \\\n0                            (-inf-0.5]                (-inf-0.5]   \n1                            (-inf-0.5]                (-inf-0.5]   \n2                            (-inf-0.5]                (-inf-0.5]   \n3                            (-inf-0.5]                (-inf-0.5]   \n4                            (-inf-0.5]                (-inf-0.5]   \n5                            (-inf-0.5]                (-inf-0.5]   \n6                            (-inf-0.5]                (-inf-0.5]   \n7                            (-inf-0.5]                (-inf-0.5]   \n8                            (-inf-0.5]                (-inf-0.5]   \n9                            (-inf-0.5]                (-inf-0.5]   \n10                           (-inf-0.5]                (-inf-0.5]   \n11                           (-inf-0.5]                (-inf-0.5]   \n12                           (-inf-0.5]                (-inf-0.5]   \n13                           (-inf-0.5]                (-inf-0.5]   \n14                           (-inf-0.5]                (-inf-0.5]   \n15                           (-inf-0.5]                (-inf-0.5]   \n16                           (-inf-0.5]                (-inf-0.5]   \n17                           (-inf-0.5]                (-inf-0.5]   \n18                           (-inf-0.5]                (-inf-0.5]   \n19                           (-inf-0.5]                (-inf-0.5]   \n20                           (-inf-0.5]                (-inf-0.5]   \n21                           (-inf-0.5]                (-inf-0.5]   \n22                           (-inf-0.5]                (-inf-0.5]   \n23                           (-inf-0.5]                (-inf-0.5]   \n24                           (-inf-0.5]                (-inf-0.5]   \n25                           (-inf-0.5]                (-inf-0.5]   \n26                           (-inf-0.5]                (-inf-0.5]   \n27                           (-inf-0.5]                (-inf-0.5]   \n28                           (-inf-0.5]                (-inf-0.5]   \n29                           (-inf-0.5]                (-inf-0.5]   \n\n   Num DonnaKaran Product Views  ... Num CT Waist Control Views  \\\n0                    (-inf-0.5]  ...                  (0.5-1.5]   \n1                    (-inf-0.5]  ...                 (-inf-0.5]   \n2                    (-inf-0.5]  ...                 (-inf-0.5]   \n3                    (-inf-0.5]  ...                 (-inf-0.5]   \n4                    (-inf-0.5]  ...                 (-inf-0.5]   \n5                    (-inf-0.5]  ...                 (-inf-0.5]   \n6                    (-inf-0.5]  ...                 (-inf-0.5]   \n7                    (-inf-0.5]  ...                 (-inf-0.5]   \n8                    (-inf-0.5]  ...                 (-inf-0.5]   \n9                    (-inf-0.5]  ...                 (-inf-0.5]   \n10                   (-inf-0.5]  ...                  (0.5-1.5]   \n11                   (-inf-0.5]  ...                 (-inf-0.5]   \n12                   (-inf-0.5]  ...                 (-inf-0.5]   \n13                   (-inf-0.5]  ...                 (-inf-0.5]   \n14                   (-inf-0.5]  ...                 (-inf-0.5]   \n15                   (-inf-0.5]  ...                 (-inf-0.5]   \n16                   (-inf-0.5]  ...                 (-inf-0.5]   \n17                   (-inf-0.5]  ...                 (-inf-0.5]   \n18                   (-inf-0.5]  ...                 (-inf-0.5]   \n19                   (-inf-0.5]  ...                 (-inf-0.5]   \n20                   (-inf-0.5]  ...                 (-inf-0.5]   \n21                   (-inf-0.5]  ...                 (-inf-0.5]   \n22                   (-inf-0.5]  ...                 (-inf-0.5]   \n23                   (-inf-0.5]  ...                 (-inf-0.5]   \n24                   (-inf-0.5]  ...                 (-inf-0.5]   \n25                   (-inf-0.5]  ...                 (-inf-0.5]   \n26                   (-inf-0.5]  ...                 (-inf-0.5]   \n27                   (-inf-0.5]  ...                 (-inf-0.5]   \n28                   (-inf-0.5]  ...                 (-inf-0.5]   \n29                   (-inf-0.5]  ...                 (-inf-0.5]   \n\n   Num STW Waist Control Views Num Women Product Views Num Men Product Views  \\\n0                   (-inf-0.5]               (0.5-1.5]            (-inf-0.5]   \n1                   (-inf-0.5]              (-inf-0.5]            (-inf-0.5]   \n2                   (-inf-0.5]              (-inf-0.5]            (-inf-0.5]   \n3                   (-inf-0.5]              (-inf-0.5]            (-inf-0.5]   \n4                   (-inf-0.5]              (-inf-0.5]            (-inf-0.5]   \n5                   (-inf-0.5]              (-inf-0.5]            (-inf-0.5]   \n6                   (-inf-0.5]              (-inf-0.5]            (-inf-0.5]   \n7                   (-inf-0.5]              (-inf-0.5]            (-inf-0.5]   \n8                   (-inf-0.5]              (-inf-0.5]            (-inf-0.5]   \n9                   (-inf-0.5]              (-inf-0.5]            (-inf-0.5]   \n10                  (-inf-0.5]               (0.5-1.5]            (-inf-0.5]   \n11                  (-inf-0.5]              (-inf-0.5]            (-inf-0.5]   \n12                  (-inf-0.5]              (-inf-0.5]            (-inf-0.5]   \n13                  (-inf-0.5]              (-inf-0.5]            (-inf-0.5]   \n14                  (-inf-0.5]              (-inf-0.5]            (-inf-0.5]   \n15                  (-inf-0.5]              (-inf-0.5]            (-inf-0.5]   \n16                  (-inf-0.5]              (-inf-0.5]            (-inf-0.5]   \n17                  (-inf-0.5]              (-inf-0.5]            (-inf-0.5]   \n18                  (-inf-0.5]              (-inf-0.5]            (-inf-0.5]   \n19                  (-inf-0.5]              (-inf-0.5]            (-inf-0.5]   \n20                  (-inf-0.5]              (-inf-0.5]            (-inf-0.5]   \n21                  (-inf-0.5]              (-inf-0.5]            (-inf-0.5]   \n22                  (-inf-0.5]              (-inf-0.5]            (-inf-0.5]   \n23                  (-inf-0.5]              (-inf-0.5]            (-inf-0.5]   \n24                  (-inf-0.5]              (-inf-0.5]            (-inf-0.5]   \n25                  (-inf-0.5]              (-inf-0.5]            (-inf-0.5]   \n26                  (-inf-0.5]              (-inf-0.5]            (-inf-0.5]   \n27                  (-inf-0.5]              (-inf-0.5]            (-inf-0.5]   \n28                  (-inf-0.5]              (-inf-0.5]            (-inf-0.5]   \n29                  (-inf-0.5]              (-inf-0.5]            (-inf-0.5]   \n\n   Num Children Product Views Session Last Request Day Of Week  \\\n0                  (-inf-0.5]                           Friday   \n1                  (-inf-0.5]                         Saturday   \n2                  (-inf-0.5]                         Saturday   \n3                  (-inf-0.5]                         Saturday   \n4                  (-inf-0.5]                         Saturday   \n5                  (-inf-0.5]                         Saturday   \n6                  (-inf-0.5]                         Saturday   \n7                  (-inf-0.5]                         Saturday   \n8                  (-inf-0.5]                         Saturday   \n9                  (-inf-0.5]                         Saturday   \n10                 (-inf-0.5]                         Saturday   \n11                 (-inf-0.5]                         Saturday   \n12                 (-inf-0.5]                         Saturday   \n13                 (-inf-0.5]                         Saturday   \n14                 (-inf-0.5]                         Saturday   \n15                 (-inf-0.5]                         Saturday   \n16                 (-inf-0.5]                         Saturday   \n17                 (-inf-0.5]                         Saturday   \n18                 (-inf-0.5]                         Saturday   \n19                 (-inf-0.5]                         Saturday   \n20                 (-inf-0.5]                         Saturday   \n21                 (-inf-0.5]                         Saturday   \n22                 (-inf-0.5]                         Saturday   \n23                 (-inf-0.5]                         Saturday   \n24                 (-inf-0.5]                         Saturday   \n25                 (-inf-0.5]                         Saturday   \n26                 (-inf-0.5]                         Saturday   \n27                 (-inf-0.5]                         Saturday   \n28                 (-inf-0.5]                         Saturday   \n29                 (-inf-0.5]                         Saturday   \n\n   Session Last Request Hour Of Day Session Time Elapsed  \\\n0                        (18.5-inf)           (0.5-48.5]   \n1                        (-inf-6.5]         (48.5-107.5]   \n2                        (-inf-6.5]         (48.5-107.5]   \n3                        (-inf-6.5]           (-inf-0.5]   \n4                        (-inf-6.5]         (48.5-107.5]   \n5                        (-inf-6.5]           (-inf-0.5]   \n6                        (-inf-6.5]         (48.5-107.5]   \n7                        (-inf-6.5]           (-inf-0.5]   \n8                        (-inf-6.5]         (48.5-107.5]   \n9                        (-inf-6.5]           (-inf-0.5]   \n10                       (-inf-6.5]        (107.5-263.5]   \n11                       (-inf-6.5]        (107.5-263.5]   \n12                       (-inf-6.5]           (-inf-0.5]   \n13                       (-inf-6.5]           (-inf-0.5]   \n14                       (-inf-6.5]           (-inf-0.5]   \n15                       (-inf-6.5]           (-inf-0.5]   \n16                       (-inf-6.5]           (-inf-0.5]   \n17                       (-inf-6.5]           (-inf-0.5]   \n18                       (-inf-6.5]           (-inf-0.5]   \n19                       (-inf-6.5]           (-inf-0.5]   \n20                       (-inf-6.5]           (0.5-48.5]   \n21                       (-inf-6.5]           (-inf-0.5]   \n22                       (-inf-6.5]           (-inf-0.5]   \n23                       (-inf-6.5]           (-inf-0.5]   \n24                       (-inf-6.5]           (-inf-0.5]   \n25                       (-inf-6.5]           (-inf-0.5]   \n26                       (-inf-6.5]           (-inf-0.5]   \n27                       (-inf-6.5]           (-inf-0.5]   \n28                       (-inf-6.5]           (-inf-0.5]   \n29                       (-inf-6.5]           (-inf-0.5]   \n\n   Session First Request Hour of Day Bin Decision  \n0                               (22 ___)     True  \n1                               (22 ___)    False  \n2                                (___ 5]    False  \n3                                (___ 5]    False  \n4                                (___ 5]    False  \n5                                (___ 5]    False  \n6                                (___ 5]    False  \n7                                (___ 5]    False  \n8                                (___ 5]    False  \n9                                (___ 5]    False  \n10                               (___ 5]     True  \n11                               (___ 5]     True  \n12                               (___ 5]     True  \n13                               (___ 5]    False  \n14                               (___ 5]    False  \n15                               (___ 5]    False  \n16                               (___ 5]    False  \n17                               (___ 5]    False  \n18                               (___ 5]    False  \n19                               (___ 5]    False  \n20                               (___ 5]    False  \n21                               (___ 5]    False  \n22                               (___ 5]     True  \n23                               (___ 5]    False  \n24                               (___ 5]    False  \n25                               (___ 5]     True  \n26                               (___ 5]    False  \n27                               (___ 5]    False  \n28                               (___ 5]    False  \n29                               (___ 5]    False  \n\n[30 rows x 129 columns]",
      "text/html": "<div>\n<style scoped>\n    .dataframe tbody tr th:only-of-type {\n        vertical-align: middle;\n    }\n\n    .dataframe tbody tr th {\n        vertical-align: top;\n    }\n\n    .dataframe thead th {\n        text-align: right;\n    }\n</style>\n<table border=\"1\" class=\"dataframe\">\n  <thead>\n    <tr style=\"text-align: right;\">\n      <th></th>\n      <th>Session Visit Count</th>\n      <th>Session First Processing Time</th>\n      <th>Session First Request Day of Week</th>\n      <th>Session First Request Hour of Day</th>\n      <th>Session Request Count</th>\n      <th>Num Hanes Product Views</th>\n      <th>Num Oroblu Product Views</th>\n      <th>Num AmericanEssentials Product Views</th>\n      <th>Num Danskin Product Views</th>\n      <th>Num DonnaKaran Product Views</th>\n      <th>...</th>\n      <th>Num CT Waist Control Views</th>\n      <th>Num STW Waist Control Views</th>\n      <th>Num Women Product Views</th>\n      <th>Num Men Product Views</th>\n      <th>Num Children Product Views</th>\n      <th>Session Last Request Day Of Week</th>\n      <th>Session Last Request Hour Of Day</th>\n      <th>Session Time Elapsed</th>\n      <th>Session First Request Hour of Day Bin</th>\n      <th>Decision</th>\n    </tr>\n  </thead>\n  <tbody>\n    <tr>\n      <th>0</th>\n      <td>(-inf-1.5]</td>\n      <td>(179.5-inf)</td>\n      <td>Friday</td>\n      <td>(18.5-inf)</td>\n      <td>(1.5-2.5]</td>\n      <td>(0.5-1.5]</td>\n      <td>(-inf-0.5]</td>\n      <td>(-inf-0.5]</td>\n      <td>(-inf-0.5]</td>\n      <td>(-inf-0.5]</td>\n      <td>...</td>\n      <td>(0.5-1.5]</td>\n      <td>(-inf-0.5]</td>\n      <td>(0.5-1.5]</td>\n      <td>(-inf-0.5]</td>\n      <td>(-inf-0.5]</td>\n      <td>Friday</td>\n      <td>(18.5-inf)</td>\n      <td>(0.5-48.5]</td>\n      <td>(22 ___)</td>\n      <td>True</td>\n    </tr>\n    <tr>\n      <th>1</th>\n      <td>(-inf-1.5]</td>\n      <td>(70.5-179.5]</td>\n      <td>Friday</td>\n      <td>(18.5-inf)</td>\n      <td>(6.5-inf)</td>\n      <td>(-inf-0.5]</td>\n      <td>(-inf-0.5]</td>\n      <td>(-inf-0.5]</td>\n      <td>(-inf-0.5]</td>\n      <td>(-inf-0.5]</td>\n      <td>...</td>\n      <td>(-inf-0.5]</td>\n      <td>(-inf-0.5]</td>\n      <td>(-inf-0.5]</td>\n      <td>(-inf-0.5]</td>\n      <td>(-inf-0.5]</td>\n      <td>Saturday</td>\n      <td>(-inf-6.5]</td>\n      <td>(48.5-107.5]</td>\n      <td>(22 ___)</td>\n      <td>False</td>\n    </tr>\n    <tr>\n      <th>2</th>\n      <td>(-inf-1.5]</td>\n      <td>(70.5-179.5]</td>\n      <td>Saturday</td>\n      <td>(-inf-6.5]</td>\n      <td>(6.5-inf)</td>\n      <td>(-inf-0.5]</td>\n      <td>(-inf-0.5]</td>\n      <td>(-inf-0.5]</td>\n      <td>(-inf-0.5]</td>\n      <td>(-inf-0.5]</td>\n      <td>...</td>\n      <td>(-inf-0.5]</td>\n      <td>(-inf-0.5]</td>\n      <td>(-inf-0.5]</td>\n      <td>(-inf-0.5]</td>\n      <td>(-inf-0.5]</td>\n      <td>Saturday</td>\n      <td>(-inf-6.5]</td>\n      <td>(48.5-107.5]</td>\n      <td>(___ 5]</td>\n      <td>False</td>\n    </tr>\n    <tr>\n      <th>3</th>\n      <td>(-inf-1.5]</td>\n      <td>(179.5-inf)</td>\n      <td>Saturday</td>\n      <td>(-inf-6.5]</td>\n      <td>(-inf-1.5]</td>\n      <td>(-inf-0.5]</td>\n      <td>(-inf-0.5]</td>\n      <td>(-inf-0.5]</td>\n      <td>(-inf-0.5]</td>\n      <td>(-inf-0.5]</td>\n      <td>...</td>\n      <td>(-inf-0.5]</td>\n      <td>(-inf-0.5]</td>\n      <td>(-inf-0.5]</td>\n      <td>(-inf-0.5]</td>\n      <td>(-inf-0.5]</td>\n      <td>Saturday</td>\n      <td>(-inf-6.5]</td>\n      <td>(-inf-0.5]</td>\n      <td>(___ 5]</td>\n      <td>False</td>\n    </tr>\n    <tr>\n      <th>4</th>\n      <td>(-inf-1.5]</td>\n      <td>(62.5-70.5]</td>\n      <td>Saturday</td>\n      <td>(-inf-6.5]</td>\n      <td>(6.5-inf)</td>\n      <td>(-inf-0.5]</td>\n      <td>(-inf-0.5]</td>\n      <td>(-inf-0.5]</td>\n      <td>(-inf-0.5]</td>\n      <td>(-inf-0.5]</td>\n      <td>...</td>\n      <td>(-inf-0.5]</td>\n      <td>(-inf-0.5]</td>\n      <td>(-inf-0.5]</td>\n      <td>(-inf-0.5]</td>\n      <td>(-inf-0.5]</td>\n      <td>Saturday</td>\n      <td>(-inf-6.5]</td>\n      <td>(48.5-107.5]</td>\n      <td>(___ 5]</td>\n      <td>False</td>\n    </tr>\n    <tr>\n      <th>5</th>\n      <td>(-inf-1.5]</td>\n      <td>(179.5-inf)</td>\n      <td>Saturday</td>\n      <td>(-inf-6.5]</td>\n      <td>(-inf-1.5]</td>\n      <td>(-inf-0.5]</td>\n      <td>(-inf-0.5]</td>\n      <td>(-inf-0.5]</td>\n      <td>(-inf-0.5]</td>\n      <td>(-inf-0.5]</td>\n      <td>...</td>\n      <td>(-inf-0.5]</td>\n      <td>(-inf-0.5]</td>\n      <td>(-inf-0.5]</td>\n      <td>(-inf-0.5]</td>\n      <td>(-inf-0.5]</td>\n      <td>Saturday</td>\n      <td>(-inf-6.5]</td>\n      <td>(-inf-0.5]</td>\n      <td>(___ 5]</td>\n      <td>False</td>\n    </tr>\n    <tr>\n      <th>6</th>\n      <td>(-inf-1.5]</td>\n      <td>(70.5-179.5]</td>\n      <td>Saturday</td>\n      <td>(-inf-6.5]</td>\n      <td>(6.5-inf)</td>\n      <td>(-inf-0.5]</td>\n      <td>(-inf-0.5]</td>\n      <td>(-inf-0.5]</td>\n      <td>(-inf-0.5]</td>\n      <td>(-inf-0.5]</td>\n      <td>...</td>\n      <td>(-inf-0.5]</td>\n      <td>(-inf-0.5]</td>\n      <td>(-inf-0.5]</td>\n      <td>(-inf-0.5]</td>\n      <td>(-inf-0.5]</td>\n      <td>Saturday</td>\n      <td>(-inf-6.5]</td>\n      <td>(48.5-107.5]</td>\n      <td>(___ 5]</td>\n      <td>False</td>\n    </tr>\n    <tr>\n      <th>7</th>\n      <td>(-inf-1.5]</td>\n      <td>(62.5-70.5]</td>\n      <td>Saturday</td>\n      <td>(-inf-6.5]</td>\n      <td>(-inf-1.5]</td>\n      <td>(-inf-0.5]</td>\n      <td>(-inf-0.5]</td>\n      <td>(-inf-0.5]</td>\n      <td>(-inf-0.5]</td>\n      <td>(-inf-0.5]</td>\n      <td>...</td>\n      <td>(-inf-0.5]</td>\n      <td>(-inf-0.5]</td>\n      <td>(-inf-0.5]</td>\n      <td>(-inf-0.5]</td>\n      <td>(-inf-0.5]</td>\n      <td>Saturday</td>\n      <td>(-inf-6.5]</td>\n      <td>(-inf-0.5]</td>\n      <td>(___ 5]</td>\n      <td>False</td>\n    </tr>\n    <tr>\n      <th>8</th>\n      <td>(-inf-1.5]</td>\n      <td>(54.5-62.5]</td>\n      <td>Saturday</td>\n      <td>(-inf-6.5]</td>\n      <td>(2.5-3.5]</td>\n      <td>(-inf-0.5]</td>\n      <td>(-inf-0.5]</td>\n      <td>(-inf-0.5]</td>\n      <td>(-inf-0.5]</td>\n      <td>(-inf-0.5]</td>\n      <td>...</td>\n      <td>(-inf-0.5]</td>\n      <td>(-inf-0.5]</td>\n      <td>(-inf-0.5]</td>\n      <td>(-inf-0.5]</td>\n      <td>(-inf-0.5]</td>\n      <td>Saturday</td>\n      <td>(-inf-6.5]</td>\n      <td>(48.5-107.5]</td>\n      <td>(___ 5]</td>\n      <td>False</td>\n    </tr>\n    <tr>\n      <th>9</th>\n      <td>(-inf-1.5]</td>\n      <td>(62.5-70.5]</td>\n      <td>Saturday</td>\n      <td>(-inf-6.5]</td>\n      <td>(-inf-1.5]</td>\n      <td>(-inf-0.5]</td>\n      <td>(-inf-0.5]</td>\n      <td>(-inf-0.5]</td>\n      <td>(-inf-0.5]</td>\n      <td>(-inf-0.5]</td>\n      <td>...</td>\n      <td>(-inf-0.5]</td>\n      <td>(-inf-0.5]</td>\n      <td>(-inf-0.5]</td>\n      <td>(-inf-0.5]</td>\n      <td>(-inf-0.5]</td>\n      <td>Saturday</td>\n      <td>(-inf-6.5]</td>\n      <td>(-inf-0.5]</td>\n      <td>(___ 5]</td>\n      <td>False</td>\n    </tr>\n    <tr>\n      <th>10</th>\n      <td>(-inf-1.5]</td>\n      <td>(179.5-inf)</td>\n      <td>Saturday</td>\n      <td>(-inf-6.5]</td>\n      <td>(6.5-inf)</td>\n      <td>(0.5-1.5]</td>\n      <td>(-inf-0.5]</td>\n      <td>(-inf-0.5]</td>\n      <td>(-inf-0.5]</td>\n      <td>(-inf-0.5]</td>\n      <td>...</td>\n      <td>(0.5-1.5]</td>\n      <td>(-inf-0.5]</td>\n      <td>(0.5-1.5]</td>\n      <td>(-inf-0.5]</td>\n      <td>(-inf-0.5]</td>\n      <td>Saturday</td>\n      <td>(-inf-6.5]</td>\n      <td>(107.5-263.5]</td>\n      <td>(___ 5]</td>\n      <td>True</td>\n    </tr>\n    <tr>\n      <th>11</th>\n      <td>(-inf-1.5]</td>\n      <td>(-inf-54.5]</td>\n      <td>Saturday</td>\n      <td>(-inf-6.5]</td>\n      <td>(2.5-3.5]</td>\n      <td>(-inf-0.5]</td>\n      <td>(-inf-0.5]</td>\n      <td>(-inf-0.5]</td>\n      <td>(-inf-0.5]</td>\n      <td>(-inf-0.5]</td>\n      <td>...</td>\n      <td>(-inf-0.5]</td>\n      <td>(-inf-0.5]</td>\n      <td>(-inf-0.5]</td>\n      <td>(-inf-0.5]</td>\n      <td>(-inf-0.5]</td>\n      <td>Saturday</td>\n      <td>(-inf-6.5]</td>\n      <td>(107.5-263.5]</td>\n      <td>(___ 5]</td>\n      <td>True</td>\n    </tr>\n    <tr>\n      <th>12</th>\n      <td>(-inf-1.5]</td>\n      <td>(62.5-70.5]</td>\n      <td>Saturday</td>\n      <td>(-inf-6.5]</td>\n      <td>(-inf-1.5]</td>\n      <td>(-inf-0.5]</td>\n      <td>(-inf-0.5]</td>\n      <td>(-inf-0.5]</td>\n      <td>(-inf-0.5]</td>\n      <td>(-inf-0.5]</td>\n      <td>...</td>\n      <td>(-inf-0.5]</td>\n      <td>(-inf-0.5]</td>\n      <td>(-inf-0.5]</td>\n      <td>(-inf-0.5]</td>\n      <td>(-inf-0.5]</td>\n      <td>Saturday</td>\n      <td>(-inf-6.5]</td>\n      <td>(-inf-0.5]</td>\n      <td>(___ 5]</td>\n      <td>True</td>\n    </tr>\n    <tr>\n      <th>13</th>\n      <td>(-inf-1.5]</td>\n      <td>(70.5-179.5]</td>\n      <td>Saturday</td>\n      <td>(-inf-6.5]</td>\n      <td>(-inf-1.5]</td>\n      <td>(-inf-0.5]</td>\n      <td>(-inf-0.5]</td>\n      <td>(-inf-0.5]</td>\n      <td>(-inf-0.5]</td>\n      <td>(-inf-0.5]</td>\n      <td>...</td>\n      <td>(-inf-0.5]</td>\n      <td>(-inf-0.5]</td>\n      <td>(-inf-0.5]</td>\n      <td>(-inf-0.5]</td>\n      <td>(-inf-0.5]</td>\n      <td>Saturday</td>\n      <td>(-inf-6.5]</td>\n      <td>(-inf-0.5]</td>\n      <td>(___ 5]</td>\n      <td>False</td>\n    </tr>\n    <tr>\n      <th>14</th>\n      <td>(-inf-1.5]</td>\n      <td>(70.5-179.5]</td>\n      <td>Saturday</td>\n      <td>(-inf-6.5]</td>\n      <td>(-inf-1.5]</td>\n      <td>(-inf-0.5]</td>\n      <td>(-inf-0.5]</td>\n      <td>(-inf-0.5]</td>\n      <td>(-inf-0.5]</td>\n      <td>(-inf-0.5]</td>\n      <td>...</td>\n      <td>(-inf-0.5]</td>\n      <td>(-inf-0.5]</td>\n      <td>(-inf-0.5]</td>\n      <td>(-inf-0.5]</td>\n      <td>(-inf-0.5]</td>\n      <td>Saturday</td>\n      <td>(-inf-6.5]</td>\n      <td>(-inf-0.5]</td>\n      <td>(___ 5]</td>\n      <td>False</td>\n    </tr>\n    <tr>\n      <th>15</th>\n      <td>(-inf-1.5]</td>\n      <td>(-inf-54.5]</td>\n      <td>Saturday</td>\n      <td>(-inf-6.5]</td>\n      <td>(-inf-1.5]</td>\n      <td>(-inf-0.5]</td>\n      <td>(-inf-0.5]</td>\n      <td>(-inf-0.5]</td>\n      <td>(-inf-0.5]</td>\n      <td>(-inf-0.5]</td>\n      <td>...</td>\n      <td>(-inf-0.5]</td>\n      <td>(-inf-0.5]</td>\n      <td>(-inf-0.5]</td>\n      <td>(-inf-0.5]</td>\n      <td>(-inf-0.5]</td>\n      <td>Saturday</td>\n      <td>(-inf-6.5]</td>\n      <td>(-inf-0.5]</td>\n      <td>(___ 5]</td>\n      <td>False</td>\n    </tr>\n    <tr>\n      <th>16</th>\n      <td>(-inf-1.5]</td>\n      <td>(62.5-70.5]</td>\n      <td>Saturday</td>\n      <td>(-inf-6.5]</td>\n      <td>(-inf-1.5]</td>\n      <td>(-inf-0.5]</td>\n      <td>(-inf-0.5]</td>\n      <td>(-inf-0.5]</td>\n      <td>(-inf-0.5]</td>\n      <td>(-inf-0.5]</td>\n      <td>...</td>\n      <td>(-inf-0.5]</td>\n      <td>(-inf-0.5]</td>\n      <td>(-inf-0.5]</td>\n      <td>(-inf-0.5]</td>\n      <td>(-inf-0.5]</td>\n      <td>Saturday</td>\n      <td>(-inf-6.5]</td>\n      <td>(-inf-0.5]</td>\n      <td>(___ 5]</td>\n      <td>False</td>\n    </tr>\n    <tr>\n      <th>17</th>\n      <td>(-inf-1.5]</td>\n      <td>(-inf-54.5]</td>\n      <td>Saturday</td>\n      <td>(-inf-6.5]</td>\n      <td>(-inf-1.5]</td>\n      <td>(-inf-0.5]</td>\n      <td>(-inf-0.5]</td>\n      <td>(-inf-0.5]</td>\n      <td>(-inf-0.5]</td>\n      <td>(-inf-0.5]</td>\n      <td>...</td>\n      <td>(-inf-0.5]</td>\n      <td>(-inf-0.5]</td>\n      <td>(-inf-0.5]</td>\n      <td>(-inf-0.5]</td>\n      <td>(-inf-0.5]</td>\n      <td>Saturday</td>\n      <td>(-inf-6.5]</td>\n      <td>(-inf-0.5]</td>\n      <td>(___ 5]</td>\n      <td>False</td>\n    </tr>\n    <tr>\n      <th>18</th>\n      <td>(-inf-1.5]</td>\n      <td>(-inf-54.5]</td>\n      <td>Saturday</td>\n      <td>(-inf-6.5]</td>\n      <td>(-inf-1.5]</td>\n      <td>(-inf-0.5]</td>\n      <td>(-inf-0.5]</td>\n      <td>(-inf-0.5]</td>\n      <td>(-inf-0.5]</td>\n      <td>(-inf-0.5]</td>\n      <td>...</td>\n      <td>(-inf-0.5]</td>\n      <td>(-inf-0.5]</td>\n      <td>(-inf-0.5]</td>\n      <td>(-inf-0.5]</td>\n      <td>(-inf-0.5]</td>\n      <td>Saturday</td>\n      <td>(-inf-6.5]</td>\n      <td>(-inf-0.5]</td>\n      <td>(___ 5]</td>\n      <td>False</td>\n    </tr>\n    <tr>\n      <th>19</th>\n      <td>(-inf-1.5]</td>\n      <td>(70.5-179.5]</td>\n      <td>Saturday</td>\n      <td>(-inf-6.5]</td>\n      <td>(-inf-1.5]</td>\n      <td>(-inf-0.5]</td>\n      <td>(-inf-0.5]</td>\n      <td>(-inf-0.5]</td>\n      <td>(-inf-0.5]</td>\n      <td>(-inf-0.5]</td>\n      <td>...</td>\n      <td>(-inf-0.5]</td>\n      <td>(-inf-0.5]</td>\n      <td>(-inf-0.5]</td>\n      <td>(-inf-0.5]</td>\n      <td>(-inf-0.5]</td>\n      <td>Saturday</td>\n      <td>(-inf-6.5]</td>\n      <td>(-inf-0.5]</td>\n      <td>(___ 5]</td>\n      <td>False</td>\n    </tr>\n    <tr>\n      <th>20</th>\n      <td>(-inf-1.5]</td>\n      <td>(-inf-54.5]</td>\n      <td>Saturday</td>\n      <td>(-inf-6.5]</td>\n      <td>(1.5-2.5]</td>\n      <td>(-inf-0.5]</td>\n      <td>(-inf-0.5]</td>\n      <td>(-inf-0.5]</td>\n      <td>(-inf-0.5]</td>\n      <td>(-inf-0.5]</td>\n      <td>...</td>\n      <td>(-inf-0.5]</td>\n      <td>(-inf-0.5]</td>\n      <td>(-inf-0.5]</td>\n      <td>(-inf-0.5]</td>\n      <td>(-inf-0.5]</td>\n      <td>Saturday</td>\n      <td>(-inf-6.5]</td>\n      <td>(0.5-48.5]</td>\n      <td>(___ 5]</td>\n      <td>False</td>\n    </tr>\n    <tr>\n      <th>21</th>\n      <td>(-inf-1.5]</td>\n      <td>(-inf-54.5]</td>\n      <td>Saturday</td>\n      <td>(-inf-6.5]</td>\n      <td>(-inf-1.5]</td>\n      <td>(-inf-0.5]</td>\n      <td>(-inf-0.5]</td>\n      <td>(-inf-0.5]</td>\n      <td>(-inf-0.5]</td>\n      <td>(-inf-0.5]</td>\n      <td>...</td>\n      <td>(-inf-0.5]</td>\n      <td>(-inf-0.5]</td>\n      <td>(-inf-0.5]</td>\n      <td>(-inf-0.5]</td>\n      <td>(-inf-0.5]</td>\n      <td>Saturday</td>\n      <td>(-inf-6.5]</td>\n      <td>(-inf-0.5]</td>\n      <td>(___ 5]</td>\n      <td>False</td>\n    </tr>\n    <tr>\n      <th>22</th>\n      <td>(1.5-2.5]</td>\n      <td>(70.5-179.5]</td>\n      <td>Saturday</td>\n      <td>(-inf-6.5]</td>\n      <td>(-inf-1.5]</td>\n      <td>(-inf-0.5]</td>\n      <td>(-inf-0.5]</td>\n      <td>(-inf-0.5]</td>\n      <td>(-inf-0.5]</td>\n      <td>(-inf-0.5]</td>\n      <td>...</td>\n      <td>(-inf-0.5]</td>\n      <td>(-inf-0.5]</td>\n      <td>(-inf-0.5]</td>\n      <td>(-inf-0.5]</td>\n      <td>(-inf-0.5]</td>\n      <td>Saturday</td>\n      <td>(-inf-6.5]</td>\n      <td>(-inf-0.5]</td>\n      <td>(___ 5]</td>\n      <td>True</td>\n    </tr>\n    <tr>\n      <th>23</th>\n      <td>(-inf-1.5]</td>\n      <td>(54.5-62.5]</td>\n      <td>Saturday</td>\n      <td>(-inf-6.5]</td>\n      <td>(-inf-1.5]</td>\n      <td>(-inf-0.5]</td>\n      <td>(-inf-0.5]</td>\n      <td>(-inf-0.5]</td>\n      <td>(-inf-0.5]</td>\n      <td>(-inf-0.5]</td>\n      <td>...</td>\n      <td>(-inf-0.5]</td>\n      <td>(-inf-0.5]</td>\n      <td>(-inf-0.5]</td>\n      <td>(-inf-0.5]</td>\n      <td>(-inf-0.5]</td>\n      <td>Saturday</td>\n      <td>(-inf-6.5]</td>\n      <td>(-inf-0.5]</td>\n      <td>(___ 5]</td>\n      <td>False</td>\n    </tr>\n    <tr>\n      <th>24</th>\n      <td>(-inf-1.5]</td>\n      <td>(54.5-62.5]</td>\n      <td>Saturday</td>\n      <td>(-inf-6.5]</td>\n      <td>(-inf-1.5]</td>\n      <td>(-inf-0.5]</td>\n      <td>(-inf-0.5]</td>\n      <td>(-inf-0.5]</td>\n      <td>(-inf-0.5]</td>\n      <td>(-inf-0.5]</td>\n      <td>...</td>\n      <td>(-inf-0.5]</td>\n      <td>(-inf-0.5]</td>\n      <td>(-inf-0.5]</td>\n      <td>(-inf-0.5]</td>\n      <td>(-inf-0.5]</td>\n      <td>Saturday</td>\n      <td>(-inf-6.5]</td>\n      <td>(-inf-0.5]</td>\n      <td>(___ 5]</td>\n      <td>False</td>\n    </tr>\n    <tr>\n      <th>25</th>\n      <td>(-inf-1.5]</td>\n      <td>(70.5-179.5]</td>\n      <td>Saturday</td>\n      <td>(-inf-6.5]</td>\n      <td>(-inf-1.5]</td>\n      <td>(-inf-0.5]</td>\n      <td>(-inf-0.5]</td>\n      <td>(-inf-0.5]</td>\n      <td>(-inf-0.5]</td>\n      <td>(-inf-0.5]</td>\n      <td>...</td>\n      <td>(-inf-0.5]</td>\n      <td>(-inf-0.5]</td>\n      <td>(-inf-0.5]</td>\n      <td>(-inf-0.5]</td>\n      <td>(-inf-0.5]</td>\n      <td>Saturday</td>\n      <td>(-inf-6.5]</td>\n      <td>(-inf-0.5]</td>\n      <td>(___ 5]</td>\n      <td>True</td>\n    </tr>\n    <tr>\n      <th>26</th>\n      <td>(-inf-1.5]</td>\n      <td>(70.5-179.5]</td>\n      <td>Saturday</td>\n      <td>(-inf-6.5]</td>\n      <td>(-inf-1.5]</td>\n      <td>(-inf-0.5]</td>\n      <td>(-inf-0.5]</td>\n      <td>(-inf-0.5]</td>\n      <td>(-inf-0.5]</td>\n      <td>(-inf-0.5]</td>\n      <td>...</td>\n      <td>(-inf-0.5]</td>\n      <td>(-inf-0.5]</td>\n      <td>(-inf-0.5]</td>\n      <td>(-inf-0.5]</td>\n      <td>(-inf-0.5]</td>\n      <td>Saturday</td>\n      <td>(-inf-6.5]</td>\n      <td>(-inf-0.5]</td>\n      <td>(___ 5]</td>\n      <td>False</td>\n    </tr>\n    <tr>\n      <th>27</th>\n      <td>(-inf-1.5]</td>\n      <td>(54.5-62.5]</td>\n      <td>Saturday</td>\n      <td>(-inf-6.5]</td>\n      <td>(-inf-1.5]</td>\n      <td>(-inf-0.5]</td>\n      <td>(-inf-0.5]</td>\n      <td>(-inf-0.5]</td>\n      <td>(-inf-0.5]</td>\n      <td>(-inf-0.5]</td>\n      <td>...</td>\n      <td>(-inf-0.5]</td>\n      <td>(-inf-0.5]</td>\n      <td>(-inf-0.5]</td>\n      <td>(-inf-0.5]</td>\n      <td>(-inf-0.5]</td>\n      <td>Saturday</td>\n      <td>(-inf-6.5]</td>\n      <td>(-inf-0.5]</td>\n      <td>(___ 5]</td>\n      <td>False</td>\n    </tr>\n    <tr>\n      <th>28</th>\n      <td>(-inf-1.5]</td>\n      <td>(54.5-62.5]</td>\n      <td>Saturday</td>\n      <td>(-inf-6.5]</td>\n      <td>(-inf-1.5]</td>\n      <td>(-inf-0.5]</td>\n      <td>(-inf-0.5]</td>\n      <td>(-inf-0.5]</td>\n      <td>(-inf-0.5]</td>\n      <td>(-inf-0.5]</td>\n      <td>...</td>\n      <td>(-inf-0.5]</td>\n      <td>(-inf-0.5]</td>\n      <td>(-inf-0.5]</td>\n      <td>(-inf-0.5]</td>\n      <td>(-inf-0.5]</td>\n      <td>Saturday</td>\n      <td>(-inf-6.5]</td>\n      <td>(-inf-0.5]</td>\n      <td>(___ 5]</td>\n      <td>False</td>\n    </tr>\n    <tr>\n      <th>29</th>\n      <td>(-inf-1.5]</td>\n      <td>(-inf-54.5]</td>\n      <td>Saturday</td>\n      <td>(-inf-6.5]</td>\n      <td>(-inf-1.5]</td>\n      <td>(-inf-0.5]</td>\n      <td>(-inf-0.5]</td>\n      <td>(-inf-0.5]</td>\n      <td>(-inf-0.5]</td>\n      <td>(-inf-0.5]</td>\n      <td>...</td>\n      <td>(-inf-0.5]</td>\n      <td>(-inf-0.5]</td>\n      <td>(-inf-0.5]</td>\n      <td>(-inf-0.5]</td>\n      <td>(-inf-0.5]</td>\n      <td>Saturday</td>\n      <td>(-inf-6.5]</td>\n      <td>(-inf-0.5]</td>\n      <td>(___ 5]</td>\n      <td>False</td>\n    </tr>\n  </tbody>\n</table>\n<p>30 rows × 129 columns</p>\n</div>"
     },
     "execution_count": 43,
     "metadata": {},
     "output_type": "execute_result"
    }
   ],
   "source": [
    "pre_test = df_removed2.head(30).copy()\n",
    "pre_test = pre_test.applymap(lambda x: x.replace(\"'\", \"\"))\n",
    "pre_test = pre_test.rename(columns={\"Class\": \"Decision\"})\n",
    "pre_test"
   ],
   "metadata": {
    "collapsed": false,
    "pycharm": {
     "name": "#%%\n"
    }
   }
  },
  {
   "cell_type": "code",
   "execution_count": 19,
   "outputs": [],
   "source": [
    "# from sklearn import tree\n",
    "#\n",
    "# X, y = pre_train, pre_test['Decision']\n",
    "#\n",
    "# clf = tree.DecisionTreeClassifier(criterion=\"entropy\")\n",
    "# clf = clf.fit(X, y)"
   ],
   "metadata": {
    "collapsed": false,
    "pycharm": {
     "name": "#%%\n"
    }
   }
  },
  {
   "cell_type": "markdown",
   "source": [
    "### Using [ChefBoost](https://github.com/serengil/chefboost) library"
   ],
   "metadata": {
    "collapsed": false
   }
  },
  {
   "cell_type": "code",
   "execution_count": 44,
   "outputs": [
    {
     "name": "stdout",
     "output_type": "stream",
     "text": [
      "[INFO]:  4 CPU cores will be allocated in parallel running\n",
      "ID3  tree is going to be built...\n",
      "-------------------------\n",
      "finished in  8.12643027305603  seconds\n",
      "-------------------------\n",
      "Evaluate  train set\n",
      "-------------------------\n",
      "Accuracy:  100.0 % on  30  instances\n",
      "Labels:  ['False' 'True']\n",
      "Confusion matrix:  [[18, 0], [0, 12]]\n",
      "Precision:  100.0 %, Recall:  100.0 %, F1:  100.0 %\n"
     ]
    }
   ],
   "source": [
    "# from id3 import Id3Estimator\n",
    "# from id3 import export_graphviz\n",
    "# estimator = Id3Estimator()\n",
    "#\n",
    "# estimator.fit(df_removed, df_removed2)\n",
    "# # export_graphviz(estimator.tree_, 'tree.dot', df_removed.columns)\n",
    "\n",
    "from chefboost import Chefboost as chef\n",
    "\n",
    "config = {'algorithm': 'ID3'}\n",
    "model = chef.fit(pre_train, config = config, target_label = 'Decision')"
   ],
   "metadata": {
    "collapsed": false,
    "pycharm": {
     "name": "#%%\n"
    }
   }
  },
  {
   "cell_type": "markdown",
   "source": [
    "#### Importance of each feature\n",
    "\n",
    "Representation of the tree as in scikit-learn text is present in rules.py automatically created file"
   ],
   "metadata": {
    "collapsed": false
   }
  },
  {
   "cell_type": "code",
   "execution_count": 45,
   "outputs": [
    {
     "name": "stdout",
     "output_type": "stream",
     "text": [
      "Decision rule:  outputs/rules/rules.py\n"
     ]
    },
    {
     "data": {
      "text/plain": "                                   feature  importance\n126                   Session Time Elapsed    0.752575\n0                      Session Visit Count    0.347935\n3        Session First Request Hour of Day    0.252925\n127  Session First Request Hour of Day Bin    0.252925\n4                    Session Request Count    0.000000\n..                                     ...         ...\n40            Num Welcome Assortment Views    0.000000\n39    Num SaleAssortments Assortment Views    0.000000\n38         Num LifeStyles Assortment Views    0.000000\n37        Num Departments Assortment Views   -0.136314\n5                  Num Hanes Product Views   -0.470047\n\n[128 rows x 2 columns]",
      "text/html": "<div>\n<style scoped>\n    .dataframe tbody tr th:only-of-type {\n        vertical-align: middle;\n    }\n\n    .dataframe tbody tr th {\n        vertical-align: top;\n    }\n\n    .dataframe thead th {\n        text-align: right;\n    }\n</style>\n<table border=\"1\" class=\"dataframe\">\n  <thead>\n    <tr style=\"text-align: right;\">\n      <th></th>\n      <th>feature</th>\n      <th>importance</th>\n    </tr>\n  </thead>\n  <tbody>\n    <tr>\n      <th>126</th>\n      <td>Session Time Elapsed</td>\n      <td>0.752575</td>\n    </tr>\n    <tr>\n      <th>0</th>\n      <td>Session Visit Count</td>\n      <td>0.347935</td>\n    </tr>\n    <tr>\n      <th>3</th>\n      <td>Session First Request Hour of Day</td>\n      <td>0.252925</td>\n    </tr>\n    <tr>\n      <th>127</th>\n      <td>Session First Request Hour of Day Bin</td>\n      <td>0.252925</td>\n    </tr>\n    <tr>\n      <th>4</th>\n      <td>Session Request Count</td>\n      <td>0.000000</td>\n    </tr>\n    <tr>\n      <th>...</th>\n      <td>...</td>\n      <td>...</td>\n    </tr>\n    <tr>\n      <th>40</th>\n      <td>Num Welcome Assortment Views</td>\n      <td>0.000000</td>\n    </tr>\n    <tr>\n      <th>39</th>\n      <td>Num SaleAssortments Assortment Views</td>\n      <td>0.000000</td>\n    </tr>\n    <tr>\n      <th>38</th>\n      <td>Num LifeStyles Assortment Views</td>\n      <td>0.000000</td>\n    </tr>\n    <tr>\n      <th>37</th>\n      <td>Num Departments Assortment Views</td>\n      <td>-0.136314</td>\n    </tr>\n    <tr>\n      <th>5</th>\n      <td>Num Hanes Product Views</td>\n      <td>-0.470047</td>\n    </tr>\n  </tbody>\n</table>\n<p>128 rows × 2 columns</p>\n</div>"
     },
     "execution_count": 45,
     "metadata": {},
     "output_type": "execute_result"
    }
   ],
   "source": [
    "importance_rate = chef.feature_importance(\"outputs/rules/rules.py\")\n",
    "importance_rate"
   ],
   "metadata": {
    "collapsed": false,
    "pycharm": {
     "name": "#%%\n"
    }
   }
  },
  {
   "cell_type": "markdown",
   "source": [
    "#### Gains"
   ],
   "metadata": {
    "collapsed": false
   }
  },
  {
   "cell_type": "code",
   "execution_count": 46,
   "outputs": [
    {
     "data": {
      "text/plain": "{'gains': {'Session Visit Count': 0.012459847021670606,\n  'Session First Processing Time': 0.0,\n  'Session First Request Day of Week': 0.0006863849678270251,\n  'Session First Request Hour of Day': 0.03693397267377384,\n  'Session Request Count': 0.16110650361478732,\n  'Num Hanes Product Views': 0.1191397300369903,\n  'Num Oroblu Product Views': 0.0021065374097726103,\n  'Num AmericanEssentials Product Views': 0.09335036636207972,\n  'Num Danskin Product Views': 0.0,\n  'Num DonnaKaran Product Views': 0.0,\n  'Num Givenchy Product Views': 0.04531556019707861,\n  'Num EvanPicone Product Views': 0.02511624282833691,\n  'Num NicoleMiller Product Views': 0.0,\n  'Num HotSox Product Views': 0.02511624282833691,\n  'Num EllenTracy Product Views': 0.0,\n  'Num Legwear Product Views': 0.0033288490036623986,\n  'Num LegCare Product Views': 0.09334343600788919,\n  'Num Cotton Product Views': 0.09335036636207972,\n  'Num Nylon Product Views': 0.02511624282833691,\n  'Num Coolmax Product Views': 0.0,\n  'Num Lycra Product Views': 0.02511624282833691,\n  'Num Luxury Product Views': 0.0,\n  'Num Rayon Product Views': 0.0,\n  'Num Cotton/Acrylic Product Views': 0.04531556019707861,\n  'Num Silk Product Views': 0.0,\n  'Num Opaque Product Views': 0.0,\n  'Num Herringbone Pattern Views': 0.0,\n  'Num Stripe Pattern Views': 0.0,\n  'Num Plaid Pattern Views': 0.0,\n  'Num Conversational Pattern Views': 0.04531556019707861,\n  'Num Solid Pattern Views': 0.04531556019707861,\n  'Num Pique Pattern Views': 0.0,\n  'Num Pin Dot Pattern Views': 0.0,\n  'Num Floral Pattern Views': 0.0,\n  'Num BrandOrder Assortment Views': 0.0006863849678270251,\n  'Num UniqueBoutiques Assortment Views': 0.0816761613186009,\n  'Num Brands Assortment Views': 0.01369836915326661,\n  'Num Departments Assortment Views': 0.08403260366623515,\n  'Num LifeStyles Assortment Views': 0.06877320407643928,\n  'Num SaleAssortments Assortment Views': 0.0,\n  'Num Welcome Assortment Views': 0.0,\n  'Num Seasonal Assortment Views': 0.0,\n  'Request Processing Time Average': 0.0015138526024402327,\n  'Request Processing Time Sum': 0.012324871635672002,\n  'Session Last Request Processing Time': 0.025654272849131854,\n  'Num main Template Views': 0.05472768052057869,\n  'Num products Template Views': 0.0285593390616308,\n  'Num articles Template Views': 0.05247306337032363,\n  'Num account Template Views': 0.05140433415603374,\n  'Num checkout Template Views': 0.0,\n  'Num main/home Template Views': 0.09985227637067634,\n  'Num products/productDetailLegwear Template Views': 0.0033288490036623986,\n  'Num main/boutique Template Views': 0.0712122036948427,\n  'Num main/departments Template Views': 0.2075923523997102,\n  'Num main/assortment Template Views': 0.09515843240911136,\n  'Num main/vendor Template Views': 0.030629558870534382,\n  'Num main/search_results Template Views': 0.16444261587360798,\n  'Num main/lifestyles Template Views': 0.048423484178526696,\n  'Num main/shopping_cart Template Views': 0.04531556019707861,\n  'Num main/assortment2 Template Views': 0.0,\n  'Num products/productDetailLegcare Template Views': 0.09334343600788919,\n  'Num articles/dpt_about Template Views': 0.09334343600788919,\n  'Num main/login2 Template Views': 0.0,\n  'Num main/replenishment Template Views': 0.031168809209768958,\n  'Num articles/dpt_about_mgmtteam Template Views': 0.02511624282833691,\n  'Num main/freegift Template Views': 0.02511624282833691,\n  'Num main/leg_news Template Views': 0.04557829303891853,\n  'Num main/vendor2 Template Views': 0.0,\n  'Num main/registration Template Views': 0.05140433415603374,\n  'Num main/cust_serv Template Views': 0.05140433415603374,\n  'Num Spray Package Views': 0.0,\n  'Num Box Package Views': 0.0,\n  'Num Tube Package Views': 0.0,\n  'Num Jar Package Views': 0.02511624282833691,\n  'Num Bottle Package Views': 0.02511624282833691,\n  'Num Gift Sets & Special Items Views': 0.0,\n  'Num Deodorizer Views': 0.0,\n  'Num Firming Views': 0.0,\n  'Num Energizers & Relaxers Views': 0.02511624282833691,\n  'Num Replenishable Stock Views': 0.02731014663154134,\n  'Num Seasonal 1 Stock Views': 0.13787887036150936,\n  'Num Seasonal 1* Stock Views': 0.02511624282833691,\n  'Num Seasonal 2 Stock Views': 0.04531556019707861,\n  'Num Replenishment Stock Views': 0.02511624282833691,\n  'Num Fashion 1 Stock Views': 0.0,\n  'Num Tablets Product Views': 0.0,\n  'Num Stick Product Views': 0.0,\n  'Num Capsule Product Views': 0.0,\n  'Num Lotion Product Views': 0.05140433415603374,\n  'Num Wax Product Views': 0.0,\n  'Num Gel Product Views': 0.0,\n  'Num Cream Product Views': 0.0,\n  'Num Liquid Product Views': 0.0,\n  'Num Opaque Look Product Views': 0.0,\n  'Num Sheer Look Product Views': 0.05247306337032363,\n  'Num Ultra Sheer Look Product Views': 0.0021065374097726103,\n  'Num Basic Product Views': 0.0033288490036623986,\n  'Num Fashion Product Views': 0.06877320407643928,\n  'Num HasDressingRoom True Views': 0.05247306337032363,\n  'Num HasDressingRoom False Views': 0.004545537028176033,\n  'Num Flat Product Views': 0.06877320407643928,\n  'Num Textured Product Views': 0.0,\n  'Num Reinforced Toe Views': 0.1191397300369903,\n  'Num Sandal Foot Views': 0.09334343600788919,\n  'Num PH Category Views': 0.1191397300369903,\n  'Num WDCS Category Views': 0.02511624282833691,\n  'Num TH Category Views': 0.04531556019707861,\n  'Num WAS Category Views': 0.04531556019707861,\n  'Num FO Category Views': 0.0,\n  'Num LG Category Views': 0.0,\n  'Num TT Category Views': 0.0,\n  'Num MDS Category Views': 0.04531556019707861,\n  'Num MAS Category Views': 0.04531556019707861,\n  'Num BKS Category Views': 0.0,\n  'Num LEO Category Views': 0.0,\n  'Num GDCS Category Views': 0.0,\n  'Num KP Category Views': 0.05140433415603374,\n  'Num BDCS Category Views': 0.0,\n  'Num MCS Category Views': 0.0,\n  'Num CT Waist Control Views': 0.1191397300369903,\n  'Num STW Waist Control Views': 0.0,\n  'Num Women Product Views': 0.02731014663154134,\n  'Num Men Product Views': 0.09335036636207972,\n  'Num Children Product Views': 0.0,\n  'Session Last Request Day Of Week': 0.0006863849678270251,\n  'Session Last Request Hour Of Day': 0.03693397267377384,\n  'Session Time Elapsed': 0.2731395169131179,\n  'Session First Request Hour of Day Bin': 0.024013453910289723},\n 'entropy': 0.9709505944546686}"
     },
     "execution_count": 46,
     "metadata": {},
     "output_type": "execute_result"
    }
   ],
   "source": [
    "from chefboost.training import Training\n",
    "\n",
    "gains = Training.findGains(pre_train, config)\n",
    "gains"
   ],
   "metadata": {
    "collapsed": false,
    "pycharm": {
     "name": "#%%\n"
    }
   }
  },
  {
   "cell_type": "markdown",
   "source": [
    "#### Prediction of next views"
   ],
   "metadata": {
    "collapsed": false
   }
  },
  {
   "cell_type": "code",
   "execution_count": 48,
   "outputs": [
    {
     "name": "stdout",
     "output_type": "stream",
     "text": [
      "True  vs  True\n",
      "False  vs  False\n",
      "False  vs  False\n",
      "False  vs  False\n",
      "False  vs  False\n",
      "False  vs  False\n",
      "False  vs  False\n",
      "False  vs  False\n",
      "False  vs  False\n",
      "False  vs  False\n",
      "False  vs  True\n",
      "False  vs  True\n",
      "False  vs  True\n",
      "False  vs  False\n",
      "False  vs  False\n",
      "False  vs  False\n",
      "False  vs  False\n",
      "False  vs  False\n",
      "False  vs  False\n",
      "False  vs  False\n",
      "True  vs  False\n",
      "False  vs  False\n",
      "True  vs  True\n",
      "False  vs  False\n",
      "False  vs  False\n",
      "False  vs  True\n",
      "False  vs  False\n",
      "False  vs  False\n",
      "False  vs  False\n",
      "False  vs  False\n"
     ]
    }
   ],
   "source": [
    "for index, instance in pre_test.iterrows():\n",
    "    prediction = chef.predict(model, instance)\n",
    "    actual = instance['Decision']\n",
    "    print(prediction, \" vs \", actual)"
   ],
   "metadata": {
    "collapsed": false,
    "pycharm": {
     "name": "#%%\n"
    }
   }
  },
  {
   "cell_type": "markdown",
   "source": [
    "#### ChefBoost is based on Max-Gain only selection of best feature\n",
    "Trying to understand the path as sentences would result in:\n",
    "- As much as the user spends more time on the page, the probability of revisit increases with 75%\n",
    "- As much as the user visits multiple times the page, the probability of revisit increases with 34%"
   ],
   "metadata": {
    "collapsed": false
   }
  },
  {
   "cell_type": "markdown",
   "source": [
    "### ChefBoost on other Datasets"
   ],
   "metadata": {
    "collapsed": false
   }
  },
  {
   "cell_type": "markdown",
   "source": [
    "[Golf Dataset](https://github.com/serengil/chefboost/blob/master/tests/dataset/golf.txt)"
   ],
   "metadata": {
    "collapsed": false
   }
  },
  {
   "cell_type": "markdown",
   "source": [
    "#### Training the dataset"
   ],
   "metadata": {
    "collapsed": false
   }
  },
  {
   "cell_type": "code",
   "execution_count": 59,
   "outputs": [
    {
     "name": "stdout",
     "output_type": "stream",
     "text": [
      "[INFO]:  4 CPU cores will be allocated in parallel running\n",
      "ID3  tree is going to be built...\n",
      "-------------------------\n",
      "finished in  1.7984974384307861  seconds\n",
      "-------------------------\n",
      "Evaluate  train set\n",
      "-------------------------\n",
      "Accuracy:  100.0 % on  14  instances\n",
      "Labels:  ['No' 'Yes']\n",
      "Confusion matrix:  [[5, 0], [0, 9]]\n",
      "Precision:  100.0 %, Recall:  100.0 %, F1:  100.0 %\n"
     ]
    }
   ],
   "source": [
    "golf = pd.read_csv(\"data1/golf.txt\")\n",
    "config = {'algorithm': 'ID3'}\n",
    "model = chef.fit(golf, config = config, target_label = 'Decision')"
   ],
   "metadata": {
    "collapsed": false,
    "pycharm": {
     "name": "#%%\n"
    }
   }
  },
  {
   "cell_type": "markdown",
   "source": [
    "#### Showing the importance of each feature"
   ],
   "metadata": {
    "collapsed": false
   }
  },
  {
   "cell_type": "code",
   "execution_count": 60,
   "outputs": [
    {
     "name": "stdout",
     "output_type": "stream",
     "text": [
      "Decision rule:  outputs/rules/rules.py\n"
     ]
    },
    {
     "data": {
      "text/plain": "    feature  importance\n2  Humidity      0.3688\n3      Wind      0.3688\n0   Outlook      0.2624\n1     Temp.      0.0000",
      "text/html": "<div>\n<style scoped>\n    .dataframe tbody tr th:only-of-type {\n        vertical-align: middle;\n    }\n\n    .dataframe tbody tr th {\n        vertical-align: top;\n    }\n\n    .dataframe thead th {\n        text-align: right;\n    }\n</style>\n<table border=\"1\" class=\"dataframe\">\n  <thead>\n    <tr style=\"text-align: right;\">\n      <th></th>\n      <th>feature</th>\n      <th>importance</th>\n    </tr>\n  </thead>\n  <tbody>\n    <tr>\n      <th>2</th>\n      <td>Humidity</td>\n      <td>0.3688</td>\n    </tr>\n    <tr>\n      <th>3</th>\n      <td>Wind</td>\n      <td>0.3688</td>\n    </tr>\n    <tr>\n      <th>0</th>\n      <td>Outlook</td>\n      <td>0.2624</td>\n    </tr>\n    <tr>\n      <th>1</th>\n      <td>Temp.</td>\n      <td>0.0000</td>\n    </tr>\n  </tbody>\n</table>\n</div>"
     },
     "execution_count": 60,
     "metadata": {},
     "output_type": "execute_result"
    }
   ],
   "source": [
    "importance_rate = chef.feature_importance(\"outputs/rules/rules.py\")\n",
    "importance_rate"
   ],
   "metadata": {
    "collapsed": false,
    "pycharm": {
     "name": "#%%\n"
    }
   }
  },
  {
   "cell_type": "markdown",
   "source": [
    "#### Making a prediction based on the first observation as parameter"
   ],
   "metadata": {
    "collapsed": false
   }
  },
  {
   "cell_type": "code",
   "execution_count": 61,
   "outputs": [
    {
     "data": {
      "text/plain": "'Yes'"
     },
     "execution_count": 61,
     "metadata": {},
     "output_type": "execute_result"
    }
   ],
   "source": [
    "prediction = chef.predict(model, param = ['Rain', 'Hot', 'High', 'Weak'])\n",
    "# moduleName = \"outputs/rules/rules\" #this will load outputs/rules/rules.py\n",
    "# tree = chef.restoreTree(moduleName)\n",
    "# prediction = tree.findDecision(['Sunny', 'Hot', 'High', 'Weak'])\n",
    "prediction"
   ],
   "metadata": {
    "collapsed": false,
    "pycharm": {
     "name": "#%%\n"
    }
   }
  },
  {
   "cell_type": "markdown",
   "source": [
    "#### Gain values"
   ],
   "metadata": {
    "collapsed": false
   }
  },
  {
   "cell_type": "code",
   "execution_count": 62,
   "outputs": [
    {
     "data": {
      "text/plain": "{'gains': {'Outlook': 0.2467498197744391,\n  'Temp.': 0.029222565658954647,\n  'Humidity': 0.15183550136234136,\n  'Wind': 0.04812703040826932},\n 'entropy': 0.9402859586706309}"
     },
     "execution_count": 62,
     "metadata": {},
     "output_type": "execute_result"
    }
   ],
   "source": [
    "from chefboost.training import Training\n",
    "gains = Training.findGains(golf, config)\n",
    "gains"
   ],
   "metadata": {
    "collapsed": false,
    "pycharm": {
     "name": "#%%\n"
    }
   }
  }
 ],
 "metadata": {
  "kernelspec": {
   "display_name": "Python 3",
   "language": "python",
   "name": "python3"
  },
  "language_info": {
   "codemirror_mode": {
    "name": "ipython",
    "version": 2
   },
   "file_extension": ".py",
   "mimetype": "text/x-python",
   "name": "python",
   "nbconvert_exporter": "python",
   "pygments_lexer": "ipython2",
   "version": "2.7.6"
  }
 },
 "nbformat": 4,
 "nbformat_minor": 0
}