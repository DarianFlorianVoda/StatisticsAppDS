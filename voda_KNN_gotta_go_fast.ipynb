{
 "cells": [
  {
   "cell_type": "markdown",
   "source": [
    "## Voda Darian-Florian - KNN Algorithm on load_data.csv dataset"
   ],
   "metadata": {
    "collapsed": false
   }
  },
  {
   "cell_type": "markdown",
   "source": [
    "## Import libraries"
   ],
   "metadata": {
    "collapsed": false
   }
  },
  {
   "cell_type": "code",
   "execution_count": null,
   "outputs": [],
   "source": [
    "import pandas as pd\n",
    "from matplotlib import pyplot as plt\n",
    "import seaborn as sns\n",
    "from sklearn.preprocessing import OneHotEncoder\n",
    "from sklearn.preprocessing import MinMaxScaler\n",
    "from sklearn.model_selection import train_test_split\n",
    "from sklearn.linear_model import LogisticRegression\n",
    "import math\n",
    "from sklearn import metrics\n",
    "from sklearn.tree import DecisionTreeClassifier"
   ],
   "metadata": {
    "collapsed": false,
    "pycharm": {
     "name": "#%%\n"
    }
   }
  },
  {
   "cell_type": "markdown",
   "source": [
    "## Import dataset"
   ],
   "metadata": {
    "collapsed": false
   }
  },
  {
   "cell_type": "code",
   "execution_count": 19,
   "metadata": {
    "collapsed": true
   },
   "outputs": [
    {
     "name": "stdout",
     "output_type": "stream",
     "text": [
      "data shape: (500, 11)\n"
     ]
    },
    {
     "data": {
      "text/plain": "    Loan_ID loan_status  Principal  terms effective_date   due_date  \\\n0  20166231     PAIDOFF       1000     30       9/8/2016  10/7/2016   \n1  20168902     PAIDOFF       1000     30       9/8/2016  10/7/2016   \n2  20160003     PAIDOFF       1000     30       9/8/2016  10/7/2016   \n3  20160004     PAIDOFF       1000     15       9/8/2016  9/22/2016   \n4  20160005     PAIDOFF       1000     30       9/9/2016  10/8/2016   \n\n     paid_off_time  past_due_days  age             education  Gender  \n0  9/14/2016 19:31            NaN   45  High School or Below    male  \n1   10/7/2016 9:00            NaN   50              Bechalor  female  \n2  9/25/2016 16:58            NaN   33              Bechalor  female  \n3  9/22/2016 20:00            NaN   27               college    male  \n4  9/23/2016 21:36            NaN   28               college  female  ",
      "text/html": "<div>\n<style scoped>\n    .dataframe tbody tr th:only-of-type {\n        vertical-align: middle;\n    }\n\n    .dataframe tbody tr th {\n        vertical-align: top;\n    }\n\n    .dataframe thead th {\n        text-align: right;\n    }\n</style>\n<table border=\"1\" class=\"dataframe\">\n  <thead>\n    <tr style=\"text-align: right;\">\n      <th></th>\n      <th>Loan_ID</th>\n      <th>loan_status</th>\n      <th>Principal</th>\n      <th>terms</th>\n      <th>effective_date</th>\n      <th>due_date</th>\n      <th>paid_off_time</th>\n      <th>past_due_days</th>\n      <th>age</th>\n      <th>education</th>\n      <th>Gender</th>\n    </tr>\n  </thead>\n  <tbody>\n    <tr>\n      <th>0</th>\n      <td>20166231</td>\n      <td>PAIDOFF</td>\n      <td>1000</td>\n      <td>30</td>\n      <td>9/8/2016</td>\n      <td>10/7/2016</td>\n      <td>9/14/2016 19:31</td>\n      <td>NaN</td>\n      <td>45</td>\n      <td>High School or Below</td>\n      <td>male</td>\n    </tr>\n    <tr>\n      <th>1</th>\n      <td>20168902</td>\n      <td>PAIDOFF</td>\n      <td>1000</td>\n      <td>30</td>\n      <td>9/8/2016</td>\n      <td>10/7/2016</td>\n      <td>10/7/2016 9:00</td>\n      <td>NaN</td>\n      <td>50</td>\n      <td>Bechalor</td>\n      <td>female</td>\n    </tr>\n    <tr>\n      <th>2</th>\n      <td>20160003</td>\n      <td>PAIDOFF</td>\n      <td>1000</td>\n      <td>30</td>\n      <td>9/8/2016</td>\n      <td>10/7/2016</td>\n      <td>9/25/2016 16:58</td>\n      <td>NaN</td>\n      <td>33</td>\n      <td>Bechalor</td>\n      <td>female</td>\n    </tr>\n    <tr>\n      <th>3</th>\n      <td>20160004</td>\n      <td>PAIDOFF</td>\n      <td>1000</td>\n      <td>15</td>\n      <td>9/8/2016</td>\n      <td>9/22/2016</td>\n      <td>9/22/2016 20:00</td>\n      <td>NaN</td>\n      <td>27</td>\n      <td>college</td>\n      <td>male</td>\n    </tr>\n    <tr>\n      <th>4</th>\n      <td>20160005</td>\n      <td>PAIDOFF</td>\n      <td>1000</td>\n      <td>30</td>\n      <td>9/9/2016</td>\n      <td>10/8/2016</td>\n      <td>9/23/2016 21:36</td>\n      <td>NaN</td>\n      <td>28</td>\n      <td>college</td>\n      <td>female</td>\n    </tr>\n  </tbody>\n</table>\n</div>"
     },
     "execution_count": 19,
     "metadata": {},
     "output_type": "execute_result"
    }
   ],
   "source": [
    "df = pd.read_csv(r\"C:\\Users\\daria\\PycharmProjects\\StatisticsAppDS\\loan_data.csv\")\n",
    "print(f'data shape: {df.shape}')\n",
    "df.head(5)"
   ]
  },
  {
   "cell_type": "markdown",
   "source": [
    "## Exploratory Data Analysis (EDA)"
   ],
   "metadata": {
    "collapsed": false
   }
  },
  {
   "cell_type": "code",
   "execution_count": 20,
   "outputs": [
    {
     "data": {
      "text/plain": "            Loan_ID    Principal       terms  past_due_days         age\ncount  5.000000e+02   500.000000  500.000000      200.00000  500.000000\nmean   2.110948e+07   943.200000   22.824000       36.01000   31.116000\nstd    7.621265e+06   115.240274    8.000064       29.38088    6.084784\nmin    1.216016e+07   300.000000    7.000000        1.00000   18.000000\n25%    2.016013e+07  1000.000000   15.000000        3.00000   27.000000\n50%    2.016026e+07  1000.000000   30.000000       37.00000   30.000000\n75%    2.016039e+07  1000.000000   30.000000       60.00000   35.000000\nmax    9.116029e+07  1000.000000   30.000000       76.00000   51.000000",
      "text/html": "<div>\n<style scoped>\n    .dataframe tbody tr th:only-of-type {\n        vertical-align: middle;\n    }\n\n    .dataframe tbody tr th {\n        vertical-align: top;\n    }\n\n    .dataframe thead th {\n        text-align: right;\n    }\n</style>\n<table border=\"1\" class=\"dataframe\">\n  <thead>\n    <tr style=\"text-align: right;\">\n      <th></th>\n      <th>Loan_ID</th>\n      <th>Principal</th>\n      <th>terms</th>\n      <th>past_due_days</th>\n      <th>age</th>\n    </tr>\n  </thead>\n  <tbody>\n    <tr>\n      <th>count</th>\n      <td>5.000000e+02</td>\n      <td>500.000000</td>\n      <td>500.000000</td>\n      <td>200.00000</td>\n      <td>500.000000</td>\n    </tr>\n    <tr>\n      <th>mean</th>\n      <td>2.110948e+07</td>\n      <td>943.200000</td>\n      <td>22.824000</td>\n      <td>36.01000</td>\n      <td>31.116000</td>\n    </tr>\n    <tr>\n      <th>std</th>\n      <td>7.621265e+06</td>\n      <td>115.240274</td>\n      <td>8.000064</td>\n      <td>29.38088</td>\n      <td>6.084784</td>\n    </tr>\n    <tr>\n      <th>min</th>\n      <td>1.216016e+07</td>\n      <td>300.000000</td>\n      <td>7.000000</td>\n      <td>1.00000</td>\n      <td>18.000000</td>\n    </tr>\n    <tr>\n      <th>25%</th>\n      <td>2.016013e+07</td>\n      <td>1000.000000</td>\n      <td>15.000000</td>\n      <td>3.00000</td>\n      <td>27.000000</td>\n    </tr>\n    <tr>\n      <th>50%</th>\n      <td>2.016026e+07</td>\n      <td>1000.000000</td>\n      <td>30.000000</td>\n      <td>37.00000</td>\n      <td>30.000000</td>\n    </tr>\n    <tr>\n      <th>75%</th>\n      <td>2.016039e+07</td>\n      <td>1000.000000</td>\n      <td>30.000000</td>\n      <td>60.00000</td>\n      <td>35.000000</td>\n    </tr>\n    <tr>\n      <th>max</th>\n      <td>9.116029e+07</td>\n      <td>1000.000000</td>\n      <td>30.000000</td>\n      <td>76.00000</td>\n      <td>51.000000</td>\n    </tr>\n  </tbody>\n</table>\n</div>"
     },
     "execution_count": 20,
     "metadata": {},
     "output_type": "execute_result"
    }
   ],
   "source": [
    "df.describe()"
   ],
   "metadata": {
    "collapsed": false,
    "pycharm": {
     "name": "#%%\n"
    }
   }
  },
  {
   "cell_type": "code",
   "execution_count": 21,
   "outputs": [
    {
     "name": "stdout",
     "output_type": "stream",
     "text": [
      "<class 'pandas.core.frame.DataFrame'>\n",
      "RangeIndex: 500 entries, 0 to 499\n",
      "Data columns (total 11 columns):\n",
      " #   Column          Non-Null Count  Dtype  \n",
      "---  ------          --------------  -----  \n",
      " 0   Loan_ID         500 non-null    int64  \n",
      " 1   loan_status     500 non-null    object \n",
      " 2   Principal       500 non-null    int64  \n",
      " 3   terms           500 non-null    int64  \n",
      " 4   effective_date  500 non-null    object \n",
      " 5   due_date        500 non-null    object \n",
      " 6   paid_off_time   400 non-null    object \n",
      " 7   past_due_days   200 non-null    float64\n",
      " 8   age             500 non-null    int64  \n",
      " 9   education       500 non-null    object \n",
      " 10  Gender          500 non-null    object \n",
      "dtypes: float64(1), int64(4), object(6)\n",
      "memory usage: 43.1+ KB\n"
     ]
    }
   ],
   "source": [
    "df.info()"
   ],
   "metadata": {
    "collapsed": false,
    "pycharm": {
     "name": "#%%\n"
    }
   }
  },
  {
   "cell_type": "code",
   "execution_count": 22,
   "outputs": [
    {
     "data": {
      "text/plain": "Loan_ID             0\nloan_status         0\nPrincipal           0\nterms               0\neffective_date      0\ndue_date            0\npaid_off_time     100\npast_due_days     300\nage                 0\neducation           0\nGender              0\ndtype: int64"
     },
     "execution_count": 22,
     "metadata": {},
     "output_type": "execute_result"
    }
   ],
   "source": [
    "df.isnull().sum()"
   ],
   "metadata": {
    "collapsed": false,
    "pycharm": {
     "name": "#%%\n"
    }
   }
  },
  {
   "cell_type": "markdown",
   "source": [
    "There are 100 NULL values for paid_off_time feature, and 300 NULL values for past_due_days feature"
   ],
   "metadata": {
    "collapsed": false
   }
  },
  {
   "cell_type": "markdown",
   "source": [
    "But we still don't care, since this feature is not an important one for our analysis, so we will take care of this like dictators did to opposition."
   ],
   "metadata": {
    "collapsed": false
   }
  },
  {
   "cell_type": "code",
   "execution_count": 23,
   "outputs": [
    {
     "data": {
      "text/plain": "       Loan_ID                                                      \\\n         count          mean           std         min         25%   \nGender                                                               \nfemale    77.0  2.290072e+07  1.376049e+07  12160159.0  20160134.0   \nmale     423.0  2.078341e+07  5.821404e+06  20110409.0  20160135.5   \n\n                                           Principal              ...  \\\n               50%         75%         max     count        mean  ...   \nGender                                                            ...   \nfemale  20160250.0  20160393.0  91160291.0      77.0  945.454545  ...   \nmale    20160269.0  20160394.5  90163093.0     423.0  942.789598  ...   \n\n       past_due_days          age                                         \\\n                 75%   max  count       mean       std   min   25%   50%   \nGender                                                                     \nfemale          59.0  75.0   77.0  31.883117  6.702266  19.0  27.0  31.0   \nmale            60.0  76.0  423.0  30.976359  5.963507  18.0  27.0  30.0   \n\n                    \n         75%   max  \nGender              \nfemale  35.0  50.0  \nmale    35.0  51.0  \n\n[2 rows x 40 columns]",
      "text/html": "<div>\n<style scoped>\n    .dataframe tbody tr th:only-of-type {\n        vertical-align: middle;\n    }\n\n    .dataframe tbody tr th {\n        vertical-align: top;\n    }\n\n    .dataframe thead tr th {\n        text-align: left;\n    }\n\n    .dataframe thead tr:last-of-type th {\n        text-align: right;\n    }\n</style>\n<table border=\"1\" class=\"dataframe\">\n  <thead>\n    <tr>\n      <th></th>\n      <th colspan=\"8\" halign=\"left\">Loan_ID</th>\n      <th colspan=\"2\" halign=\"left\">Principal</th>\n      <th>...</th>\n      <th colspan=\"2\" halign=\"left\">past_due_days</th>\n      <th colspan=\"8\" halign=\"left\">age</th>\n    </tr>\n    <tr>\n      <th></th>\n      <th>count</th>\n      <th>mean</th>\n      <th>std</th>\n      <th>min</th>\n      <th>25%</th>\n      <th>50%</th>\n      <th>75%</th>\n      <th>max</th>\n      <th>count</th>\n      <th>mean</th>\n      <th>...</th>\n      <th>75%</th>\n      <th>max</th>\n      <th>count</th>\n      <th>mean</th>\n      <th>std</th>\n      <th>min</th>\n      <th>25%</th>\n      <th>50%</th>\n      <th>75%</th>\n      <th>max</th>\n    </tr>\n    <tr>\n      <th>Gender</th>\n      <th></th>\n      <th></th>\n      <th></th>\n      <th></th>\n      <th></th>\n      <th></th>\n      <th></th>\n      <th></th>\n      <th></th>\n      <th></th>\n      <th></th>\n      <th></th>\n      <th></th>\n      <th></th>\n      <th></th>\n      <th></th>\n      <th></th>\n      <th></th>\n      <th></th>\n      <th></th>\n      <th></th>\n    </tr>\n  </thead>\n  <tbody>\n    <tr>\n      <th>female</th>\n      <td>77.0</td>\n      <td>2.290072e+07</td>\n      <td>1.376049e+07</td>\n      <td>12160159.0</td>\n      <td>20160134.0</td>\n      <td>20160250.0</td>\n      <td>20160393.0</td>\n      <td>91160291.0</td>\n      <td>77.0</td>\n      <td>945.454545</td>\n      <td>...</td>\n      <td>59.0</td>\n      <td>75.0</td>\n      <td>77.0</td>\n      <td>31.883117</td>\n      <td>6.702266</td>\n      <td>19.0</td>\n      <td>27.0</td>\n      <td>31.0</td>\n      <td>35.0</td>\n      <td>50.0</td>\n    </tr>\n    <tr>\n      <th>male</th>\n      <td>423.0</td>\n      <td>2.078341e+07</td>\n      <td>5.821404e+06</td>\n      <td>20110409.0</td>\n      <td>20160135.5</td>\n      <td>20160269.0</td>\n      <td>20160394.5</td>\n      <td>90163093.0</td>\n      <td>423.0</td>\n      <td>942.789598</td>\n      <td>...</td>\n      <td>60.0</td>\n      <td>76.0</td>\n      <td>423.0</td>\n      <td>30.976359</td>\n      <td>5.963507</td>\n      <td>18.0</td>\n      <td>27.0</td>\n      <td>30.0</td>\n      <td>35.0</td>\n      <td>51.0</td>\n    </tr>\n  </tbody>\n</table>\n<p>2 rows × 40 columns</p>\n</div>"
     },
     "execution_count": 23,
     "metadata": {},
     "output_type": "execute_result"
    }
   ],
   "source": [
    "# Describe each feature grouped by gender\n",
    "df.groupby(['Gender']).describe()"
   ],
   "metadata": {
    "collapsed": false,
    "pycharm": {
     "name": "#%%\n"
    }
   }
  },
  {
   "cell_type": "code",
   "execution_count": 24,
   "outputs": [
    {
     "data": {
      "text/plain": "Text(0.5, 1.0, 'Boxplot of age')"
     },
     "execution_count": 24,
     "metadata": {},
     "output_type": "execute_result"
    },
    {
     "data": {
      "text/plain": "<Figure size 640x480 with 1 Axes>",
      "image/png": "[encoded data removed]"
     },
     "metadata": {},
     "output_type": "display_data"
    }
   ],
   "source": [
    "sns.boxplot(df['age'])\n",
    "plt.title(\"Boxplot of age\")"
   ],
   "metadata": {
    "collapsed": false,
    "pycharm": {
     "name": "#%%\n"
    }
   }
  },
  {
   "cell_type": "code",
   "execution_count": 25,
   "outputs": [
    {
     "data": {
      "text/plain": "Text(0.5, 1.0, 'Distribution of loan status')"
     },
     "execution_count": 25,
     "metadata": {},
     "output_type": "execute_result"
    },
    {
     "data": {
      "text/plain": "<Figure size 640x480 with 1 Axes>",
      "image/png": "[encoded data removed]"
     },
     "metadata": {},
     "output_type": "display_data"
    }
   ],
   "source": [
    "df['loan_status'].value_counts().plot(kind='bar')\n",
    "plt.title(\"Distribution of loan status\")"
   ],
   "metadata": {
    "collapsed": false,
    "pycharm": {
     "name": "#%%\n"
    }
   }
  },
  {
   "cell_type": "markdown",
   "source": [
    "## Preprocessing"
   ],
   "metadata": {
    "collapsed": false
   }
  },
  {
   "cell_type": "code",
   "execution_count": 26,
   "outputs": [
    {
     "data": {
      "text/plain": "      Loan_ID         loan_status  Principal  terms effective_date  \\\n0    20166231             PAIDOFF       1000     30       9/8/2016   \n1    20168902             PAIDOFF       1000     30       9/8/2016   \n2    20160003             PAIDOFF       1000     30       9/8/2016   \n3    20160004             PAIDOFF       1000     15       9/8/2016   \n4    20160005             PAIDOFF       1000     30       9/9/2016   \n..        ...                 ...        ...    ...            ...   \n495  20160496  COLLECTION_PAIDOFF       1000     30      9/12/2016   \n496  20160497  COLLECTION_PAIDOFF       1000     15      9/12/2016   \n497  20160498  COLLECTION_PAIDOFF        800     15      9/12/2016   \n498  20160499  COLLECTION_PAIDOFF       1000     30      9/12/2016   \n499  20160500  COLLECTION_PAIDOFF       1000     30      9/12/2016   \n\n       due_date     paid_off_time  past_due_days  age             education  \\\n0     10/7/2016   9/14/2016 19:31            NaN   45  High School or Below   \n1     10/7/2016    10/7/2016 9:00            NaN   50              Bechalor   \n2     10/7/2016   9/25/2016 16:58            NaN   33              Bechalor   \n3     9/22/2016   9/22/2016 20:00            NaN   27               college   \n4     10/8/2016   9/23/2016 21:36            NaN   28               college   \n..          ...               ...            ...  ...                   ...   \n495  10/11/2016  10/14/2016 19:08            3.0   28  High School or Below   \n496   9/26/2016  10/10/2016 20:02           14.0   26  High School or Below   \n497   9/26/2016   9/29/2016 11:49            3.0   30               college   \n498  11/10/2016  11/11/2016 22:40            1.0   38               college   \n499  10/11/2016  10/19/2016 11:58            8.0   28  High School or Below   \n\n     Gender  \n0      male  \n1    female  \n2    female  \n3      male  \n4    female  \n..      ...  \n495    male  \n496    male  \n497    male  \n498  female  \n499    male  \n\n[500 rows x 11 columns]",
      "text/html": "<div>\n<style scoped>\n    .dataframe tbody tr th:only-of-type {\n        vertical-align: middle;\n    }\n\n    .dataframe tbody tr th {\n        vertical-align: top;\n    }\n\n    .dataframe thead th {\n        text-align: right;\n    }\n</style>\n<table border=\"1\" class=\"dataframe\">\n  <thead>\n    <tr style=\"text-align: right;\">\n      <th></th>\n      <th>Loan_ID</th>\n      <th>loan_status</th>\n      <th>Principal</th>\n      <th>terms</th>\n      <th>effective_date</th>\n      <th>due_date</th>\n      <th>paid_off_time</th>\n      <th>past_due_days</th>\n      <th>age</th>\n      <th>education</th>\n      <th>Gender</th>\n    </tr>\n  </thead>\n  <tbody>\n    <tr>\n      <th>0</th>\n      <td>20166231</td>\n      <td>PAIDOFF</td>\n      <td>1000</td>\n      <td>30</td>\n      <td>9/8/2016</td>\n      <td>10/7/2016</td>\n      <td>9/14/2016 19:31</td>\n      <td>NaN</td>\n      <td>45</td>\n      <td>High School or Below</td>\n      <td>male</td>\n    </tr>\n    <tr>\n      <th>1</th>\n      <td>20168902</td>\n      <td>PAIDOFF</td>\n      <td>1000</td>\n      <td>30</td>\n      <td>9/8/2016</td>\n      <td>10/7/2016</td>\n      <td>10/7/2016 9:00</td>\n      <td>NaN</td>\n      <td>50</td>\n      <td>Bechalor</td>\n      <td>female</td>\n    </tr>\n    <tr>\n      <th>2</th>\n      <td>20160003</td>\n      <td>PAIDOFF</td>\n      <td>1000</td>\n      <td>30</td>\n      <td>9/8/2016</td>\n      <td>10/7/2016</td>\n      <td>9/25/2016 16:58</td>\n      <td>NaN</td>\n      <td>33</td>\n      <td>Bechalor</td>\n      <td>female</td>\n    </tr>\n    <tr>\n      <th>3</th>\n      <td>20160004</td>\n      <td>PAIDOFF</td>\n      <td>1000</td>\n      <td>15</td>\n      <td>9/8/2016</td>\n      <td>9/22/2016</td>\n      <td>9/22/2016 20:00</td>\n      <td>NaN</td>\n      <td>27</td>\n      <td>college</td>\n      <td>male</td>\n    </tr>\n    <tr>\n      <th>4</th>\n      <td>20160005</td>\n      <td>PAIDOFF</td>\n      <td>1000</td>\n      <td>30</td>\n      <td>9/9/2016</td>\n      <td>10/8/2016</td>\n      <td>9/23/2016 21:36</td>\n      <td>NaN</td>\n      <td>28</td>\n      <td>college</td>\n      <td>female</td>\n    </tr>\n    <tr>\n      <th>...</th>\n      <td>...</td>\n      <td>...</td>\n      <td>...</td>\n      <td>...</td>\n      <td>...</td>\n      <td>...</td>\n      <td>...</td>\n      <td>...</td>\n      <td>...</td>\n      <td>...</td>\n      <td>...</td>\n    </tr>\n    <tr>\n      <th>495</th>\n      <td>20160496</td>\n      <td>COLLECTION_PAIDOFF</td>\n      <td>1000</td>\n      <td>30</td>\n      <td>9/12/2016</td>\n      <td>10/11/2016</td>\n      <td>10/14/2016 19:08</td>\n      <td>3.0</td>\n      <td>28</td>\n      <td>High School or Below</td>\n      <td>male</td>\n    </tr>\n    <tr>\n      <th>496</th>\n      <td>20160497</td>\n      <td>COLLECTION_PAIDOFF</td>\n      <td>1000</td>\n      <td>15</td>\n      <td>9/12/2016</td>\n      <td>9/26/2016</td>\n      <td>10/10/2016 20:02</td>\n      <td>14.0</td>\n      <td>26</td>\n      <td>High School or Below</td>\n      <td>male</td>\n    </tr>\n    <tr>\n      <th>497</th>\n      <td>20160498</td>\n      <td>COLLECTION_PAIDOFF</td>\n      <td>800</td>\n      <td>15</td>\n      <td>9/12/2016</td>\n      <td>9/26/2016</td>\n      <td>9/29/2016 11:49</td>\n      <td>3.0</td>\n      <td>30</td>\n      <td>college</td>\n      <td>male</td>\n    </tr>\n    <tr>\n      <th>498</th>\n      <td>20160499</td>\n      <td>COLLECTION_PAIDOFF</td>\n      <td>1000</td>\n      <td>30</td>\n      <td>9/12/2016</td>\n      <td>11/10/2016</td>\n      <td>11/11/2016 22:40</td>\n      <td>1.0</td>\n      <td>38</td>\n      <td>college</td>\n      <td>female</td>\n    </tr>\n    <tr>\n      <th>499</th>\n      <td>20160500</td>\n      <td>COLLECTION_PAIDOFF</td>\n      <td>1000</td>\n      <td>30</td>\n      <td>9/12/2016</td>\n      <td>10/11/2016</td>\n      <td>10/19/2016 11:58</td>\n      <td>8.0</td>\n      <td>28</td>\n      <td>High School or Below</td>\n      <td>male</td>\n    </tr>\n  </tbody>\n</table>\n<p>500 rows × 11 columns</p>\n</div>"
     },
     "execution_count": 26,
     "metadata": {},
     "output_type": "execute_result"
    }
   ],
   "source": [
    "df"
   ],
   "metadata": {
    "collapsed": false,
    "pycharm": {
     "name": "#%%\n"
    }
   }
  },
  {
   "cell_type": "markdown",
   "source": [
    "Check the number of unique variable for the loan_status feature"
   ],
   "metadata": {
    "collapsed": false
   }
  },
  {
   "cell_type": "code",
   "execution_count": 27,
   "outputs": [
    {
     "data": {
      "text/plain": "{'COLLECTION', 'COLLECTION_PAIDOFF', 'PAIDOFF'}"
     },
     "execution_count": 27,
     "metadata": {},
     "output_type": "execute_result"
    }
   ],
   "source": [
    "loan_status = set(df['loan_status'])\n",
    "loan_status"
   ],
   "metadata": {
    "collapsed": false,
    "pycharm": {
     "name": "#%%\n"
    }
   }
  },
  {
   "cell_type": "markdown",
   "source": [
    "We have two choices:\n",
    "- Put COLLECTION_PAIDOFF into PAIDOFF group\n",
    "- Put COLLECTION_PAIDOFF into NOT PAIDOFF group"
   ],
   "metadata": {
    "collapsed": false
   }
  },
  {
   "cell_type": "markdown",
   "source": [
    "Let's try both of them, since I consider that people always need a second chance and also maybe sometimes not."
   ],
   "metadata": {
    "collapsed": false
   }
  },
  {
   "cell_type": "markdown",
   "source": [
    "We'll replace the COLLECTION_PAIDOFF to PAIDOFF name in order to do the first option"
   ],
   "metadata": {
    "collapsed": false
   }
  },
  {
   "cell_type": "markdown",
   "source": [
    "#### COLLECTION_PAIDOFF = PAIDOFF"
   ],
   "metadata": {
    "collapsed": false
   }
  },
  {
   "cell_type": "code",
   "execution_count": 28,
   "outputs": [
    {
     "data": {
      "text/plain": "{'COLLECTION', 'PAIDOFF'}"
     },
     "execution_count": 28,
     "metadata": {},
     "output_type": "execute_result"
    }
   ],
   "source": [
    "df_collection_paidoff = df.copy()\n",
    "df_collection_paidoff['loan_status'] = df_collection_paidoff['loan_status'].replace('COLLECTION_PAIDOFF', 'PAIDOFF')\n",
    "\n",
    "set(df_collection_paidoff['loan_status'])"
   ],
   "metadata": {
    "collapsed": false,
    "pycharm": {
     "name": "#%%\n"
    }
   }
  },
  {
   "cell_type": "markdown",
   "source": [
    "#### COLLECTION_PAIDOFF != PAIDOFF"
   ],
   "metadata": {
    "collapsed": false
   }
  },
  {
   "cell_type": "code",
   "execution_count": 29,
   "outputs": [
    {
     "data": {
      "text/plain": "{'COLLECTION', 'PAIDOFF'}"
     },
     "execution_count": 29,
     "metadata": {},
     "output_type": "execute_result"
    }
   ],
   "source": [
    "df_collection_not_paidoff = df.copy()\n",
    "df_collection_not_paidoff['loan_status'] = df_collection_not_paidoff['loan_status'].replace('COLLECTION_PAIDOFF', 'COLLECTION')\n",
    "\n",
    "set(df_collection_not_paidoff['loan_status'])"
   ],
   "metadata": {
    "collapsed": false,
    "pycharm": {
     "name": "#%%\n"
    }
   }
  },
  {
   "cell_type": "markdown",
   "source": [
    "Even though doing this, the gap between the PAIDOFF and NOT PAIDOFF customers is growing bigger and bigger for the first experiment, the second one tends to balance the distribution."
   ],
   "metadata": {
    "collapsed": false
   }
  },
  {
   "cell_type": "markdown",
   "source": [
    "#### COLLECTION_PAIDOFF = PAIDOFF"
   ],
   "metadata": {
    "collapsed": false
   }
  },
  {
   "cell_type": "code",
   "execution_count": 30,
   "outputs": [
    {
     "data": {
      "text/plain": "Text(0.5, 1.0, 'Distribution of loan status')"
     },
     "execution_count": 30,
     "metadata": {},
     "output_type": "execute_result"
    },
    {
     "data": {
      "text/plain": "<Figure size 640x480 with 1 Axes>",
      "image/png": "[encoded data removed]"
     },
     "metadata": {},
     "output_type": "display_data"
    }
   ],
   "source": [
    "df_collection_paidoff['loan_status'].value_counts().plot(kind='bar')\n",
    "plt.title(\"Distribution of loan status\")"
   ],
   "metadata": {
    "collapsed": false,
    "pycharm": {
     "name": "#%%\n"
    }
   }
  },
  {
   "cell_type": "markdown",
   "source": [
    "#### COLLECTION_PAIDOFF != PAIDOFF"
   ],
   "metadata": {
    "collapsed": false
   }
  },
  {
   "cell_type": "code",
   "execution_count": 31,
   "outputs": [
    {
     "data": {
      "text/plain": "Text(0.5, 1.0, 'Distribution of loan status')"
     },
     "execution_count": 31,
     "metadata": {},
     "output_type": "execute_result"
    },
    {
     "data": {
      "text/plain": "<Figure size 640x480 with 1 Axes>",
      "image/png": "[encoded data removed]"
     },
     "metadata": {},
     "output_type": "display_data"
    }
   ],
   "source": [
    "df_collection_not_paidoff['loan_status'].value_counts().plot(kind='bar')\n",
    "plt.title(\"Distribution of loan status\")"
   ],
   "metadata": {
    "collapsed": false,
    "pycharm": {
     "name": "#%%\n"
    }
   }
  },
  {
   "cell_type": "markdown",
   "source": [
    "But we will stick to the plan, for now.\n",
    "We will get rid of the unuseful features now."
   ],
   "metadata": {
    "collapsed": false
   }
  },
  {
   "cell_type": "markdown",
   "source": [
    "Useless features for analysis (but useful for EDA/decision taking):\n",
    "- Dates\n",
    "- Features with many null values\n",
    "- ID"
   ],
   "metadata": {
    "collapsed": false
   }
  },
  {
   "cell_type": "code",
   "execution_count": 32,
   "outputs": [],
   "source": [
    "df_collection_paidoff = df_collection_paidoff.drop(columns=[ 'Loan_ID','effective_date', 'due_date', 'past_due_days', 'paid_off_time'])\n",
    "df_collection_not_paidoff = df_collection_not_paidoff.drop(columns=[ 'Loan_ID','effective_date', 'due_date', 'past_due_days', 'paid_off_time'])"
   ],
   "metadata": {
    "collapsed": false,
    "pycharm": {
     "name": "#%%\n"
    }
   }
  },
  {
   "cell_type": "markdown",
   "source": [
    "Print one of the DataFrames in order to see how it looks now."
   ],
   "metadata": {
    "collapsed": false
   }
  },
  {
   "cell_type": "code",
   "execution_count": 370,
   "outputs": [
    {
     "data": {
      "text/plain": "    loan_status  Principal  terms  age             education  Gender\n0       PAIDOFF       1000     30   45  High School or Below    male\n1       PAIDOFF       1000     30   50              Bechalor  female\n2       PAIDOFF       1000     30   33              Bechalor  female\n3       PAIDOFF       1000     15   27               college    male\n4       PAIDOFF       1000     30   28               college  female\n..          ...        ...    ...  ...                   ...     ...\n495     PAIDOFF       1000     30   28  High School or Below    male\n496     PAIDOFF       1000     15   26  High School or Below    male\n497     PAIDOFF        800     15   30               college    male\n498     PAIDOFF       1000     30   38               college  female\n499     PAIDOFF       1000     30   28  High School or Below    male\n\n[500 rows x 6 columns]",
      "text/html": "<div>\n<style scoped>\n    .dataframe tbody tr th:only-of-type {\n        vertical-align: middle;\n    }\n\n    .dataframe tbody tr th {\n        vertical-align: top;\n    }\n\n    .dataframe thead th {\n        text-align: right;\n    }\n</style>\n<table border=\"1\" class=\"dataframe\">\n  <thead>\n    <tr style=\"text-align: right;\">\n      <th></th>\n      <th>loan_status</th>\n      <th>Principal</th>\n      <th>terms</th>\n      <th>age</th>\n      <th>education</th>\n      <th>Gender</th>\n    </tr>\n  </thead>\n  <tbody>\n    <tr>\n      <th>0</th>\n      <td>PAIDOFF</td>\n      <td>1000</td>\n      <td>30</td>\n      <td>45</td>\n      <td>High School or Below</td>\n      <td>male</td>\n    </tr>\n    <tr>\n      <th>1</th>\n      <td>PAIDOFF</td>\n      <td>1000</td>\n      <td>30</td>\n      <td>50</td>\n      <td>Bechalor</td>\n      <td>female</td>\n    </tr>\n    <tr>\n      <th>2</th>\n      <td>PAIDOFF</td>\n      <td>1000</td>\n      <td>30</td>\n      <td>33</td>\n      <td>Bechalor</td>\n      <td>female</td>\n    </tr>\n    <tr>\n      <th>3</th>\n      <td>PAIDOFF</td>\n      <td>1000</td>\n      <td>15</td>\n      <td>27</td>\n      <td>college</td>\n      <td>male</td>\n    </tr>\n    <tr>\n      <th>4</th>\n      <td>PAIDOFF</td>\n      <td>1000</td>\n      <td>30</td>\n      <td>28</td>\n      <td>college</td>\n      <td>female</td>\n    </tr>\n    <tr>\n      <th>...</th>\n      <td>...</td>\n      <td>...</td>\n      <td>...</td>\n      <td>...</td>\n      <td>...</td>\n      <td>...</td>\n    </tr>\n    <tr>\n      <th>495</th>\n      <td>PAIDOFF</td>\n      <td>1000</td>\n      <td>30</td>\n      <td>28</td>\n      <td>High School or Below</td>\n      <td>male</td>\n    </tr>\n    <tr>\n      <th>496</th>\n      <td>PAIDOFF</td>\n      <td>1000</td>\n      <td>15</td>\n      <td>26</td>\n      <td>High School or Below</td>\n      <td>male</td>\n    </tr>\n    <tr>\n      <th>497</th>\n      <td>PAIDOFF</td>\n      <td>800</td>\n      <td>15</td>\n      <td>30</td>\n      <td>college</td>\n      <td>male</td>\n    </tr>\n    <tr>\n      <th>498</th>\n      <td>PAIDOFF</td>\n      <td>1000</td>\n      <td>30</td>\n      <td>38</td>\n      <td>college</td>\n      <td>female</td>\n    </tr>\n    <tr>\n      <th>499</th>\n      <td>PAIDOFF</td>\n      <td>1000</td>\n      <td>30</td>\n      <td>28</td>\n      <td>High School or Below</td>\n      <td>male</td>\n    </tr>\n  </tbody>\n</table>\n<p>500 rows × 6 columns</p>\n</div>"
     },
     "execution_count": 370,
     "metadata": {},
     "output_type": "execute_result"
    }
   ],
   "source": [
    "df_collection_paidoff"
   ],
   "metadata": {
    "collapsed": false,
    "pycharm": {
     "name": "#%%\n"
    }
   }
  },
  {
   "cell_type": "markdown",
   "source": [
    "Now looks better"
   ],
   "metadata": {
    "collapsed": false
   }
  },
  {
   "cell_type": "markdown",
   "source": [
    "Now let's try to encode the categorical and nominal features.\n",
    "\n",
    "Categorical features:\n",
    "- education\n",
    "\n",
    "Nominal feature:\n",
    "- Gender\n",
    "- loan_status"
   ],
   "metadata": {
    "collapsed": false
   }
  },
  {
   "cell_type": "markdown",
   "source": [
    "Now we are going to encode the Nominal features using One Hot Encoder and simple binary encoding for each case."
   ],
   "metadata": {
    "collapsed": false
   }
  },
  {
   "cell_type": "code",
   "execution_count": 33,
   "outputs": [
    {
     "data": {
      "text/plain": "     loan_status  Principal  terms  age             education  Gender\n0              1       1000     30   45  High School or Below     0.0\n1              1       1000     30   50              Bechalor     1.0\n2              1       1000     30   33              Bechalor     1.0\n3              1       1000     15   27               college     0.0\n4              1       1000     30   28               college     1.0\n..           ...        ...    ...  ...                   ...     ...\n495            1       1000     30   28  High School or Below     0.0\n496            1       1000     15   26  High School or Below     0.0\n497            1        800     15   30               college     0.0\n498            1       1000     30   38               college     1.0\n499            1       1000     30   28  High School or Below     0.0\n\n[500 rows x 6 columns]",
      "text/html": "<div>\n<style scoped>\n    .dataframe tbody tr th:only-of-type {\n        vertical-align: middle;\n    }\n\n    .dataframe tbody tr th {\n        vertical-align: top;\n    }\n\n    .dataframe thead th {\n        text-align: right;\n    }\n</style>\n<table border=\"1\" class=\"dataframe\">\n  <thead>\n    <tr style=\"text-align: right;\">\n      <th></th>\n      <th>loan_status</th>\n      <th>Principal</th>\n      <th>terms</th>\n      <th>age</th>\n      <th>education</th>\n      <th>Gender</th>\n    </tr>\n  </thead>\n  <tbody>\n    <tr>\n      <th>0</th>\n      <td>1</td>\n      <td>1000</td>\n      <td>30</td>\n      <td>45</td>\n      <td>High School or Below</td>\n      <td>0.0</td>\n    </tr>\n    <tr>\n      <th>1</th>\n      <td>1</td>\n      <td>1000</td>\n      <td>30</td>\n      <td>50</td>\n      <td>Bechalor</td>\n      <td>1.0</td>\n    </tr>\n    <tr>\n      <th>2</th>\n      <td>1</td>\n      <td>1000</td>\n      <td>30</td>\n      <td>33</td>\n      <td>Bechalor</td>\n      <td>1.0</td>\n    </tr>\n    <tr>\n      <th>3</th>\n      <td>1</td>\n      <td>1000</td>\n      <td>15</td>\n      <td>27</td>\n      <td>college</td>\n      <td>0.0</td>\n    </tr>\n    <tr>\n      <th>4</th>\n      <td>1</td>\n      <td>1000</td>\n      <td>30</td>\n      <td>28</td>\n      <td>college</td>\n      <td>1.0</td>\n    </tr>\n    <tr>\n      <th>...</th>\n      <td>...</td>\n      <td>...</td>\n      <td>...</td>\n      <td>...</td>\n      <td>...</td>\n      <td>...</td>\n    </tr>\n    <tr>\n      <th>495</th>\n      <td>1</td>\n      <td>1000</td>\n      <td>30</td>\n      <td>28</td>\n      <td>High School or Below</td>\n      <td>0.0</td>\n    </tr>\n    <tr>\n      <th>496</th>\n      <td>1</td>\n      <td>1000</td>\n      <td>15</td>\n      <td>26</td>\n      <td>High School or Below</td>\n      <td>0.0</td>\n    </tr>\n    <tr>\n      <th>497</th>\n      <td>1</td>\n      <td>800</td>\n      <td>15</td>\n      <td>30</td>\n      <td>college</td>\n      <td>0.0</td>\n    </tr>\n    <tr>\n      <th>498</th>\n      <td>1</td>\n      <td>1000</td>\n      <td>30</td>\n      <td>38</td>\n      <td>college</td>\n      <td>1.0</td>\n    </tr>\n    <tr>\n      <th>499</th>\n      <td>1</td>\n      <td>1000</td>\n      <td>30</td>\n      <td>28</td>\n      <td>High School or Below</td>\n      <td>0.0</td>\n    </tr>\n  </tbody>\n</table>\n<p>500 rows × 6 columns</p>\n</div>"
     },
     "execution_count": 33,
     "metadata": {},
     "output_type": "execute_result"
    }
   ],
   "source": [
    "# Gender One Hot Encoding\n",
    "oe_style = OneHotEncoder()\n",
    "df_collection_paidoff['Gender'] = oe_style.fit_transform(df_collection_paidoff[[\"Gender\"]]).toarray()\n",
    "\n",
    "# loan status Encoding\n",
    "oe_style_3 = {\"PAIDOFF\": 1, \"COLLECTION\": 0}\n",
    "df_collection_paidoff['loan_status'] = df_collection_paidoff[\"loan_status\"].replace(oe_style_3)\n",
    "df_collection_paidoff"
   ],
   "metadata": {
    "collapsed": false,
    "pycharm": {
     "name": "#%%\n"
    }
   }
  },
  {
   "cell_type": "code",
   "execution_count": 34,
   "outputs": [
    {
     "data": {
      "text/plain": "     loan_status  Principal  terms  age             education  Gender\n0              1       1000     30   45  High School or Below     0.0\n1              1       1000     30   50              Bechalor     1.0\n2              1       1000     30   33              Bechalor     1.0\n3              1       1000     15   27               college     0.0\n4              1       1000     30   28               college     1.0\n..           ...        ...    ...  ...                   ...     ...\n495            0       1000     30   28  High School or Below     0.0\n496            0       1000     15   26  High School or Below     0.0\n497            0        800     15   30               college     0.0\n498            0       1000     30   38               college     1.0\n499            0       1000     30   28  High School or Below     0.0\n\n[500 rows x 6 columns]",
      "text/html": "<div>\n<style scoped>\n    .dataframe tbody tr th:only-of-type {\n        vertical-align: middle;\n    }\n\n    .dataframe tbody tr th {\n        vertical-align: top;\n    }\n\n    .dataframe thead th {\n        text-align: right;\n    }\n</style>\n<table border=\"1\" class=\"dataframe\">\n  <thead>\n    <tr style=\"text-align: right;\">\n      <th></th>\n      <th>loan_status</th>\n      <th>Principal</th>\n      <th>terms</th>\n      <th>age</th>\n      <th>education</th>\n      <th>Gender</th>\n    </tr>\n  </thead>\n  <tbody>\n    <tr>\n      <th>0</th>\n      <td>1</td>\n      <td>1000</td>\n      <td>30</td>\n      <td>45</td>\n      <td>High School or Below</td>\n      <td>0.0</td>\n    </tr>\n    <tr>\n      <th>1</th>\n      <td>1</td>\n      <td>1000</td>\n      <td>30</td>\n      <td>50</td>\n      <td>Bechalor</td>\n      <td>1.0</td>\n    </tr>\n    <tr>\n      <th>2</th>\n      <td>1</td>\n      <td>1000</td>\n      <td>30</td>\n      <td>33</td>\n      <td>Bechalor</td>\n      <td>1.0</td>\n    </tr>\n    <tr>\n      <th>3</th>\n      <td>1</td>\n      <td>1000</td>\n      <td>15</td>\n      <td>27</td>\n      <td>college</td>\n      <td>0.0</td>\n    </tr>\n    <tr>\n      <th>4</th>\n      <td>1</td>\n      <td>1000</td>\n      <td>30</td>\n      <td>28</td>\n      <td>college</td>\n      <td>1.0</td>\n    </tr>\n    <tr>\n      <th>...</th>\n      <td>...</td>\n      <td>...</td>\n      <td>...</td>\n      <td>...</td>\n      <td>...</td>\n      <td>...</td>\n    </tr>\n    <tr>\n      <th>495</th>\n      <td>0</td>\n      <td>1000</td>\n      <td>30</td>\n      <td>28</td>\n      <td>High School or Below</td>\n      <td>0.0</td>\n    </tr>\n    <tr>\n      <th>496</th>\n      <td>0</td>\n      <td>1000</td>\n      <td>15</td>\n      <td>26</td>\n      <td>High School or Below</td>\n      <td>0.0</td>\n    </tr>\n    <tr>\n      <th>497</th>\n      <td>0</td>\n      <td>800</td>\n      <td>15</td>\n      <td>30</td>\n      <td>college</td>\n      <td>0.0</td>\n    </tr>\n    <tr>\n      <th>498</th>\n      <td>0</td>\n      <td>1000</td>\n      <td>30</td>\n      <td>38</td>\n      <td>college</td>\n      <td>1.0</td>\n    </tr>\n    <tr>\n      <th>499</th>\n      <td>0</td>\n      <td>1000</td>\n      <td>30</td>\n      <td>28</td>\n      <td>High School or Below</td>\n      <td>0.0</td>\n    </tr>\n  </tbody>\n</table>\n<p>500 rows × 6 columns</p>\n</div>"
     },
     "execution_count": 34,
     "metadata": {},
     "output_type": "execute_result"
    }
   ],
   "source": [
    "# Gender One Hot Encoding\n",
    "oe_style = OneHotEncoder()\n",
    "df_collection_not_paidoff['Gender'] = oe_style.fit_transform(df_collection_not_paidoff[[\"Gender\"]]).toarray()\n",
    "\n",
    "# loan status Encoding\n",
    "oe_style_3 = {\"PAIDOFF\": 1, \"COLLECTION\": 0}\n",
    "df_collection_not_paidoff['loan_status'] = df_collection_not_paidoff[\"loan_status\"].replace(oe_style_3)\n",
    "df_collection_not_paidoff"
   ],
   "metadata": {
    "collapsed": false,
    "pycharm": {
     "name": "#%%\n"
    }
   }
  },
  {
   "cell_type": "markdown",
   "source": [
    "And now we encode the categorical one using a label encoding for each case"
   ],
   "metadata": {
    "collapsed": false
   }
  },
  {
   "cell_type": "code",
   "execution_count": 36,
   "outputs": [
    {
     "data": {
      "text/plain": "     loan_status  Principal  terms  age  education  Gender\n0              1       1000     30   45          1     0.0\n1              1       1000     30   50          3     1.0\n2              1       1000     30   33          3     1.0\n3              1       1000     15   27          2     0.0\n4              1       1000     30   28          2     1.0\n..           ...        ...    ...  ...        ...     ...\n495            1       1000     30   28          1     0.0\n496            1       1000     15   26          1     0.0\n497            1        800     15   30          2     0.0\n498            1       1000     30   38          2     1.0\n499            1       1000     30   28          1     0.0\n\n[500 rows x 6 columns]",
      "text/html": "<div>\n<style scoped>\n    .dataframe tbody tr th:only-of-type {\n        vertical-align: middle;\n    }\n\n    .dataframe tbody tr th {\n        vertical-align: top;\n    }\n\n    .dataframe thead th {\n        text-align: right;\n    }\n</style>\n<table border=\"1\" class=\"dataframe\">\n  <thead>\n    <tr style=\"text-align: right;\">\n      <th></th>\n      <th>loan_status</th>\n      <th>Principal</th>\n      <th>terms</th>\n      <th>age</th>\n      <th>education</th>\n      <th>Gender</th>\n    </tr>\n  </thead>\n  <tbody>\n    <tr>\n      <th>0</th>\n      <td>1</td>\n      <td>1000</td>\n      <td>30</td>\n      <td>45</td>\n      <td>1</td>\n      <td>0.0</td>\n    </tr>\n    <tr>\n      <th>1</th>\n      <td>1</td>\n      <td>1000</td>\n      <td>30</td>\n      <td>50</td>\n      <td>3</td>\n      <td>1.0</td>\n    </tr>\n    <tr>\n      <th>2</th>\n      <td>1</td>\n      <td>1000</td>\n      <td>30</td>\n      <td>33</td>\n      <td>3</td>\n      <td>1.0</td>\n    </tr>\n    <tr>\n      <th>3</th>\n      <td>1</td>\n      <td>1000</td>\n      <td>15</td>\n      <td>27</td>\n      <td>2</td>\n      <td>0.0</td>\n    </tr>\n    <tr>\n      <th>4</th>\n      <td>1</td>\n      <td>1000</td>\n      <td>30</td>\n      <td>28</td>\n      <td>2</td>\n      <td>1.0</td>\n    </tr>\n    <tr>\n      <th>...</th>\n      <td>...</td>\n      <td>...</td>\n      <td>...</td>\n      <td>...</td>\n      <td>...</td>\n      <td>...</td>\n    </tr>\n    <tr>\n      <th>495</th>\n      <td>1</td>\n      <td>1000</td>\n      <td>30</td>\n      <td>28</td>\n      <td>1</td>\n      <td>0.0</td>\n    </tr>\n    <tr>\n      <th>496</th>\n      <td>1</td>\n      <td>1000</td>\n      <td>15</td>\n      <td>26</td>\n      <td>1</td>\n      <td>0.0</td>\n    </tr>\n    <tr>\n      <th>497</th>\n      <td>1</td>\n      <td>800</td>\n      <td>15</td>\n      <td>30</td>\n      <td>2</td>\n      <td>0.0</td>\n    </tr>\n    <tr>\n      <th>498</th>\n      <td>1</td>\n      <td>1000</td>\n      <td>30</td>\n      <td>38</td>\n      <td>2</td>\n      <td>1.0</td>\n    </tr>\n    <tr>\n      <th>499</th>\n      <td>1</td>\n      <td>1000</td>\n      <td>30</td>\n      <td>28</td>\n      <td>1</td>\n      <td>0.0</td>\n    </tr>\n  </tbody>\n</table>\n<p>500 rows × 6 columns</p>\n</div>"
     },
     "execution_count": 36,
     "metadata": {},
     "output_type": "execute_result"
    }
   ],
   "source": [
    "# education Encoding\n",
    "oe_style_3 = {\"High School or Below\": 1, \"college\": 2, \"Bechalor\": 3, \"Master or Above\": 4}\n",
    "df_collection_paidoff['education'] = df_collection_paidoff[\"education\"].replace(oe_style_3)\n",
    "df_collection_paidoff"
   ],
   "metadata": {
    "collapsed": false,
    "pycharm": {
     "name": "#%%\n"
    }
   }
  },
  {
   "cell_type": "code",
   "execution_count": 38,
   "outputs": [
    {
     "data": {
      "text/plain": "     loan_status  Principal  terms  age  education  Gender\n0              1       1000     30   45          1     0.0\n1              1       1000     30   50          3     1.0\n2              1       1000     30   33          3     1.0\n3              1       1000     15   27          2     0.0\n4              1       1000     30   28          2     1.0\n..           ...        ...    ...  ...        ...     ...\n495            0       1000     30   28          1     0.0\n496            0       1000     15   26          1     0.0\n497            0        800     15   30          2     0.0\n498            0       1000     30   38          2     1.0\n499            0       1000     30   28          1     0.0\n\n[500 rows x 6 columns]",
      "text/html": "<div>\n<style scoped>\n    .dataframe tbody tr th:only-of-type {\n        vertical-align: middle;\n    }\n\n    .dataframe tbody tr th {\n        vertical-align: top;\n    }\n\n    .dataframe thead th {\n        text-align: right;\n    }\n</style>\n<table border=\"1\" class=\"dataframe\">\n  <thead>\n    <tr style=\"text-align: right;\">\n      <th></th>\n      <th>loan_status</th>\n      <th>Principal</th>\n      <th>terms</th>\n      <th>age</th>\n      <th>education</th>\n      <th>Gender</th>\n    </tr>\n  </thead>\n  <tbody>\n    <tr>\n      <th>0</th>\n      <td>1</td>\n      <td>1000</td>\n      <td>30</td>\n      <td>45</td>\n      <td>1</td>\n      <td>0.0</td>\n    </tr>\n    <tr>\n      <th>1</th>\n      <td>1</td>\n      <td>1000</td>\n      <td>30</td>\n      <td>50</td>\n      <td>3</td>\n      <td>1.0</td>\n    </tr>\n    <tr>\n      <th>2</th>\n      <td>1</td>\n      <td>1000</td>\n      <td>30</td>\n      <td>33</td>\n      <td>3</td>\n      <td>1.0</td>\n    </tr>\n    <tr>\n      <th>3</th>\n      <td>1</td>\n      <td>1000</td>\n      <td>15</td>\n      <td>27</td>\n      <td>2</td>\n      <td>0.0</td>\n    </tr>\n    <tr>\n      <th>4</th>\n      <td>1</td>\n      <td>1000</td>\n      <td>30</td>\n      <td>28</td>\n      <td>2</td>\n      <td>1.0</td>\n    </tr>\n    <tr>\n      <th>...</th>\n      <td>...</td>\n      <td>...</td>\n      <td>...</td>\n      <td>...</td>\n      <td>...</td>\n      <td>...</td>\n    </tr>\n    <tr>\n      <th>495</th>\n      <td>0</td>\n      <td>1000</td>\n      <td>30</td>\n      <td>28</td>\n      <td>1</td>\n      <td>0.0</td>\n    </tr>\n    <tr>\n      <th>496</th>\n      <td>0</td>\n      <td>1000</td>\n      <td>15</td>\n      <td>26</td>\n      <td>1</td>\n      <td>0.0</td>\n    </tr>\n    <tr>\n      <th>497</th>\n      <td>0</td>\n      <td>800</td>\n      <td>15</td>\n      <td>30</td>\n      <td>2</td>\n      <td>0.0</td>\n    </tr>\n    <tr>\n      <th>498</th>\n      <td>0</td>\n      <td>1000</td>\n      <td>30</td>\n      <td>38</td>\n      <td>2</td>\n      <td>1.0</td>\n    </tr>\n    <tr>\n      <th>499</th>\n      <td>0</td>\n      <td>1000</td>\n      <td>30</td>\n      <td>28</td>\n      <td>1</td>\n      <td>0.0</td>\n    </tr>\n  </tbody>\n</table>\n<p>500 rows × 6 columns</p>\n</div>"
     },
     "execution_count": 38,
     "metadata": {},
     "output_type": "execute_result"
    }
   ],
   "source": [
    "# education Encoding\n",
    "oe_style_3 = {\"High School or Below\": 1, \"college\": 2, \"Bechalor\": 3, \"Master or Above\": 4}\n",
    "df_collection_not_paidoff['education'] = df_collection_not_paidoff[\"education\"].replace(oe_style_3)\n",
    "df_collection_not_paidoff"
   ],
   "metadata": {
    "collapsed": false,
    "pycharm": {
     "name": "#%%\n"
    }
   }
  },
  {
   "cell_type": "markdown",
   "source": [
    "Now we have to scale the data."
   ],
   "metadata": {
    "collapsed": false
   }
  },
  {
   "cell_type": "code",
   "execution_count": 373,
   "outputs": [
    {
     "data": {
      "text/plain": "     loan_status  Principal     terms       age  education  Gender\n0              1   1.000000  1.000000  0.818182          1     0.0\n1              1   1.000000  1.000000  0.969697          3     1.0\n2              1   1.000000  1.000000  0.454545          3     1.0\n3              1   1.000000  0.347826  0.272727          2     0.0\n4              1   1.000000  1.000000  0.303030          2     1.0\n..           ...        ...       ...       ...        ...     ...\n495            1   1.000000  1.000000  0.303030          1     0.0\n496            1   1.000000  0.347826  0.242424          1     0.0\n497            1   0.714286  0.347826  0.363636          2     0.0\n498            1   1.000000  1.000000  0.606061          2     1.0\n499            1   1.000000  1.000000  0.303030          1     0.0\n\n[500 rows x 6 columns]",
      "text/html": "<div>\n<style scoped>\n    .dataframe tbody tr th:only-of-type {\n        vertical-align: middle;\n    }\n\n    .dataframe tbody tr th {\n        vertical-align: top;\n    }\n\n    .dataframe thead th {\n        text-align: right;\n    }\n</style>\n<table border=\"1\" class=\"dataframe\">\n  <thead>\n    <tr style=\"text-align: right;\">\n      <th></th>\n      <th>loan_status</th>\n      <th>Principal</th>\n      <th>terms</th>\n      <th>age</th>\n      <th>education</th>\n      <th>Gender</th>\n    </tr>\n  </thead>\n  <tbody>\n    <tr>\n      <th>0</th>\n      <td>1</td>\n      <td>1.000000</td>\n      <td>1.000000</td>\n      <td>0.818182</td>\n      <td>1</td>\n      <td>0.0</td>\n    </tr>\n    <tr>\n      <th>1</th>\n      <td>1</td>\n      <td>1.000000</td>\n      <td>1.000000</td>\n      <td>0.969697</td>\n      <td>3</td>\n      <td>1.0</td>\n    </tr>\n    <tr>\n      <th>2</th>\n      <td>1</td>\n      <td>1.000000</td>\n      <td>1.000000</td>\n      <td>0.454545</td>\n      <td>3</td>\n      <td>1.0</td>\n    </tr>\n    <tr>\n      <th>3</th>\n      <td>1</td>\n      <td>1.000000</td>\n      <td>0.347826</td>\n      <td>0.272727</td>\n      <td>2</td>\n      <td>0.0</td>\n    </tr>\n    <tr>\n      <th>4</th>\n      <td>1</td>\n      <td>1.000000</td>\n      <td>1.000000</td>\n      <td>0.303030</td>\n      <td>2</td>\n      <td>1.0</td>\n    </tr>\n    <tr>\n      <th>...</th>\n      <td>...</td>\n      <td>...</td>\n      <td>...</td>\n      <td>...</td>\n      <td>...</td>\n      <td>...</td>\n    </tr>\n    <tr>\n      <th>495</th>\n      <td>1</td>\n      <td>1.000000</td>\n      <td>1.000000</td>\n      <td>0.303030</td>\n      <td>1</td>\n      <td>0.0</td>\n    </tr>\n    <tr>\n      <th>496</th>\n      <td>1</td>\n      <td>1.000000</td>\n      <td>0.347826</td>\n      <td>0.242424</td>\n      <td>1</td>\n      <td>0.0</td>\n    </tr>\n    <tr>\n      <th>497</th>\n      <td>1</td>\n      <td>0.714286</td>\n      <td>0.347826</td>\n      <td>0.363636</td>\n      <td>2</td>\n      <td>0.0</td>\n    </tr>\n    <tr>\n      <th>498</th>\n      <td>1</td>\n      <td>1.000000</td>\n      <td>1.000000</td>\n      <td>0.606061</td>\n      <td>2</td>\n      <td>1.0</td>\n    </tr>\n    <tr>\n      <th>499</th>\n      <td>1</td>\n      <td>1.000000</td>\n      <td>1.000000</td>\n      <td>0.303030</td>\n      <td>1</td>\n      <td>0.0</td>\n    </tr>\n  </tbody>\n</table>\n<p>500 rows × 6 columns</p>\n</div>"
     },
     "execution_count": 373,
     "metadata": {},
     "output_type": "execute_result"
    }
   ],
   "source": [
    "scaler = MinMaxScaler()\n",
    "\n",
    "df_collection_paidoff.loc[:,['Principal', 'terms','age']] = scaler.fit_transform(df_collection_paidoff[['Principal', 'terms', 'age']])\n",
    "df_collection_paidoff"
   ],
   "metadata": {
    "collapsed": false,
    "pycharm": {
     "name": "#%%\n"
    }
   }
  },
  {
   "cell_type": "code",
   "execution_count": 40,
   "outputs": [
    {
     "data": {
      "text/plain": "     loan_status  Principal     terms       age  education  Gender\n0              1   1.000000  1.000000  0.818182          1     0.0\n1              1   1.000000  1.000000  0.969697          3     1.0\n2              1   1.000000  1.000000  0.454545          3     1.0\n3              1   1.000000  0.347826  0.272727          2     0.0\n4              1   1.000000  1.000000  0.303030          2     1.0\n..           ...        ...       ...       ...        ...     ...\n495            0   1.000000  1.000000  0.303030          1     0.0\n496            0   1.000000  0.347826  0.242424          1     0.0\n497            0   0.714286  0.347826  0.363636          2     0.0\n498            0   1.000000  1.000000  0.606061          2     1.0\n499            0   1.000000  1.000000  0.303030          1     0.0\n\n[500 rows x 6 columns]",
      "text/html": "<div>\n<style scoped>\n    .dataframe tbody tr th:only-of-type {\n        vertical-align: middle;\n    }\n\n    .dataframe tbody tr th {\n        vertical-align: top;\n    }\n\n    .dataframe thead th {\n        text-align: right;\n    }\n</style>\n<table border=\"1\" class=\"dataframe\">\n  <thead>\n    <tr style=\"text-align: right;\">\n      <th></th>\n      <th>loan_status</th>\n      <th>Principal</th>\n      <th>terms</th>\n      <th>age</th>\n      <th>education</th>\n      <th>Gender</th>\n    </tr>\n  </thead>\n  <tbody>\n    <tr>\n      <th>0</th>\n      <td>1</td>\n      <td>1.000000</td>\n      <td>1.000000</td>\n      <td>0.818182</td>\n      <td>1</td>\n      <td>0.0</td>\n    </tr>\n    <tr>\n      <th>1</th>\n      <td>1</td>\n      <td>1.000000</td>\n      <td>1.000000</td>\n      <td>0.969697</td>\n      <td>3</td>\n      <td>1.0</td>\n    </tr>\n    <tr>\n      <th>2</th>\n      <td>1</td>\n      <td>1.000000</td>\n      <td>1.000000</td>\n      <td>0.454545</td>\n      <td>3</td>\n      <td>1.0</td>\n    </tr>\n    <tr>\n      <th>3</th>\n      <td>1</td>\n      <td>1.000000</td>\n      <td>0.347826</td>\n      <td>0.272727</td>\n      <td>2</td>\n      <td>0.0</td>\n    </tr>\n    <tr>\n      <th>4</th>\n      <td>1</td>\n      <td>1.000000</td>\n      <td>1.000000</td>\n      <td>0.303030</td>\n      <td>2</td>\n      <td>1.0</td>\n    </tr>\n    <tr>\n      <th>...</th>\n      <td>...</td>\n      <td>...</td>\n      <td>...</td>\n      <td>...</td>\n      <td>...</td>\n      <td>...</td>\n    </tr>\n    <tr>\n      <th>495</th>\n      <td>0</td>\n      <td>1.000000</td>\n      <td>1.000000</td>\n      <td>0.303030</td>\n      <td>1</td>\n      <td>0.0</td>\n    </tr>\n    <tr>\n      <th>496</th>\n      <td>0</td>\n      <td>1.000000</td>\n      <td>0.347826</td>\n      <td>0.242424</td>\n      <td>1</td>\n      <td>0.0</td>\n    </tr>\n    <tr>\n      <th>497</th>\n      <td>0</td>\n      <td>0.714286</td>\n      <td>0.347826</td>\n      <td>0.363636</td>\n      <td>2</td>\n      <td>0.0</td>\n    </tr>\n    <tr>\n      <th>498</th>\n      <td>0</td>\n      <td>1.000000</td>\n      <td>1.000000</td>\n      <td>0.606061</td>\n      <td>2</td>\n      <td>1.0</td>\n    </tr>\n    <tr>\n      <th>499</th>\n      <td>0</td>\n      <td>1.000000</td>\n      <td>1.000000</td>\n      <td>0.303030</td>\n      <td>1</td>\n      <td>0.0</td>\n    </tr>\n  </tbody>\n</table>\n<p>500 rows × 6 columns</p>\n</div>"
     },
     "execution_count": 40,
     "metadata": {},
     "output_type": "execute_result"
    }
   ],
   "source": [
    "scaler = MinMaxScaler()\n",
    "\n",
    "df_collection_not_paidoff.loc[:,['Principal', 'terms','age']] = scaler.fit_transform(df_collection_not_paidoff[['Principal', 'terms', 'age']])\n",
    "df_collection_not_paidoff"
   ],
   "metadata": {
    "collapsed": false,
    "pycharm": {
     "name": "#%%\n"
    }
   }
  },
  {
   "cell_type": "markdown",
   "source": [
    "## Train/Test Splitting\n",
    "\n",
    "We are using the train/split method for each case with train batch size of 30%"
   ],
   "metadata": {
    "collapsed": false
   }
  },
  {
   "cell_type": "code",
   "execution_count": 58,
   "outputs": [],
   "source": [
    "X_train, X_test, y_train, y_test = train_test_split(df_collection_paidoff.loc[:, df_collection_paidoff.columns != \"loan_status\"], df_collection_paidoff[\"loan_status\"], test_size=0.30, random_state=420)\n",
    "\n",
    "X_train2, X_test2, y_train2, y_test2 = train_test_split(df_collection_not_paidoff.loc[:, df_collection_not_paidoff.columns != \"loan_status\"], df_collection_not_paidoff[\"loan_status\"], test_size=0.30, random_state=69)"
   ],
   "metadata": {
    "collapsed": false,
    "pycharm": {
     "name": "#%%\n"
    }
   }
  },
  {
   "cell_type": "markdown",
   "source": [],
   "metadata": {
    "collapsed": false
   }
  },
  {
   "cell_type": "markdown",
   "source": [
    "## Logistic regression"
   ],
   "metadata": {
    "collapsed": false
   }
  },
  {
   "cell_type": "markdown",
   "source": [
    "Let's create a logistic regression using sklearn and see the accuracy on train and test set"
   ],
   "metadata": {
    "collapsed": false
   }
  },
  {
   "cell_type": "markdown",
   "source": [
    "#### COLLECTION_PAIDOFF = PAIDOFF"
   ],
   "metadata": {
    "collapsed": false
   }
  },
  {
   "cell_type": "code",
   "execution_count": 57,
   "outputs": [
    {
     "name": "stdout",
     "output_type": "stream",
     "text": [
      "Train score is: 0.7885714285714286 versus test score which is: 0.8266666666666667\n"
     ]
    }
   ],
   "source": [
    "model_logistic = LogisticRegression(random_state=69).fit(X_train, y_train)\n",
    "predict_logistic=model_logistic.predict(X_test)\n",
    "train_score = model_logistic.score(X_train, y_train)\n",
    "test_score = model_logistic.score(X_test, y_test)\n",
    "\n",
    "print(f\"Train score is: {train_score} versus test score which is: {test_score}\")"
   ],
   "metadata": {
    "collapsed": false,
    "pycharm": {
     "name": "#%%\n"
    }
   }
  },
  {
   "cell_type": "markdown",
   "source": [
    "![Alt text](https://i.kym-cdn.com/entries/icons/original/000/031/260/Screen_Shot_2019-09-24_at_4.22.16_PM.png)"
   ],
   "metadata": {
    "collapsed": false
   }
  },
  {
   "cell_type": "markdown",
   "source": [
    "#### COLLECTION_PAIDOFF != PAIDOFF"
   ],
   "metadata": {
    "collapsed": false
   }
  },
  {
   "cell_type": "code",
   "execution_count": 80,
   "outputs": [
    {
     "name": "stdout",
     "output_type": "stream",
     "text": [
      "Train score is: 0.5828571428571429 versus test score which is: 0.6333333333333333\n"
     ]
    }
   ],
   "source": [
    "model_logistic2 = LogisticRegression(random_state=6969).fit(X_train2, y_train2)\n",
    "predict_logistic2 = model_logistic2.predict(X_test2)\n",
    "train_score2 = model_logistic2.score(X_train2, y_train2)\n",
    "test_score2 = model_logistic2.score(X_test2, y_test2)\n",
    "\n",
    "print(f\"Train score is: {train_score2} versus test score which is: {test_score2}\")"
   ],
   "metadata": {
    "collapsed": false,
    "pycharm": {
     "name": "#%%\n"
    }
   }
  },
  {
   "cell_type": "markdown",
   "source": [],
   "metadata": {
    "collapsed": false
   }
  },
  {
   "cell_type": "markdown",
   "source": [
    "## KNN Algorithm"
   ],
   "metadata": {
    "collapsed": false
   }
  },
  {
   "cell_type": "markdown",
   "source": [
    "We will choose the features for calculating the distance as the following ones:\n",
    "- Principal\n",
    "- Term\n",
    "\n",
    "I don't see the age or other features more relevant than this."
   ],
   "metadata": {
    "collapsed": false
   }
  },
  {
   "cell_type": "markdown",
   "source": [
    "The algorithm works as following:\n",
    "* Creates a list of final predictions for each label\n",
    "* Creates a new column with ground truth in the DataFrame\n",
    "* Iterates over the Principal and terms features on X_test_param in order to find all the distances of that specific point\n",
    "* Iterates over the Principal and terms features on X_train_param in order to compute all the distances\n",
    "* Iterates over the distances computed in order to see which distance is closer and when reached to K distances, we check which major label is present. (take first label in case of equality)\n",
    "* Add the predicted label in the predictions list and return the list"
   ],
   "metadata": {
    "collapsed": false
   }
  },
  {
   "cell_type": "code",
   "execution_count": 46,
   "outputs": [],
   "source": [
    "# calculate Euclidean distance\n",
    "def Distance2Point(point1, point2):\n",
    "    dis = math.sqrt((point1[0] - point2[0])**2 + (point1[1] - point2[1])**2)\n",
    "    return dis"
   ],
   "metadata": {
    "collapsed": false,
    "pycharm": {
     "name": "#%%\n"
    }
   }
  },
  {
   "cell_type": "code",
   "execution_count": 47,
   "outputs": [
    {
     "data": {
      "text/plain": "[1,\n 1,\n 1,\n 1,\n 1,\n 1,\n 1,\n 1,\n 1,\n 1,\n 1,\n 1,\n 1,\n 1,\n 1,\n 1,\n 1,\n 1,\n 1,\n 1,\n 1,\n 1,\n 1,\n 1,\n 1,\n 1,\n 1,\n 1,\n 1,\n 1,\n 1,\n 1,\n 1,\n 1,\n 1,\n 1,\n 1,\n 1,\n 1,\n 1,\n 1,\n 1,\n 1,\n 1,\n 1,\n 1,\n 1,\n 1,\n 1,\n 1,\n 1,\n 1,\n 1,\n 1,\n 1,\n 1,\n 1,\n 1,\n 1,\n 1,\n 1,\n 1,\n 1,\n 1,\n 1,\n 1,\n 1,\n 1,\n 1,\n 1,\n 1,\n 1,\n 1,\n 1,\n 1,\n 1,\n 1,\n 1,\n 1,\n 1,\n 1,\n 1,\n 1,\n 1,\n 1,\n 1,\n 1,\n 1,\n 1,\n 1,\n 1,\n 1,\n 1,\n 1,\n 1,\n 1,\n 1,\n 1,\n 1,\n 1,\n 1,\n 1,\n 1,\n 1,\n 1,\n 1,\n 1,\n 1,\n 1,\n 1,\n 1,\n 1,\n 1,\n 1,\n 1,\n 1,\n 1,\n 1,\n 1,\n 1,\n 1,\n 1,\n 1,\n 1,\n 1,\n 1,\n 1,\n 1,\n 1,\n 1,\n 1,\n 1,\n 1,\n 1,\n 1,\n 1,\n 1,\n 1,\n 1,\n 1,\n 1,\n 1,\n 1,\n 1,\n 1,\n 1,\n 1,\n 1,\n 1,\n 1]"
     },
     "execution_count": 47,
     "metadata": {},
     "output_type": "execute_result"
    }
   ],
   "source": [
    "def KNN_voda(X_train_param, y_train_param, X_test_param, K):\n",
    "    predictions = []\n",
    "    X_train_param['Class'] = y_train_param\n",
    "    for i, m in zip(X_test_param['Principal'], X_test_param['terms']):\n",
    "        counter = {\"PAIDOFF\": 0, \"COLLECTION\": 0}\n",
    "        distance = []\n",
    "        for j, n in zip(X_train_param['Principal'], X_train_param['terms']):\n",
    "            point1 = [i, m]\n",
    "            point2 = [j, n]\n",
    "            distance.append(Distance2Point(point1, point2))\n",
    "        X_train_param['distance'] = distance\n",
    "\n",
    "        computed_distance = X_train_param.sort_values(by=['distance'], ascending=True).copy()\n",
    "        for i in computed_distance['Class']:\n",
    "            total_sum = counter['PAIDOFF'] + counter['COLLECTION']\n",
    "            if total_sum == K:\n",
    "                break\n",
    "            if i == 1:\n",
    "                counter['PAIDOFF'] += 1\n",
    "            elif i == 0:\n",
    "                counter['COLLECTION'] += 1\n",
    "        if counter['PAIDOFF']>=counter['COLLECTION']:\n",
    "            predictions.append(1)\n",
    "        else:\n",
    "            predictions.append(0)\n",
    "\n",
    "    return predictions\n",
    "first_predict = KNN_voda(X_train, y_train, X_test, K=5)\n",
    "first_predict"
   ],
   "metadata": {
    "collapsed": false,
    "pycharm": {
     "name": "#%%\n"
    }
   }
  },
  {
   "cell_type": "code",
   "execution_count": 49,
   "outputs": [
    {
     "data": {
      "text/plain": "[1,\n 1,\n 0,\n 0,\n 0,\n 0,\n 0,\n 0,\n 0,\n 1,\n 1,\n 1,\n 1,\n 1,\n 0,\n 0,\n 1,\n 1,\n 0,\n 0,\n 0,\n 0,\n 0,\n 0,\n 1,\n 1,\n 1,\n 0,\n 0,\n 1,\n 0,\n 0,\n 0,\n 0,\n 1,\n 1,\n 0,\n 1,\n 0,\n 0,\n 0,\n 1,\n 1,\n 1,\n 1,\n 1,\n 1,\n 0,\n 0,\n 0,\n 0,\n 1,\n 0,\n 0,\n 1,\n 0,\n 1,\n 1,\n 1,\n 0,\n 1,\n 0,\n 1,\n 0,\n 1,\n 0,\n 1,\n 0,\n 0,\n 1,\n 1,\n 1,\n 1,\n 0,\n 0,\n 0,\n 0,\n 0,\n 1,\n 1,\n 0,\n 0,\n 1,\n 1,\n 1,\n 1,\n 0,\n 0,\n 0,\n 1,\n 0,\n 1,\n 1,\n 0,\n 0,\n 0,\n 0,\n 1,\n 0,\n 1,\n 0,\n 1,\n 0,\n 0,\n 1,\n 0,\n 0,\n 0,\n 1,\n 0,\n 1,\n 0,\n 0,\n 0,\n 0,\n 0,\n 1,\n 0,\n 0,\n 1,\n 0,\n 1,\n 0,\n 0,\n 1,\n 0,\n 0,\n 1,\n 0,\n 1,\n 0,\n 0,\n 1,\n 0,\n 1,\n 0,\n 1,\n 1,\n 1,\n 1,\n 1,\n 1,\n 0,\n 1,\n 0,\n 1,\n 0,\n 0,\n 0,\n 0]"
     },
     "execution_count": 49,
     "metadata": {},
     "output_type": "execute_result"
    }
   ],
   "source": [
    "second_predict = KNN_voda(X_train2, y_train2, X_test2, K=5)\n",
    "second_predict"
   ],
   "metadata": {
    "collapsed": false,
    "pycharm": {
     "name": "#%%\n"
    }
   }
  },
  {
   "cell_type": "code",
   "execution_count": 385,
   "outputs": [
    {
     "data": {
      "text/plain": "399    0\n1      1\n199    1\n497    1\n383    0\n      ..\n130    1\n275    1\n364    0\n490    1\n329    0\nName: Class, Length: 150, dtype: int64"
     },
     "execution_count": 385,
     "metadata": {},
     "output_type": "execute_result"
    }
   ],
   "source": [
    "y_test"
   ],
   "metadata": {
    "collapsed": false,
    "pycharm": {
     "name": "#%%\n"
    }
   }
  },
  {
   "cell_type": "code",
   "execution_count": 48,
   "outputs": [
    {
     "data": {
      "text/plain": "481    0\n130    1\n173    1\n162    1\n0      1\n      ..\n375    0\n159    1\n204    1\n341    0\n6      1\nName: loan_status, Length: 150, dtype: int64"
     },
     "execution_count": 48,
     "metadata": {},
     "output_type": "execute_result"
    }
   ],
   "source": [
    "y_test2"
   ],
   "metadata": {
    "collapsed": false,
    "pycharm": {
     "name": "#%%\n"
    }
   }
  },
  {
   "cell_type": "markdown",
   "source": [
    "## Checking accuracy for the KNN Algorithm"
   ],
   "metadata": {
    "collapsed": false
   }
  },
  {
   "cell_type": "markdown",
   "source": [
    "#### COLLECTION_PAIDOFF = PAIDOFF"
   ],
   "metadata": {
    "collapsed": false
   }
  },
  {
   "cell_type": "code",
   "execution_count": 62,
   "outputs": [
    {
     "name": "stdout",
     "output_type": "stream",
     "text": [
      "{'FN': 26.0, 'FP': 0.0, 'TN': 0.0, 'TP': 124.0}\n",
      "Accuracy: 0.8266666666666667\n"
     ]
    }
   ],
   "source": [
    "def check_score(predictions, y_test):\n",
    "    confusion_matrix = {'FN': 0.0, 'FP': 0.0, 'TN': 0.0, 'TP': 0.0}\n",
    "    for i, j in zip(predictions, y_test):\n",
    "        if i == 0 and j == 0:\n",
    "            confusion_matrix['TN'] += 1\n",
    "        elif i == 0 and j == 1:\n",
    "            confusion_matrix['FP'] += 1\n",
    "        elif i == 1 and j == 0:\n",
    "            confusion_matrix['FN'] += 1\n",
    "        elif i == 1 and j == 1:\n",
    "            confusion_matrix['TP'] += 1\n",
    "    return confusion_matrix\n",
    "first_result = check_score(first_predict, y_test)\n",
    "print(first_result)\n",
    "print(f\"Accuracy: {(first_result['TP']+first_result['TN'])/(first_result['TP']+first_result['TN']+first_result['FP']+first_result['FN'])}\")"
   ],
   "metadata": {
    "collapsed": false,
    "pycharm": {
     "name": "#%%\n"
    }
   }
  },
  {
   "cell_type": "markdown",
   "source": [
    "#### COLLECTION_PAIDOFF != PAIDOFF"
   ],
   "metadata": {
    "collapsed": false
   }
  },
  {
   "cell_type": "code",
   "execution_count": 61,
   "outputs": [
    {
     "name": "stdout",
     "output_type": "stream",
     "text": [
      "{'FN': 21.0, 'FP': 50.0, 'TN': 34.0, 'TP': 45.0}\n",
      "Accuracy: 0.5266666666666666\n"
     ]
    }
   ],
   "source": [
    "second_result = check_score(second_predict, y_test2)\n",
    "print(second_result)\n",
    "print(f\"Accuracy: {(second_result['TP']+second_result['TN'])/(second_result['TP']+second_result['TN']+second_result['FP']+second_result['FN'])}\")"
   ],
   "metadata": {
    "collapsed": false,
    "pycharm": {
     "name": "#%%\n"
    }
   }
  },
  {
   "cell_type": "markdown",
   "source": [
    "## Decision Tree"
   ],
   "metadata": {
    "collapsed": false
   }
  },
  {
   "cell_type": "code",
   "execution_count": 51,
   "outputs": [],
   "source": [
    "y_train = y_train.rename('Class')\n",
    "\n",
    "y_test = y_test.rename('Class')\n",
    "\n",
    "y_train2 = y_train2.rename('Class')\n",
    "\n",
    "y_test2 = y_test2.rename('Class')"
   ],
   "metadata": {
    "collapsed": false,
    "pycharm": {
     "name": "#%%\n"
    }
   }
  },
  {
   "cell_type": "code",
   "execution_count": 52,
   "outputs": [],
   "source": [
    "X_train = X_train.drop(columns=['distance', 'Class'])\n",
    "\n",
    "X_train2 = X_train2.drop(columns=['distance', 'Class'])"
   ],
   "metadata": {
    "collapsed": false,
    "pycharm": {
     "name": "#%%\n"
    }
   }
  },
  {
   "cell_type": "code",
   "execution_count": 53,
   "outputs": [
    {
     "data": {
      "text/plain": "     Principal  terms  age  education  Gender\n460        800     15   38          3     0.0\n371       1000     30   18          2     0.0\n333       1000     30   30          1     1.0\n80        1000     30   28          1     0.0\n472        800     15   33          2     0.0\n..         ...    ...  ...        ...     ...\n287       1000     30   38          1     1.0\n63        1000     30   45          2     0.0\n390       1000     15   30          2     0.0\n72        1000     30   33          3     1.0\n433       1000     30   29          2     0.0\n\n[350 rows x 5 columns]",
      "text/html": "<div>\n<style scoped>\n    .dataframe tbody tr th:only-of-type {\n        vertical-align: middle;\n    }\n\n    .dataframe tbody tr th {\n        vertical-align: top;\n    }\n\n    .dataframe thead th {\n        text-align: right;\n    }\n</style>\n<table border=\"1\" class=\"dataframe\">\n  <thead>\n    <tr style=\"text-align: right;\">\n      <th></th>\n      <th>Principal</th>\n      <th>terms</th>\n      <th>age</th>\n      <th>education</th>\n      <th>Gender</th>\n    </tr>\n  </thead>\n  <tbody>\n    <tr>\n      <th>460</th>\n      <td>800</td>\n      <td>15</td>\n      <td>38</td>\n      <td>3</td>\n      <td>0.0</td>\n    </tr>\n    <tr>\n      <th>371</th>\n      <td>1000</td>\n      <td>30</td>\n      <td>18</td>\n      <td>2</td>\n      <td>0.0</td>\n    </tr>\n    <tr>\n      <th>333</th>\n      <td>1000</td>\n      <td>30</td>\n      <td>30</td>\n      <td>1</td>\n      <td>1.0</td>\n    </tr>\n    <tr>\n      <th>80</th>\n      <td>1000</td>\n      <td>30</td>\n      <td>28</td>\n      <td>1</td>\n      <td>0.0</td>\n    </tr>\n    <tr>\n      <th>472</th>\n      <td>800</td>\n      <td>15</td>\n      <td>33</td>\n      <td>2</td>\n      <td>0.0</td>\n    </tr>\n    <tr>\n      <th>...</th>\n      <td>...</td>\n      <td>...</td>\n      <td>...</td>\n      <td>...</td>\n      <td>...</td>\n    </tr>\n    <tr>\n      <th>287</th>\n      <td>1000</td>\n      <td>30</td>\n      <td>38</td>\n      <td>1</td>\n      <td>1.0</td>\n    </tr>\n    <tr>\n      <th>63</th>\n      <td>1000</td>\n      <td>30</td>\n      <td>45</td>\n      <td>2</td>\n      <td>0.0</td>\n    </tr>\n    <tr>\n      <th>390</th>\n      <td>1000</td>\n      <td>15</td>\n      <td>30</td>\n      <td>2</td>\n      <td>0.0</td>\n    </tr>\n    <tr>\n      <th>72</th>\n      <td>1000</td>\n      <td>30</td>\n      <td>33</td>\n      <td>3</td>\n      <td>1.0</td>\n    </tr>\n    <tr>\n      <th>433</th>\n      <td>1000</td>\n      <td>30</td>\n      <td>29</td>\n      <td>2</td>\n      <td>0.0</td>\n    </tr>\n  </tbody>\n</table>\n<p>350 rows × 5 columns</p>\n</div>"
     },
     "execution_count": 53,
     "metadata": {},
     "output_type": "execute_result"
    }
   ],
   "source": [
    "X_train"
   ],
   "metadata": {
    "collapsed": false,
    "pycharm": {
     "name": "#%%\n"
    }
   }
  },
  {
   "cell_type": "code",
   "execution_count": 54,
   "outputs": [
    {
     "data": {
      "text/plain": "     Principal  terms  age  education  Gender\n399       1000     30   26          2     0.0\n1         1000     30   50          3     1.0\n199       1000     30   29          2     0.0\n497        800     15   30          2     0.0\n383       1000     30   26          1     0.0\n..         ...    ...  ...        ...     ...\n130       1000     15   26          1     0.0\n275        800     15   44          2     0.0\n364        800     15   22          2     0.0\n490       1000     30   38          1     0.0\n329       1000     30   44          3     0.0\n\n[150 rows x 5 columns]",
      "text/html": "<div>\n<style scoped>\n    .dataframe tbody tr th:only-of-type {\n        vertical-align: middle;\n    }\n\n    .dataframe tbody tr th {\n        vertical-align: top;\n    }\n\n    .dataframe thead th {\n        text-align: right;\n    }\n</style>\n<table border=\"1\" class=\"dataframe\">\n  <thead>\n    <tr style=\"text-align: right;\">\n      <th></th>\n      <th>Principal</th>\n      <th>terms</th>\n      <th>age</th>\n      <th>education</th>\n      <th>Gender</th>\n    </tr>\n  </thead>\n  <tbody>\n    <tr>\n      <th>399</th>\n      <td>1000</td>\n      <td>30</td>\n      <td>26</td>\n      <td>2</td>\n      <td>0.0</td>\n    </tr>\n    <tr>\n      <th>1</th>\n      <td>1000</td>\n      <td>30</td>\n      <td>50</td>\n      <td>3</td>\n      <td>1.0</td>\n    </tr>\n    <tr>\n      <th>199</th>\n      <td>1000</td>\n      <td>30</td>\n      <td>29</td>\n      <td>2</td>\n      <td>0.0</td>\n    </tr>\n    <tr>\n      <th>497</th>\n      <td>800</td>\n      <td>15</td>\n      <td>30</td>\n      <td>2</td>\n      <td>0.0</td>\n    </tr>\n    <tr>\n      <th>383</th>\n      <td>1000</td>\n      <td>30</td>\n      <td>26</td>\n      <td>1</td>\n      <td>0.0</td>\n    </tr>\n    <tr>\n      <th>...</th>\n      <td>...</td>\n      <td>...</td>\n      <td>...</td>\n      <td>...</td>\n      <td>...</td>\n    </tr>\n    <tr>\n      <th>130</th>\n      <td>1000</td>\n      <td>15</td>\n      <td>26</td>\n      <td>1</td>\n      <td>0.0</td>\n    </tr>\n    <tr>\n      <th>275</th>\n      <td>800</td>\n      <td>15</td>\n      <td>44</td>\n      <td>2</td>\n      <td>0.0</td>\n    </tr>\n    <tr>\n      <th>364</th>\n      <td>800</td>\n      <td>15</td>\n      <td>22</td>\n      <td>2</td>\n      <td>0.0</td>\n    </tr>\n    <tr>\n      <th>490</th>\n      <td>1000</td>\n      <td>30</td>\n      <td>38</td>\n      <td>1</td>\n      <td>0.0</td>\n    </tr>\n    <tr>\n      <th>329</th>\n      <td>1000</td>\n      <td>30</td>\n      <td>44</td>\n      <td>3</td>\n      <td>0.0</td>\n    </tr>\n  </tbody>\n</table>\n<p>150 rows × 5 columns</p>\n</div>"
     },
     "execution_count": 54,
     "metadata": {},
     "output_type": "execute_result"
    }
   ],
   "source": [
    "X_test"
   ],
   "metadata": {
    "collapsed": false,
    "pycharm": {
     "name": "#%%\n"
    }
   }
  },
  {
   "cell_type": "markdown",
   "source": [
    "#### COLLECTION_PAIDOFF = PAIDOFF"
   ],
   "metadata": {
    "collapsed": false
   }
  },
  {
   "cell_type": "code",
   "execution_count": 73,
   "outputs": [
    {
     "name": "stdout",
     "output_type": "stream",
     "text": [
      "Accuracy: 0.64\n"
     ]
    }
   ],
   "source": [
    "# Create Decision Tree classifer object\n",
    "clf = DecisionTreeClassifier()\n",
    "\n",
    "\n",
    "\n",
    "# Train Decision Tree Classifer\n",
    "clf = clf.fit(X_train,y_train)\n",
    "\n",
    "#Predict the response for test dataset\n",
    "y_pred_dt = clf.predict(X_test)\n",
    "\n",
    "print(\"Accuracy:\",metrics.accuracy_score(y_test, y_pred_dt))"
   ],
   "metadata": {
    "collapsed": false,
    "pycharm": {
     "name": "#%%\n"
    }
   }
  },
  {
   "cell_type": "markdown",
   "source": [
    "#### COLLECTION_PAIDOFF != PAIDOFF"
   ],
   "metadata": {
    "collapsed": false
   }
  },
  {
   "cell_type": "code",
   "execution_count": 74,
   "outputs": [
    {
     "name": "stdout",
     "output_type": "stream",
     "text": [
      "Accuracy: 0.44\n"
     ]
    }
   ],
   "source": [
    "# Create Decision Tree classifer object\n",
    "clf2 = DecisionTreeClassifier()\n",
    "\n",
    "# Train Decision Tree Classifer\n",
    "clf2 = clf2.fit(X_train2,y_train2)\n",
    "\n",
    "#Predict the response for test dataset\n",
    "y_pred2_dt = clf2.predict(X_test2)\n",
    "\n",
    "print(\"Accuracy:\",metrics.accuracy_score(y_test2, y_pred2_dt))"
   ],
   "metadata": {
    "collapsed": false,
    "pycharm": {
     "name": "#%%\n"
    }
   }
  },
  {
   "cell_type": "markdown",
   "source": [
    "## RESULTS"
   ],
   "metadata": {
    "collapsed": false
   }
  },
  {
   "cell_type": "markdown",
   "source": [
    "The results are quite very very interesting."
   ],
   "metadata": {
    "collapsed": false
   }
  },
  {
   "cell_type": "markdown",
   "source": [
    "#### COLLECTION_PAIDOFF = PAIDOFF"
   ],
   "metadata": {
    "collapsed": false
   }
  },
  {
   "cell_type": "code",
   "execution_count": 64,
   "outputs": [
    {
     "name": "stdout",
     "output_type": "stream",
     "text": [
      "{'FN': 26.0, 'FP': 0.0, 'TN': 0.0, 'TP': 124.0}\n",
      "KNN Accuracy: 0.8266666666666667\n",
      "KNN Precision: 1.0\n",
      "KNN Recall: 0.8266666666666667\n",
      "KNN F1-Score: 0.9051094890510949\n"
     ]
    }
   ],
   "source": [
    "first_result = check_score(first_predict, y_test)\n",
    "print(first_result)\n",
    "print(f\"KNN Accuracy: {(first_result['TP']+first_result['TN'])/(first_result['TP']+first_result['TN']+first_result['FP']+first_result['FN'])}\")\n",
    "print(f\"KNN Precision: {(first_result['TP'])/(first_result['TP']+first_result['FP'])}\")\n",
    "print(f\"KNN Recall: {(first_result['TP'])/(first_result['TP']+first_result['FN'])}\")\n",
    "print(f\"KNN F1-Score: {(first_result['TP'])/(first_result['TP']+(0.5*(first_result['FN']+first_result['FP'])))}\")"
   ],
   "metadata": {
    "collapsed": false,
    "pycharm": {
     "name": "#%%\n"
    }
   }
  },
  {
   "cell_type": "markdown",
   "source": [],
   "metadata": {
    "collapsed": false
   }
  },
  {
   "cell_type": "code",
   "execution_count": 71,
   "outputs": [],
   "source": [
    "accuracy_score = metrics.accuracy_score(y_test, predict_logistic)\n",
    "precision_score = metrics.precision_score(y_test, predict_logistic)\n",
    "recall_score = metrics.recall_score(y_test, predict_logistic)\n",
    "f1_score = metrics.recall_score(y_test, predict_logistic)"
   ],
   "metadata": {
    "collapsed": false,
    "pycharm": {
     "name": "#%%\n"
    }
   }
  },
  {
   "cell_type": "code",
   "execution_count": 72,
   "outputs": [
    {
     "name": "stdout",
     "output_type": "stream",
     "text": [
      "Sklearn Logistic Regression Accuracy: 0.8266666666666667\n",
      "Sklearn Logistic Regression Precision: 0.8266666666666667\n",
      "Sklearn Logistic Regression Recall: 1.0\n",
      "Sklearn Logistic Regression F1-Score: 1.0\n"
     ]
    }
   ],
   "source": [
    "print(f\"Sklearn Logistic Regression Accuracy: {accuracy_score}\")\n",
    "print(f\"Sklearn Logistic Regression Precision: {precision_score}\")\n",
    "print(f\"Sklearn Logistic Regression Recall: {recall_score}\")\n",
    "print(f\"Sklearn Logistic Regression F1-Score: {f1_score}\")"
   ],
   "metadata": {
    "collapsed": false,
    "pycharm": {
     "name": "#%%\n"
    }
   }
  },
  {
   "cell_type": "code",
   "execution_count": 75,
   "outputs": [],
   "source": [
    "accuracy_score_dt = metrics.accuracy_score(y_test, y_pred_dt)\n",
    "precision_score_dt = metrics.precision_score(y_test, y_pred_dt)\n",
    "recall_score_dt = metrics.recall_score(y_test, y_pred_dt)\n",
    "f1_score_dt = metrics.recall_score(y_test, y_pred_dt)"
   ],
   "metadata": {
    "collapsed": false,
    "pycharm": {
     "name": "#%%\n"
    }
   }
  },
  {
   "cell_type": "code",
   "execution_count": 83,
   "outputs": [
    {
     "name": "stdout",
     "output_type": "stream",
     "text": [
      "Sklearn Decision Tree Accuracy: 0.64\n",
      "Sklearn Decision Tree Precision: 0.8017241379310345\n",
      "Sklearn Decision Tree Recall: 0.75\n",
      "Sklearn Decision Tree F1-Score: 0.75\n"
     ]
    }
   ],
   "source": [
    "print(f\"Sklearn Decision Tree Accuracy: {accuracy_score_dt}\")\n",
    "print(f\"Sklearn Decision Tree Precision: {precision_score_dt}\")\n",
    "print(f\"Sklearn Decision Tree Recall: {recall_score_dt}\")\n",
    "print(f\"Sklearn Decision Tree F1-Score: {f1_score_dt}\")"
   ],
   "metadata": {
    "collapsed": false,
    "pycharm": {
     "name": "#%%\n"
    }
   }
  },
  {
   "cell_type": "markdown",
   "source": [
    "#### COLLECTION_PAIDOFF != PAIDOFF"
   ],
   "metadata": {
    "collapsed": false
   }
  },
  {
   "cell_type": "code",
   "execution_count": 77,
   "outputs": [
    {
     "name": "stdout",
     "output_type": "stream",
     "text": [
      "{'FN': 10.0, 'FP': 68.0, 'TN': 16.0, 'TP': 56.0}\n",
      "KNN Accuracy: 0.48\n",
      "KNN Precision: 0.45161290322580644\n",
      "KNN Recall: 0.8484848484848485\n",
      "KNN F1-Score: 0.5894736842105263\n"
     ]
    }
   ],
   "source": [
    "second_result = check_score(second_predict, y_test)\n",
    "print(second_result)\n",
    "print(f\"KNN Accuracy: {(second_result['TP']+second_result['TN'])/(second_result['TP']+second_result['TN']+second_result['FP']+second_result['FN'])}\")\n",
    "print(f\"KNN Precision: {(second_result['TP'])/(second_result['TP']+second_result['FP'])}\")\n",
    "print(f\"KNN Recall: {(second_result['TP'])/(second_result['TP']+second_result['FN'])}\")\n",
    "print(f\"KNN F1-Score: {(second_result['TP'])/(second_result['TP']+(0.5*(second_result['FN']+second_result['FP'])))}\")"
   ],
   "metadata": {
    "collapsed": false,
    "pycharm": {
     "name": "#%%\n"
    }
   }
  },
  {
   "cell_type": "code",
   "execution_count": 82,
   "outputs": [
    {
     "name": "stdout",
     "output_type": "stream",
     "text": [
      "Sklearn Logistic Regression Accuracy: 0.6333333333333333\n",
      "Sklearn Logistic Regression Precision: 0.6333333333333333\n",
      "Sklearn Logistic Regression Recall: 1.0\n",
      "Sklearn Logistic Regression F1-Score: 1.0\n"
     ]
    }
   ],
   "source": [
    "accuracy_score_2 = metrics.accuracy_score(y_test2, predict_logistic2)\n",
    "precision_score_2 = metrics.precision_score(y_test2, predict_logistic2)\n",
    "recall_score_2 = metrics.recall_score(y_test2, predict_logistic2)\n",
    "f1_score_2 = metrics.recall_score(y_test2, predict_logistic2)\n",
    "print(f\"Sklearn Logistic Regression Accuracy: {accuracy_score_2}\")\n",
    "print(f\"Sklearn Logistic Regression Precision: {precision_score_2}\")\n",
    "print(f\"Sklearn Logistic Regression Recall: {recall_score_2}\")\n",
    "print(f\"Sklearn Logistic Regression F1-Score: {f1_score_2}\")"
   ],
   "metadata": {
    "collapsed": false,
    "pycharm": {
     "name": "#%%\n"
    }
   }
  },
  {
   "cell_type": "code",
   "execution_count": 85,
   "outputs": [
    {
     "name": "stdout",
     "output_type": "stream",
     "text": [
      "Sklearn Logistic Regression Accuracy: 0.44\n",
      "Sklearn Logistic Regression Precision: 0.5733333333333334\n",
      "Sklearn Logistic Regression Recall: 0.45263157894736844\n",
      "Sklearn Logistic Regression F1-Score: 0.45263157894736844\n"
     ]
    }
   ],
   "source": [
    "accuracy_score_2_dt = metrics.accuracy_score(y_test2, y_pred2_dt)\n",
    "precision_score_2_dt = metrics.precision_score(y_test2, y_pred2_dt)\n",
    "recall_score_2_dt = metrics.recall_score(y_test2, y_pred2_dt)\n",
    "f1_score_2_dt = metrics.recall_score(y_test2, y_pred2_dt)\n",
    "print(f\"Sklearn Logistic Regression Accuracy: {accuracy_score_2_dt}\")\n",
    "print(f\"Sklearn Logistic Regression Precision: {precision_score_2_dt}\")\n",
    "print(f\"Sklearn Logistic Regression Recall: {recall_score_2_dt}\")\n",
    "print(f\"Sklearn Logistic Regression F1-Score: {f1_score_2_dt}\")"
   ],
   "metadata": {
    "collapsed": false,
    "pycharm": {
     "name": "#%%\n"
    }
   }
  },
  {
   "cell_type": "markdown",
   "source": [
    "|            Method           |              Case             |  Accuracy  |  Precision |   Recall   |  F1-Score  |\n",
    "|:---------------------------:|:-----------------------------:|:----------:|:----------:|:----------:|:----------:|\n",
    "|           Voda KNN          |  COLLECTION_PAIDOFF = PAIDOFF | 0.82666666 |     1.0    | 0.82666666 | 0.90510948 |\n",
    "| Sklearn Logistic Regression |  COLLECTION_PAIDOFF = PAIDOFF | 0.82666666 | 0.82666666 |     1.0    |     1.0    |\n",
    "|    Sklearn Decision Tree    |  COLLECTION_PAIDOFF = PAIDOFF |    0.64    | 0.80172413 |    0.75    |    0.75    |\n",
    "|           Voda KNN          | COLLECTION_PAIDOFF != PAIDOFF |    0.48    | 0.45161290 | 0.84848484 | 0.58947368 |\n",
    "| Sklearn Logistic Regression | COLLECTION_PAIDOFF != PAIDOFF | 0.63333333 | 0.63333333 |     1.0    |     1.0    |\n",
    "|    Sklearn Decision Tree    | COLLECTION_PAIDOFF != PAIDOFF |    0.44    | 0.57333333 | 0.45263157 | 0.45263157 |"
   ],
   "metadata": {
    "collapsed": false
   }
  },
  {
   "cell_type": "markdown",
   "source": [
    "## Conclusions on each model"
   ],
   "metadata": {
    "collapsed": false
   }
  },
  {
   "cell_type": "markdown",
   "source": [
    "* Voda KNN\n",
    "  * Voda's KNN algorithm tends to work in the same manner as Sklearn Logistic regression w.r.t performance, but when the dataset is balanced then Sklearn outperforms Voda's KNN algorithm, maybe due to more efficient and more logical decisions and maybe also there were took other than 2 features for computing the distance.\n",
    "  * With respect to the Decision Tree, Voda's KNN algorithm outperforms Decision Tree algorithm from any perspective\n",
    "* Sklearn Logistic Regression\n",
    "    * This algorithm performs a good performance on each type of dataset (balanced and imbalanced), even though the number of features and the diversity of the data is not that much\n",
    "* Sklearn Decision Tree\n",
    "    * This algorithms doesn't perform well when we have binary or not well distributed data, it quite tends to underfit the prediction since there are not so many features to analyze and not so many decisions to take."
   ],
   "metadata": {
    "collapsed": false
   }
  },
  {
   "cell_type": "markdown",
   "source": [],
   "metadata": {
    "collapsed": false
   }
  }
 ],
 "metadata": {
  "kernelspec": {
   "display_name": "Python 3",
   "language": "python",
   "name": "python3"
  },
  "language_info": {
   "codemirror_mode": {
    "name": "ipython",
    "version": 2
   },
   "file_extension": ".py",
   "mimetype": "text/x-python",
   "name": "python",
   "nbconvert_exporter": "python",
   "pygments_lexer": "ipython2",
   "version": "2.7.6"
  }
 },
 "nbformat": 4,
 "nbformat_minor": 0
}